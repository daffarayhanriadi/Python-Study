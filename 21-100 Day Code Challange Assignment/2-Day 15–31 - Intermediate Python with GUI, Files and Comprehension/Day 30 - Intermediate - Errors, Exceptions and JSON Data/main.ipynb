{
 "cells": [
  {
   "cell_type": "markdown",
   "metadata": {},
   "source": [
    "# **Errors, Exceptions and JSON Data**\n",
    "\n",
    "**Table of Contents:**\n",
    "1. `Errors & Exceptions Handling Using try-except-else-finally pattern`\n",
    "2. `Raise an Errors/Exceptions`"
   ]
  },
  {
   "cell_type": "markdown",
   "metadata": {},
   "source": [
    "**FileNotFound**"
   ]
  },
  {
   "cell_type": "code",
   "execution_count": 25,
   "metadata": {},
   "outputs": [],
   "source": [
    "with open(\"a_file.txt\") as file:\n",
    "    file.read()"
   ]
  },
  {
   "cell_type": "markdown",
   "metadata": {},
   "source": [
    "**KeyError**"
   ]
  },
  {
   "cell_type": "code",
   "execution_count": 26,
   "metadata": {},
   "outputs": [
    {
     "ename": "KeyError",
     "evalue": "'non_existent_key'",
     "output_type": "error",
     "traceback": [
      "\u001b[1;31m---------------------------------------------------------------------------\u001b[0m",
      "\u001b[1;31mKeyError\u001b[0m                                  Traceback (most recent call last)",
      "Cell \u001b[1;32mIn[26], line 2\u001b[0m\n\u001b[0;32m      1\u001b[0m a_dictionary \u001b[38;5;241m=\u001b[39m {\u001b[38;5;124m\"\u001b[39m\u001b[38;5;124mkey\u001b[39m\u001b[38;5;124m\"\u001b[39m: \u001b[38;5;124m\"\u001b[39m\u001b[38;5;124mvalue\u001b[39m\u001b[38;5;124m\"\u001b[39m}\n\u001b[1;32m----> 2\u001b[0m value \u001b[38;5;241m=\u001b[39m \u001b[43ma_dictionary\u001b[49m\u001b[43m[\u001b[49m\u001b[38;5;124;43m\"\u001b[39;49m\u001b[38;5;124;43mnon_existent_key\u001b[39;49m\u001b[38;5;124;43m\"\u001b[39;49m\u001b[43m]\u001b[49m\n",
      "\u001b[1;31mKeyError\u001b[0m: 'non_existent_key'"
     ]
    }
   ],
   "source": [
    "a_dictionary = {\"key\": \"value\"}\n",
    "value = a_dictionary[\"non_existent_key\"]"
   ]
  },
  {
   "cell_type": "markdown",
   "metadata": {},
   "source": [
    "**IndexError**"
   ]
  },
  {
   "cell_type": "code",
   "execution_count": 4,
   "metadata": {},
   "outputs": [
    {
     "ename": "IndexError",
     "evalue": "list index out of range",
     "output_type": "error",
     "traceback": [
      "\u001b[1;31m---------------------------------------------------------------------------\u001b[0m",
      "\u001b[1;31mIndexError\u001b[0m                                Traceback (most recent call last)",
      "Cell \u001b[1;32mIn[4], line 2\u001b[0m\n\u001b[0;32m      1\u001b[0m fruit_list \u001b[38;5;241m=\u001b[39m [\u001b[38;5;124m\"\u001b[39m\u001b[38;5;124mApple\u001b[39m\u001b[38;5;124m\"\u001b[39m, \u001b[38;5;124m\"\u001b[39m\u001b[38;5;124mBanana\u001b[39m\u001b[38;5;124m\"\u001b[39m, \u001b[38;5;124m\"\u001b[39m\u001b[38;5;124mPear\u001b[39m\u001b[38;5;124m\"\u001b[39m]\n\u001b[1;32m----> 2\u001b[0m fruit \u001b[38;5;241m=\u001b[39m \u001b[43mfruit_list\u001b[49m\u001b[43m[\u001b[49m\u001b[38;5;241;43m3\u001b[39;49m\u001b[43m]\u001b[49m\n",
      "\u001b[1;31mIndexError\u001b[0m: list index out of range"
     ]
    }
   ],
   "source": [
    "fruit_list = [\"Apple\", \"Banana\", \"Pear\"]\n",
    "fruit = fruit_list[3]"
   ]
  },
  {
   "cell_type": "markdown",
   "metadata": {},
   "source": [
    "**TypeError**"
   ]
  },
  {
   "cell_type": "code",
   "execution_count": 5,
   "metadata": {},
   "outputs": [
    {
     "ename": "TypeError",
     "evalue": "can only concatenate str (not \"int\") to str",
     "output_type": "error",
     "traceback": [
      "\u001b[1;31m---------------------------------------------------------------------------\u001b[0m",
      "\u001b[1;31mTypeError\u001b[0m                                 Traceback (most recent call last)",
      "Cell \u001b[1;32mIn[5], line 2\u001b[0m\n\u001b[0;32m      1\u001b[0m text \u001b[38;5;241m=\u001b[39m \u001b[38;5;124m\"\u001b[39m\u001b[38;5;124mabc\u001b[39m\u001b[38;5;124m\"\u001b[39m\n\u001b[1;32m----> 2\u001b[0m \u001b[38;5;28mprint\u001b[39m(\u001b[43mtext\u001b[49m\u001b[43m \u001b[49m\u001b[38;5;241;43m+\u001b[39;49m\u001b[43m \u001b[49m\u001b[38;5;241;43m5\u001b[39;49m)\n",
      "\u001b[1;31mTypeError\u001b[0m: can only concatenate str (not \"int\") to str"
     ]
    }
   ],
   "source": [
    "text = \"abc\"\n",
    "print(text + 5)"
   ]
  },
  {
   "cell_type": "markdown",
   "metadata": {},
   "source": [
    "### **Errors & Exceptions Handling Using try-except-else-finally pattern**"
   ]
  },
  {
   "cell_type": "code",
   "execution_count": 6,
   "metadata": {},
   "outputs": [
    {
     "name": "stdout",
     "output_type": "stream",
     "text": [
      "File was closed.\n"
     ]
    }
   ],
   "source": [
    "try:\n",
    "    file = open(\"a_file.txt\")\n",
    "    a_dictionary = {\"key\": \"value\"}\n",
    "    print(a_dictionary[\"key\"])\n",
    "except FileNotFoundError:\n",
    "    file = open(\"a_file.txt\", \"w\")\n",
    "    file.write(\"Something\")\n",
    "except KeyError as error_message:\n",
    "    print(f\"The key {error_message} does not exist.\")\n",
    "else:\n",
    "    content = file.read()\n",
    "    print(content)\n",
    "finally:\n",
    "    file.close() # type: ignore\n",
    "    print(\"File was closed.\")\n",
    "    # raise TypeError(\"This is  an error that I made up.\")"
   ]
  },
  {
   "cell_type": "markdown",
   "metadata": {},
   "source": [
    "### **Raise an Errors/Exceptions**"
   ]
  },
  {
   "cell_type": "code",
   "execution_count": 7,
   "metadata": {},
   "outputs": [
    {
     "ename": "ValueError",
     "evalue": "Human Height should not be over 3 meters.",
     "output_type": "error",
     "traceback": [
      "\u001b[1;31m---------------------------------------------------------------------------\u001b[0m",
      "\u001b[1;31mValueError\u001b[0m                                Traceback (most recent call last)",
      "Cell \u001b[1;32mIn[7], line 5\u001b[0m\n\u001b[0;32m      2\u001b[0m weight \u001b[38;5;241m=\u001b[39m \u001b[38;5;28mint\u001b[39m(\u001b[38;5;28minput\u001b[39m(\u001b[38;5;124m\"\u001b[39m\u001b[38;5;124mWeight: \u001b[39m\u001b[38;5;124m\"\u001b[39m))\n\u001b[0;32m      4\u001b[0m \u001b[38;5;28;01mif\u001b[39;00m height \u001b[38;5;241m>\u001b[39m \u001b[38;5;241m3\u001b[39m:\n\u001b[1;32m----> 5\u001b[0m     \u001b[38;5;28;01mraise\u001b[39;00m \u001b[38;5;167;01mValueError\u001b[39;00m(\u001b[38;5;124m\"\u001b[39m\u001b[38;5;124mHuman Height should not be over 3 meters.\u001b[39m\u001b[38;5;124m\"\u001b[39m)\n\u001b[0;32m      7\u001b[0m bmi \u001b[38;5;241m=\u001b[39m weight \u001b[38;5;241m/\u001b[39m height \u001b[38;5;241m*\u001b[39m\u001b[38;5;241m*\u001b[39m \u001b[38;5;241m2\u001b[39m\n\u001b[0;32m      8\u001b[0m \u001b[38;5;28mprint\u001b[39m(bmi)\n",
      "\u001b[1;31mValueError\u001b[0m: Human Height should not be over 3 meters."
     ]
    }
   ],
   "source": [
    "height = float(input(\"Height: \"))\n",
    "weight = int(input(\"Weight: \"))\n",
    "\n",
    "if height > 3:\n",
    "    raise ValueError(\"Human Height should not be over 3 meters.\")\n",
    "\n",
    "bmi = weight / height ** 2\n",
    "print(bmi)"
   ]
  },
  {
   "cell_type": "markdown",
   "metadata": {},
   "source": [
    "### **IndexError Handling - Practice**\n",
    "\n",
    "**Issue**<br/>\n",
    "We've got some buggy code. Try running the code. The code will crash and give you an `IndexError`. This is because we're looking through the list of `fruits` for an index that is out of range. \n",
    "\n",
    "**Objective**<br/>\n",
    "Use what you've learnt about exception handling to prevent the program from crashing. If the user enters something that is out of range just print a default output of `\"Fruit pie\"`. \n",
    "\n",
    "**IMPORTANT**: The exception handling should NOT allow each fruit to be printed when there is an exception. e.g. it should not print out Apple pie, Pear pie and Orange pie, when there is an exception it should only print \"Fruit pie\".\n",
    "\n",
    "<details>\n",
    "<summary>💡Hint</summary>\n",
    "\n",
    "1. You'll need to catch the `IndexError` exception. \n",
    "2. You'll need the `try`, `except` and `else` keywords.\n",
    "</details>"
   ]
  },
  {
   "cell_type": "code",
   "execution_count": 11,
   "metadata": {},
   "outputs": [
    {
     "name": "stdout",
     "output_type": "stream",
     "text": [
      "Fruit pie\n"
     ]
    }
   ],
   "source": [
    "fruits = [\"Apple\", \"Pear\", \"Orange\"]\n",
    "\n",
    "# Catch the exception and make sure the code runs without crashing.\n",
    "def make_pie(index):\n",
    "    try: \n",
    "        fruit = fruits[index]\n",
    "    except IndexError:\n",
    "        print(\"Fruit pie\")\n",
    "    else:\n",
    "        print(fruit + \" pie\")\n",
    "\n",
    "make_pie(4)\n"
   ]
  },
  {
   "cell_type": "markdown",
   "metadata": {},
   "source": [
    "**Alternative Solution**"
   ]
  },
  {
   "cell_type": "code",
   "execution_count": 12,
   "metadata": {},
   "outputs": [
    {
     "name": "stdout",
     "output_type": "stream",
     "text": [
      "Fruit pie\n"
     ]
    }
   ],
   "source": [
    "fruits = [\"Apple\", \"Pear\", \"Orange\"]\n",
    "\n",
    "# Catch the exception and make sure the code runs without crashing.\n",
    "def make_pie(index):\n",
    "    fruit = fruits[index]\n",
    "    print(fruit + \" pie\")\n",
    "\n",
    "try:\n",
    "    make_pie(4)\n",
    "except IndexError:\n",
    "    print(\"Fruit pie\")\n"
   ]
  },
  {
   "cell_type": "markdown",
   "metadata": {},
   "source": [
    "### **KeyError Handling - Practice**\n",
    "We've got some buggy code, try running the code. The code will crash and give you a **KeyError**. This is because some of the posts in the `facebook_posts` don't have any \"Likes\". \n",
    "\n",
    "**Objective**<br/>\n",
    "Use what you've learnt about exception handling to **prevent** the program from crashing. \n",
    "\n",
    "<details>\n",
    "<summary>💡Hint</summary>\n",
    "\n",
    "1. You'll need to catch the `KeyError` exception. \n",
    "2. Posts without any likes can be counted as 0 likes.\n",
    "</details>"
   ]
  },
  {
   "cell_type": "code",
   "execution_count": 19,
   "metadata": {},
   "outputs": [
    {
     "data": {
      "text/plain": [
       "86"
      ]
     },
     "execution_count": 19,
     "metadata": {},
     "output_type": "execute_result"
    }
   ],
   "source": [
    "facebook_posts = [\n",
    "    {'Likes': 21, 'Comments': 2},\n",
    "    {'Likes': 13, 'Comments': 2, 'Shares': 1},\n",
    "    {'Likes': 33, 'Comments': 8, 'Shares': 3},\n",
    "    {'Comments': 4, 'Shares': 2},\n",
    "    {'Comments': 1, 'Shares': 1},\n",
    "    {'Likes': 19, 'Comments': 3}\n",
    "]\n",
    "\n",
    "\n",
    "def count_likes(posts):\n",
    "\n",
    "    total_likes = 0\n",
    "    for post in posts:\n",
    "        try:\n",
    "            total_likes = total_likes + post['Likes']\n",
    "        except KeyError:\n",
    "            pass\n",
    "\n",
    "    return total_likes\n",
    "\n",
    "\n",
    "count_likes(facebook_posts)\n"
   ]
  },
  {
   "cell_type": "markdown",
   "metadata": {},
   "source": [
    "### **Exception Handling in the NATO Photenic Alphabet Project - Exercise (Day 26)**\n",
    "\n",
    "Catch the `KeyError` when a user enters a character that is not in the dictionary.\n",
    "\n",
    "Provide feedback to the user when an illegal word was entered.\n",
    "\n",
    "Continue prompting the user to enter another word until they enter a valid word."
   ]
  },
  {
   "cell_type": "code",
   "execution_count": 28,
   "metadata": {},
   "outputs": [
    {
     "name": "stdout",
     "output_type": "stream",
     "text": [
      "{'A': 'Alfa', 'B': 'Bravo', 'C': 'Charlie', 'D': 'Delta', 'E': 'Echo', 'F': 'Foxtrot', 'G': 'Golf', 'H': 'Hotel', 'I': 'India', 'J': 'Juliet', 'K': 'Kilo', 'L': 'Lima', 'M': 'Mike', 'N': 'November', 'O': 'Oscar', 'P': 'Papa', 'Q': 'Quebec', 'R': 'Romeo', 'S': 'Sierra', 'T': 'Tango', 'U': 'Uniform', 'V': 'Victor', 'W': 'Whiskey', 'X': 'X-ray', 'Y': 'Yankee', 'Z': 'Zulu'}\n",
      "Sorry, only letters in the alphabet please.\n",
      "Sorry, only letters in the alphabet please.\n",
      "Sorry, only letters in the alphabet please.\n",
      "['Delta', 'Alfa', 'Foxtrot', 'Foxtrot', 'Alfa']\n"
     ]
    }
   ],
   "source": [
    "import pandas as pd\n",
    "\n",
    "df = pd.read_csv(\"nato_phonetic_alphabet.csv\")\n",
    "\n",
    "phonetic_dict = {row.letter: row.code for (index, row) in df.iterrows()}\n",
    "print(phonetic_dict)\n",
    "\n",
    "def generate_phonetic():\n",
    "    word = input(\"Enter a word: \").upper()\n",
    "    try:\n",
    "        output_list = [phonetic_dict[letter] for letter in word]\n",
    "    except KeyError:\n",
    "        print(\"Sorry, only letters in the alphabet please.\")\n",
    "        generate_phonetic()\n",
    "    else:\n",
    "        print(output_list)\n",
    "        \n",
    "generate_phonetic()"
   ]
  },
  {
   "cell_type": "markdown",
   "metadata": {},
   "source": [
    "**Alternative Solution**"
   ]
  },
  {
   "cell_type": "code",
   "execution_count": 27,
   "metadata": {},
   "outputs": [
    {
     "name": "stdout",
     "output_type": "stream",
     "text": [
      "{'A': 'Alfa', 'B': 'Bravo', 'C': 'Charlie', 'D': 'Delta', 'E': 'Echo', 'F': 'Foxtrot', 'G': 'Golf', 'H': 'Hotel', 'I': 'India', 'J': 'Juliet', 'K': 'Kilo', 'L': 'Lima', 'M': 'Mike', 'N': 'November', 'O': 'Oscar', 'P': 'Papa', 'Q': 'Quebec', 'R': 'Romeo', 'S': 'Sierra', 'T': 'Tango', 'U': 'Uniform', 'V': 'Victor', 'W': 'Whiskey', 'X': 'X-ray', 'Y': 'Yankee', 'Z': 'Zulu'}\n",
      "Sorry, only letters in the alphabet please.\n",
      "Sorry, only letters in the alphabet please.\n",
      "['Alfa', 'Sierra', 'Delta']\n"
     ]
    }
   ],
   "source": [
    "import pandas as pd\n",
    "\n",
    "df = pd.read_csv(\"nato_phonetic_alphabet.csv\")\n",
    "\n",
    "phonetic_dict = {row.letter: row.code for (index, row) in df.iterrows()}\n",
    "print(phonetic_dict)\n",
    "\n",
    "while True:\n",
    "    try:\n",
    "        word = input(\"Enter a word: \").upper()\n",
    "        if word.isdigit():\n",
    "            raise KeyError\n",
    "        else:\n",
    "            break\n",
    "    except KeyError:\n",
    "        print(\"Sorry, only letters in the alphabet please.\")\n",
    "\n",
    "output_list = [phonetic_dict[letter] for letter in word]\n",
    "print(output_list)"
   ]
  }
 ],
 "metadata": {
  "kernelspec": {
   "display_name": ".venv",
   "language": "python",
   "name": "python3"
  },
  "language_info": {
   "codemirror_mode": {
    "name": "ipython",
    "version": 3
   },
   "file_extension": ".py",
   "mimetype": "text/x-python",
   "name": "python",
   "nbconvert_exporter": "python",
   "pygments_lexer": "ipython3",
   "version": "3.12.4"
  }
 },
 "nbformat": 4,
 "nbformat_minor": 2
}
