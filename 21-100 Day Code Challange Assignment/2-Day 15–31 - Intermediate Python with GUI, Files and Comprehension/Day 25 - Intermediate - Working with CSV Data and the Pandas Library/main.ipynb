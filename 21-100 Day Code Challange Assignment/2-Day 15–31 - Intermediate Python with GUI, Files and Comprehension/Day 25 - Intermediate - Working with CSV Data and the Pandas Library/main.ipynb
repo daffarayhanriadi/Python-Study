{
 "cells": [
  {
   "cell_type": "markdown",
   "id": "a50cbaeff8468bd1",
   "metadata": {},
   "source": [
    "# **Working with CSV Data and the Pandas Library**\n",
    "\n",
    "**Table of Contents:**\n",
    "1. `CSV Library`\n",
    "2. `Pandas Library`\n",
    "   * `Pandas Data Type` \n",
    "     * `DataFrame (2-Dimensional)`\n",
    "     * `Series (1-Dimensional)`\n",
    "3. `Convert DataFrame Type to Other Data Type`\n",
    "4. `Convert Series Type to Other Data Type`\n",
    "5. `Get data in column (Sensitive Case)`\n",
    "6. `Get data in row`\n",
    "7. `Get data from the row data`\n",
    "8.  `Create a DataFrame from scratch`\n",
    "9.  `Convert DataFrame from scratch to a CSV File`"
   ]
  },
  {
   "cell_type": "markdown",
   "id": "54f73f27",
   "metadata": {},
   "source": [
    "### **Challenge-1**\n",
    "Open up the `weather_data.csv` file inside `main.py` and add each line of data into a list wich we'll call data.\n",
    "\n",
    "Open the `weather_data.csv`. Use `.readlines()` to create a list named data that contains the values from the `.csv` file."
   ]
  },
  {
   "cell_type": "code",
   "execution_count": 15,
   "id": "initial_id",
   "metadata": {
    "collapsed": true
   },
   "outputs": [
    {
     "name": "stdout",
     "output_type": "stream",
     "text": [
      "['day,temp,condition\\n', 'Monday,12,Sunny\\n', 'Tuesday,14,Rain\\n', 'Wednesday,15,Rain\\n', 'Thursday,14,Cloudy\\n', 'Friday,21,Sunny\\n', 'Saturday,22,Sunny\\n', 'Sunday,24,Sunny']\n"
     ]
    }
   ],
   "source": [
    "with open(\"weather_data.csv\") as data_file:\n",
    "    data = data_file.readlines()\n",
    "    print(data)"
   ]
  },
  {
   "cell_type": "markdown",
   "id": "0095fbed",
   "metadata": {},
   "source": [
    "### **CSV Library**\n",
    "**Alternative Solution Above Code (From Course)**"
   ]
  },
  {
   "cell_type": "code",
   "execution_count": 14,
   "id": "748588de",
   "metadata": {},
   "outputs": [
    {
     "name": "stdout",
     "output_type": "stream",
     "text": [
      "<_csv.reader object at 0x0000019117262740>\n",
      "['day', 'temp', 'condition']\n",
      "['Monday', '12', 'Sunny']\n",
      "['Tuesday', '14', 'Rain']\n",
      "['Wednesday', '15', 'Rain']\n",
      "['Thursday', '14', 'Cloudy']\n",
      "['Friday', '21', 'Sunny']\n",
      "['Saturday', '22', 'Sunny']\n",
      "['Sunday', '24', 'Sunny']\n"
     ]
    }
   ],
   "source": [
    "import csv\n",
    "\n",
    "with open(\"weather_data.csv\") as data_file:\n",
    "    data = csv.reader(data_file) # Return Object\n",
    "    print(data)\n",
    "    for row in data: # The object can be looped through\n",
    "        print(row)"
   ]
  },
  {
   "cell_type": "markdown",
   "id": "61654aaf3cd74da4",
   "metadata": {},
   "source": [
    "### **Challenge-2**\n",
    "Add the temperature from each row in interger format"
   ]
  },
  {
   "cell_type": "code",
   "execution_count": 29,
   "id": "7c0c02d632e2580c",
   "metadata": {},
   "outputs": [
    {
     "name": "stdout",
     "output_type": "stream",
     "text": [
      "[12, 14, 15, 14, 21, 22, 24]\n"
     ]
    }
   ],
   "source": [
    "import csv\n",
    "\n",
    "with open(\"weather_data.csv\") as data_file:\n",
    "    data = csv.reader(data_file)\n",
    "    temperatures = []\n",
    "    for row in data:\n",
    "        if row[1] != \"temp\":\n",
    "            temperatures.append(int(row[1]))\n",
    "    print(temperatures)"
   ]
  },
  {
   "cell_type": "markdown",
   "id": "cac2eb46",
   "metadata": {},
   "source": [
    "**Alternative Solution**"
   ]
  },
  {
   "cell_type": "code",
   "execution_count": 36,
   "id": "29faad06",
   "metadata": {},
   "outputs": [
    {
     "name": "stdout",
     "output_type": "stream",
     "text": [
      "[12, 14, 15, 14, 21, 22, 24]\n"
     ]
    }
   ],
   "source": [
    "import csv\n",
    "\n",
    "with open(\"weather_data.csv\") as data_file:\n",
    "    data = csv.reader(data_file)\n",
    "    temperatures = []\n",
    "    for row in data:\n",
    "        temperatures.append(row[1])\n",
    "    temperatures.pop(0)\n",
    "\n",
    "    final_temperatures = []\n",
    "    for temp in temperatures:\n",
    "        final_temperatures.append(int(temp))\n",
    "    print(final_temperatures)"
   ]
  },
  {
   "cell_type": "markdown",
   "id": "c677c98d",
   "metadata": {},
   "source": [
    "### **Pandas Library**\n",
    "Another Way to Read Files"
   ]
  },
  {
   "cell_type": "code",
   "execution_count": 2,
   "id": "d0fff0fe",
   "metadata": {},
   "outputs": [
    {
     "name": "stdout",
     "output_type": "stream",
     "text": [
      "<class 'pandas.core.frame.DataFrame'>\n"
     ]
    }
   ],
   "source": [
    "import pandas\n",
    "\n",
    "df_data = pandas.read_csv(\"weather_data.csv\") # DataFrame Type\n",
    "print(type(df_data))"
   ]
  },
  {
   "cell_type": "code",
   "execution_count": 48,
   "id": "8c2c7f5d",
   "metadata": {},
   "outputs": [
    {
     "name": "stdout",
     "output_type": "stream",
     "text": [
      "         day  temp condition\n",
      "0     Monday    12     Sunny\n",
      "1    Tuesday    14      Rain\n",
      "2  Wednesday    15      Rain\n",
      "3   Thursday    14    Cloudy\n",
      "4     Friday    21     Sunny\n",
      "5   Saturday    22     Sunny\n",
      "6     Sunday    24     Sunny\n"
     ]
    }
   ],
   "source": [
    "print(df_data)"
   ]
  },
  {
   "cell_type": "code",
   "execution_count": 49,
   "id": "3cf77305",
   "metadata": {},
   "outputs": [
    {
     "name": "stdout",
     "output_type": "stream",
     "text": [
      "<class 'pandas.core.series.Series'>\n"
     ]
    }
   ],
   "source": [
    "s_data = df_data[\"temp\"] # Series Type\n",
    "print(type(s_data))"
   ]
  },
  {
   "cell_type": "code",
   "execution_count": 50,
   "id": "df42eb4f",
   "metadata": {},
   "outputs": [
    {
     "name": "stdout",
     "output_type": "stream",
     "text": [
      "0    12\n",
      "1    14\n",
      "2    15\n",
      "3    14\n",
      "4    21\n",
      "5    22\n",
      "6    24\n",
      "Name: temp, dtype: int64\n"
     ]
    }
   ],
   "source": [
    "print(s_data)"
   ]
  },
  {
   "cell_type": "markdown",
   "id": "3366f589",
   "metadata": {},
   "source": [
    "### **Convert DataFrame Type To Dictionary**"
   ]
  },
  {
   "cell_type": "code",
   "execution_count": 51,
   "id": "c313de77",
   "metadata": {},
   "outputs": [
    {
     "name": "stdout",
     "output_type": "stream",
     "text": [
      "{'day': {0: 'Monday', 1: 'Tuesday', 2: 'Wednesday', 3: 'Thursday', 4: 'Friday', 5: 'Saturday', 6: 'Sunday'}, 'temp': {0: 12, 1: 14, 2: 15, 3: 14, 4: 21, 5: 22, 6: 24}, 'condition': {0: 'Sunny', 1: 'Rain', 2: 'Rain', 3: 'Cloudy', 4: 'Sunny', 5: 'Sunny', 6: 'Sunny'}}\n"
     ]
    }
   ],
   "source": [
    "data_dict = df_data.to_dict()\n",
    "print(data_dict)"
   ]
  },
  {
   "cell_type": "markdown",
   "id": "e85d8241",
   "metadata": {},
   "source": [
    "### **Convert Series Type To List**"
   ]
  },
  {
   "cell_type": "code",
   "execution_count": 53,
   "id": "0f9e12da",
   "metadata": {},
   "outputs": [
    {
     "name": "stdout",
     "output_type": "stream",
     "text": [
      "[12, 14, 15, 14, 21, 22, 24]\n"
     ]
    }
   ],
   "source": [
    "data_list = s_data.to_list()\n",
    "print(data_list)"
   ]
  },
  {
   "cell_type": "markdown",
   "id": "30c6d100",
   "metadata": {},
   "source": [
    "### **Challenge-3**\n",
    "Calculate the average of temperature in temperature column"
   ]
  },
  {
   "cell_type": "code",
   "execution_count": 54,
   "id": "9ae5d6e3",
   "metadata": {},
   "outputs": [
    {
     "name": "stdout",
     "output_type": "stream",
     "text": [
      "17.428571428571427\n"
     ]
    }
   ],
   "source": [
    "data_avg_temp = df_data[\"temp\"].mean()\n",
    "print(data_avg_temp)"
   ]
  },
  {
   "cell_type": "markdown",
   "id": "425a2f39",
   "metadata": {},
   "source": [
    "**Alternative Solution**"
   ]
  },
  {
   "cell_type": "code",
   "execution_count": 55,
   "id": "0c8affca",
   "metadata": {},
   "outputs": [
    {
     "name": "stdout",
     "output_type": "stream",
     "text": [
      "17.428571428571427\n"
     ]
    }
   ],
   "source": [
    "data_avg_temp = sum(data_list) / len(data_list)\n",
    "print(data_avg_temp)"
   ]
  },
  {
   "cell_type": "markdown",
   "id": "c5275aa8",
   "metadata": {},
   "source": [
    "### **Challenge-4**\n",
    "Get the maximum value of temperature by using one of the data series method"
   ]
  },
  {
   "cell_type": "code",
   "execution_count": 56,
   "id": "465bb545",
   "metadata": {},
   "outputs": [
    {
     "name": "stdout",
     "output_type": "stream",
     "text": [
      "24\n"
     ]
    }
   ],
   "source": [
    "data_max_temp = df_data[\"temp\"].max()\n",
    "print(data_max_temp)"
   ]
  },
  {
   "cell_type": "markdown",
   "id": "3fcba489",
   "metadata": {},
   "source": [
    "### **Get Data In Column (Sensitive Case (Capital & Non-Capital))**"
   ]
  },
  {
   "cell_type": "code",
   "execution_count": 58,
   "id": "3142f96e",
   "metadata": {},
   "outputs": [
    {
     "name": "stdout",
     "output_type": "stream",
     "text": [
      "0     Sunny\n",
      "1      Rain\n",
      "2      Rain\n",
      "3    Cloudy\n",
      "4     Sunny\n",
      "5     Sunny\n",
      "6     Sunny\n",
      "Name: condition, dtype: object\n"
     ]
    }
   ],
   "source": [
    "print(df_data[\"condition\"])"
   ]
  },
  {
   "cell_type": "code",
   "execution_count": 59,
   "id": "bd020678",
   "metadata": {},
   "outputs": [
    {
     "name": "stdout",
     "output_type": "stream",
     "text": [
      "0     Sunny\n",
      "1      Rain\n",
      "2      Rain\n",
      "3    Cloudy\n",
      "4     Sunny\n",
      "5     Sunny\n",
      "6     Sunny\n",
      "Name: condition, dtype: object\n"
     ]
    }
   ],
   "source": [
    "print(df_data.condition)"
   ]
  },
  {
   "cell_type": "markdown",
   "id": "f4d5252d",
   "metadata": {},
   "source": [
    "### **Get Data In Row**"
   ]
  },
  {
   "cell_type": "code",
   "execution_count": 60,
   "id": "9df462b2",
   "metadata": {},
   "outputs": [
    {
     "name": "stdout",
     "output_type": "stream",
     "text": [
      "      day  temp condition\n",
      "0  Monday    12     Sunny\n"
     ]
    }
   ],
   "source": [
    "print(df_data[df_data.day == \"Monday\"])"
   ]
  },
  {
   "cell_type": "markdown",
   "id": "c002240c",
   "metadata": {},
   "source": [
    "**Get all the Sunny condition from the condition column in row**"
   ]
  },
  {
   "cell_type": "code",
   "execution_count": 3,
   "id": "329d4422",
   "metadata": {},
   "outputs": [
    {
     "name": "stdout",
     "output_type": "stream",
     "text": [
      "        day  temp condition\n",
      "0    Monday    12     Sunny\n",
      "4    Friday    21     Sunny\n",
      "5  Saturday    22     Sunny\n",
      "6    Sunday    24     Sunny\n"
     ]
    }
   ],
   "source": [
    "print(df_data[df_data.condition == \"Sunny\"])"
   ]
  },
  {
   "cell_type": "markdown",
   "id": "2f1de6e1",
   "metadata": {},
   "source": [
    "**Get the highest temperature data from the temperature column in row form**"
   ]
  },
  {
   "cell_type": "code",
   "execution_count": 61,
   "id": "32247498",
   "metadata": {},
   "outputs": [
    {
     "name": "stdout",
     "output_type": "stream",
     "text": [
      "      day  temp condition\n",
      "6  Sunday    24     Sunny\n"
     ]
    }
   ],
   "source": [
    "print(df_data[df_data.temp == df_data[\"temp\"].max()])"
   ]
  },
  {
   "cell_type": "markdown",
   "id": "c0d64c44",
   "metadata": {},
   "source": [
    "### **Get Data From The Row Data**"
   ]
  },
  {
   "cell_type": "code",
   "execution_count": 4,
   "id": "68efc69b",
   "metadata": {},
   "outputs": [
    {
     "name": "stdout",
     "output_type": "stream",
     "text": [
      "      day  temp condition\n",
      "0  Monday    12     Sunny\n"
     ]
    }
   ],
   "source": [
    "monday = df_data[df_data.day == \"Monday\"]\n",
    "print(monday)"
   ]
  },
  {
   "cell_type": "markdown",
   "id": "9af377fa",
   "metadata": {},
   "source": [
    "**Get the condition column data from the row data**"
   ]
  },
  {
   "cell_type": "code",
   "execution_count": 5,
   "id": "35ece20a",
   "metadata": {},
   "outputs": [
    {
     "name": "stdout",
     "output_type": "stream",
     "text": [
      "0    Sunny\n",
      "Name: condition, dtype: object\n"
     ]
    }
   ],
   "source": [
    "print(monday.condition)"
   ]
  },
  {
   "cell_type": "code",
   "execution_count": 8,
   "id": "4d7c169d",
   "metadata": {},
   "outputs": [
    {
     "name": "stdout",
     "output_type": "stream",
     "text": [
      "        day  temp condition\n",
      "0    Monday    12     Sunny\n",
      "4    Friday    21     Sunny\n",
      "5  Saturday    22     Sunny\n",
      "6    Sunday    24     Sunny\n"
     ]
    }
   ],
   "source": [
    "sunny = df_data[df_data[\"condition\"] == \"Sunny\"]\n",
    "print(sunny)"
   ]
  },
  {
   "cell_type": "code",
   "execution_count": 11,
   "id": "7088ca17",
   "metadata": {},
   "outputs": [
    {
     "name": "stdout",
     "output_type": "stream",
     "text": [
      "12\n"
     ]
    }
   ],
   "source": [
    "print(sunny.temp[0])"
   ]
  },
  {
   "cell_type": "code",
   "execution_count": 12,
   "id": "7e82d01f",
   "metadata": {},
   "outputs": [
    {
     "ename": "KeyError",
     "evalue": "1",
     "output_type": "error",
     "traceback": [
      "\u001b[1;31m---------------------------------------------------------------------------\u001b[0m",
      "\u001b[1;31mKeyError\u001b[0m                                  Traceback (most recent call last)",
      "File \u001b[1;32md:\\Me\\Study\\UDEMY\\Complete-Python-3-Bootcamp\\.venv\\Lib\\site-packages\\pandas\\core\\indexes\\base.py:3805\u001b[0m, in \u001b[0;36mIndex.get_loc\u001b[1;34m(self, key)\u001b[0m\n\u001b[0;32m   3804\u001b[0m \u001b[38;5;28;01mtry\u001b[39;00m:\n\u001b[1;32m-> 3805\u001b[0m     \u001b[38;5;28;01mreturn\u001b[39;00m \u001b[38;5;28;43mself\u001b[39;49m\u001b[38;5;241;43m.\u001b[39;49m\u001b[43m_engine\u001b[49m\u001b[38;5;241;43m.\u001b[39;49m\u001b[43mget_loc\u001b[49m\u001b[43m(\u001b[49m\u001b[43mcasted_key\u001b[49m\u001b[43m)\u001b[49m\n\u001b[0;32m   3806\u001b[0m \u001b[38;5;28;01mexcept\u001b[39;00m \u001b[38;5;167;01mKeyError\u001b[39;00m \u001b[38;5;28;01mas\u001b[39;00m err:\n",
      "File \u001b[1;32mindex.pyx:167\u001b[0m, in \u001b[0;36mpandas._libs.index.IndexEngine.get_loc\u001b[1;34m()\u001b[0m\n",
      "File \u001b[1;32mindex.pyx:196\u001b[0m, in \u001b[0;36mpandas._libs.index.IndexEngine.get_loc\u001b[1;34m()\u001b[0m\n",
      "File \u001b[1;32mpandas\\\\_libs\\\\hashtable_class_helper.pxi:2606\u001b[0m, in \u001b[0;36mpandas._libs.hashtable.Int64HashTable.get_item\u001b[1;34m()\u001b[0m\n",
      "File \u001b[1;32mpandas\\\\_libs\\\\hashtable_class_helper.pxi:2630\u001b[0m, in \u001b[0;36mpandas._libs.hashtable.Int64HashTable.get_item\u001b[1;34m()\u001b[0m\n",
      "\u001b[1;31mKeyError\u001b[0m: 1",
      "\nThe above exception was the direct cause of the following exception:\n",
      "\u001b[1;31mKeyError\u001b[0m                                  Traceback (most recent call last)",
      "Cell \u001b[1;32mIn[12], line 1\u001b[0m\n\u001b[1;32m----> 1\u001b[0m \u001b[38;5;28mprint\u001b[39m(\u001b[43msunny\u001b[49m\u001b[38;5;241;43m.\u001b[39;49m\u001b[43mtemp\u001b[49m\u001b[43m[\u001b[49m\u001b[38;5;241;43m1\u001b[39;49m\u001b[43m]\u001b[49m)\n",
      "File \u001b[1;32md:\\Me\\Study\\UDEMY\\Complete-Python-3-Bootcamp\\.venv\\Lib\\site-packages\\pandas\\core\\series.py:1121\u001b[0m, in \u001b[0;36mSeries.__getitem__\u001b[1;34m(self, key)\u001b[0m\n\u001b[0;32m   1118\u001b[0m     \u001b[38;5;28;01mreturn\u001b[39;00m \u001b[38;5;28mself\u001b[39m\u001b[38;5;241m.\u001b[39m_values[key]\n\u001b[0;32m   1120\u001b[0m \u001b[38;5;28;01melif\u001b[39;00m key_is_scalar:\n\u001b[1;32m-> 1121\u001b[0m     \u001b[38;5;28;01mreturn\u001b[39;00m \u001b[38;5;28;43mself\u001b[39;49m\u001b[38;5;241;43m.\u001b[39;49m\u001b[43m_get_value\u001b[49m\u001b[43m(\u001b[49m\u001b[43mkey\u001b[49m\u001b[43m)\u001b[49m\n\u001b[0;32m   1123\u001b[0m \u001b[38;5;66;03m# Convert generator to list before going through hashable part\u001b[39;00m\n\u001b[0;32m   1124\u001b[0m \u001b[38;5;66;03m# (We will iterate through the generator there to check for slices)\u001b[39;00m\n\u001b[0;32m   1125\u001b[0m \u001b[38;5;28;01mif\u001b[39;00m is_iterator(key):\n",
      "File \u001b[1;32md:\\Me\\Study\\UDEMY\\Complete-Python-3-Bootcamp\\.venv\\Lib\\site-packages\\pandas\\core\\series.py:1237\u001b[0m, in \u001b[0;36mSeries._get_value\u001b[1;34m(self, label, takeable)\u001b[0m\n\u001b[0;32m   1234\u001b[0m     \u001b[38;5;28;01mreturn\u001b[39;00m \u001b[38;5;28mself\u001b[39m\u001b[38;5;241m.\u001b[39m_values[label]\n\u001b[0;32m   1236\u001b[0m \u001b[38;5;66;03m# Similar to Index.get_value, but we do not fall back to positional\u001b[39;00m\n\u001b[1;32m-> 1237\u001b[0m loc \u001b[38;5;241m=\u001b[39m \u001b[38;5;28;43mself\u001b[39;49m\u001b[38;5;241;43m.\u001b[39;49m\u001b[43mindex\u001b[49m\u001b[38;5;241;43m.\u001b[39;49m\u001b[43mget_loc\u001b[49m\u001b[43m(\u001b[49m\u001b[43mlabel\u001b[49m\u001b[43m)\u001b[49m\n\u001b[0;32m   1239\u001b[0m \u001b[38;5;28;01mif\u001b[39;00m is_integer(loc):\n\u001b[0;32m   1240\u001b[0m     \u001b[38;5;28;01mreturn\u001b[39;00m \u001b[38;5;28mself\u001b[39m\u001b[38;5;241m.\u001b[39m_values[loc]\n",
      "File \u001b[1;32md:\\Me\\Study\\UDEMY\\Complete-Python-3-Bootcamp\\.venv\\Lib\\site-packages\\pandas\\core\\indexes\\base.py:3812\u001b[0m, in \u001b[0;36mIndex.get_loc\u001b[1;34m(self, key)\u001b[0m\n\u001b[0;32m   3807\u001b[0m     \u001b[38;5;28;01mif\u001b[39;00m \u001b[38;5;28misinstance\u001b[39m(casted_key, \u001b[38;5;28mslice\u001b[39m) \u001b[38;5;129;01mor\u001b[39;00m (\n\u001b[0;32m   3808\u001b[0m         \u001b[38;5;28misinstance\u001b[39m(casted_key, abc\u001b[38;5;241m.\u001b[39mIterable)\n\u001b[0;32m   3809\u001b[0m         \u001b[38;5;129;01mand\u001b[39;00m \u001b[38;5;28many\u001b[39m(\u001b[38;5;28misinstance\u001b[39m(x, \u001b[38;5;28mslice\u001b[39m) \u001b[38;5;28;01mfor\u001b[39;00m x \u001b[38;5;129;01min\u001b[39;00m casted_key)\n\u001b[0;32m   3810\u001b[0m     ):\n\u001b[0;32m   3811\u001b[0m         \u001b[38;5;28;01mraise\u001b[39;00m InvalidIndexError(key)\n\u001b[1;32m-> 3812\u001b[0m     \u001b[38;5;28;01mraise\u001b[39;00m \u001b[38;5;167;01mKeyError\u001b[39;00m(key) \u001b[38;5;28;01mfrom\u001b[39;00m\u001b[38;5;250m \u001b[39m\u001b[38;5;21;01merr\u001b[39;00m\n\u001b[0;32m   3813\u001b[0m \u001b[38;5;28;01mexcept\u001b[39;00m \u001b[38;5;167;01mTypeError\u001b[39;00m:\n\u001b[0;32m   3814\u001b[0m     \u001b[38;5;66;03m# If we have a listlike key, _check_indexing_error will raise\u001b[39;00m\n\u001b[0;32m   3815\u001b[0m     \u001b[38;5;66;03m#  InvalidIndexError. Otherwise we fall through and re-raise\u001b[39;00m\n\u001b[0;32m   3816\u001b[0m     \u001b[38;5;66;03m#  the TypeError.\u001b[39;00m\n\u001b[0;32m   3817\u001b[0m     \u001b[38;5;28mself\u001b[39m\u001b[38;5;241m.\u001b[39m_check_indexing_error(key)\n",
      "\u001b[1;31mKeyError\u001b[0m: 1"
     ]
    }
   ],
   "source": [
    "print(sunny.temp[1]) # Error because the 1's index from the sunny is not available (0, 4, 5, 6)"
   ]
  },
  {
   "cell_type": "code",
   "execution_count": 14,
   "id": "06d23435",
   "metadata": {},
   "outputs": [
    {
     "name": "stdout",
     "output_type": "stream",
     "text": [
      "21\n"
     ]
    }
   ],
   "source": [
    "print(sunny.temp[4])"
   ]
  },
  {
   "cell_type": "markdown",
   "id": "e4ccc297",
   "metadata": {},
   "source": [
    "### **Challenge-5**\n",
    "Convert Monday's temperature to Fahrenheit.\n",
    "\n",
    "Hint: use `[]` to get a single value from the pandas Series by index."
   ]
  },
  {
   "cell_type": "code",
   "execution_count": 66,
   "id": "94eb1a8d",
   "metadata": {},
   "outputs": [
    {
     "name": "stdout",
     "output_type": "stream",
     "text": [
      "53.6\n"
     ]
    }
   ],
   "source": [
    "monday_temp = monday.temp[0] # Output: 12\n",
    "monday_temp_F = monday_temp * 9/5 + 32 # Output 53.6\n",
    "print(monday_temp_F)"
   ]
  },
  {
   "cell_type": "markdown",
   "id": "bdcc3783",
   "metadata": {},
   "source": [
    "**Alternative Solution (Not Really True)**"
   ]
  },
  {
   "cell_type": "code",
   "execution_count": 71,
   "id": "a30e717b",
   "metadata": {},
   "outputs": [
    {
     "name": "stdout",
     "output_type": "stream",
     "text": [
      "0    53.6\n",
      "Name: temp, dtype: float64\n"
     ]
    }
   ],
   "source": [
    "def f(c):\n",
    "    c = c * 1.8 + 32\n",
    "    return c\n",
    "\n",
    "monday_temp = monday[\"temp\"].apply(f)\n",
    "print(monday_temp)"
   ]
  },
  {
   "cell_type": "markdown",
   "id": "6cbacb11",
   "metadata": {},
   "source": [
    "### **Create a DataFrame From Scratch**"
   ]
  },
  {
   "cell_type": "code",
   "execution_count": 72,
   "id": "9dda0a19",
   "metadata": {},
   "outputs": [
    {
     "name": "stdout",
     "output_type": "stream",
     "text": [
      "  students  scores\n",
      "0      Amy      76\n",
      "1    James      56\n",
      "2   Angela      65\n"
     ]
    }
   ],
   "source": [
    "import pandas\n",
    "data_dict = {\n",
    "    \"students\": [\"Amy\", \"James\", \"Angela\"],\n",
    "    \"scores\": [76, 56, 65],\n",
    "}\n",
    "\n",
    "data = pandas.DataFrame(data_dict)\n",
    "print(data)"
   ]
  },
  {
   "cell_type": "markdown",
   "id": "59a355e1",
   "metadata": {},
   "source": [
    "### **Create a CSV File From The DataFrame**"
   ]
  },
  {
   "cell_type": "code",
   "execution_count": 73,
   "id": "c6958495",
   "metadata": {},
   "outputs": [],
   "source": [
    "data.to_csv(\"new_data.csv\")"
   ]
  },
  {
   "cell_type": "markdown",
   "id": "58a3d348",
   "metadata": {},
   "source": [
    "### **Challenge-6**\n",
    "Create a DataFrame from the Primary Fur Color, Calculate each color, then create a CSV File."
   ]
  },
  {
   "cell_type": "code",
   "execution_count": 113,
   "id": "f066b273",
   "metadata": {},
   "outputs": [],
   "source": [
    "import pandas as pd\n",
    "\n",
    "df_data = pd.read_csv(\"2018_Central.csv\")\n",
    "\n",
    "gray_squirrel_count = len(df_data[df_data[\"Primary Fur Color\"] == \"Gray\"])\n",
    "cinnamon_squirrel_count = len(df_data[df_data[\"Primary Fur Color\"] == \"Cinnamon\"])\n",
    "black_squirrel_count = len(df_data[df_data[\"Primary Fur Color\"] == \"Black\"])\n",
    "\n",
    "fur_color_dict = {\n",
    "    \"Fur Color\": [\"Gray\", \"Cinnamon\", \"Black\"],\n",
    "    \"Count\": [gray_squirrel_count, cinnamon_squirrel_count, black_squirrel_count]\n",
    "}\n",
    "\n",
    "df = pd.DataFrame(fur_color_dict)\n",
    "df.to_csv(\"squirrel_count.csv\")"
   ]
  },
  {
   "cell_type": "markdown",
   "id": "6a39a846",
   "metadata": {},
   "source": [
    "**Alternative Solution**"
   ]
  },
  {
   "cell_type": "code",
   "execution_count": 116,
   "id": "256ff084",
   "metadata": {},
   "outputs": [],
   "source": [
    "s_data = df_data[\"Primary Fur Color\"]\n",
    "s_data = s_data.astype(\"category\")\n",
    "# print(s_data)\n",
    "\n",
    "squirrel_fur_color = df_data.groupby(\"Primary Fur Color\").size().reset_index(name=\"counts\")\n",
    "# print(squirrel_fur_color)\n",
    "\n",
    "squirrel_fur_color.to_csv(\"squirrel_fur_color.csv\")"
   ]
  }
 ],
 "metadata": {
  "kernelspec": {
   "display_name": ".venv",
   "language": "python",
   "name": "python3"
  },
  "language_info": {
   "codemirror_mode": {
    "name": "ipython",
    "version": 3
   },
   "file_extension": ".py",
   "mimetype": "text/x-python",
   "name": "python",
   "nbconvert_exporter": "python",
   "pygments_lexer": "ipython3",
   "version": "3.12.4"
  }
 },
 "nbformat": 4,
 "nbformat_minor": 5
}
