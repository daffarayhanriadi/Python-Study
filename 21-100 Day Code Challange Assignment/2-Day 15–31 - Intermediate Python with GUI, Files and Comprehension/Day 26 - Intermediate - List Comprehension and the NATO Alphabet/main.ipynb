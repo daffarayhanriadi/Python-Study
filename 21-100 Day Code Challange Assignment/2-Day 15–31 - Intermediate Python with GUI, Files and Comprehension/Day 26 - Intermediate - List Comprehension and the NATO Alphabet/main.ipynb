{
 "cells": [
  {
   "cell_type": "markdown",
   "metadata": {},
   "source": [
    "# List & Dictionary Comprehension and Looping with Pandas\n",
    "\n",
    "**Table of Contents:**\n",
    "1. `List Comprehension`\n",
    "   * `Conditional List Comprehension`\n",
    "2. `Dictionary Comprehension`\n",
    "   * `Conditional Dictionary Comprehension`\n",
    "   * `Looping Through Dictionaries`\n",
    "3. `Iterate Over a Pandas DataFrame`\n",
    "   * `Loop Through a DataFrame`\n",
    "   * `Loop Through Rows of A DataFrame`"
   ]
  },
  {
   "cell_type": "markdown",
   "metadata": {},
   "source": [
    "## **List Comprehension**\n",
    "### **Challenge-1**\n",
    "\n",
    "List Comprehension with list\n",
    "\n",
    "Create a new list from `numbers`, where you added 1 to each value."
   ]
  },
  {
   "cell_type": "code",
   "execution_count": 2,
   "metadata": {},
   "outputs": [
    {
     "name": "stdout",
     "output_type": "stream",
     "text": [
      "[2, 3, 4]\n"
     ]
    }
   ],
   "source": [
    "numbers = [1, 2, 3]\n",
    "new_numbers = [n + 1 for n in numbers]\n",
    "print(new_numbers)"
   ]
  },
  {
   "cell_type": "markdown",
   "metadata": {},
   "source": [
    "### **Challenge-2**\n",
    "\n",
    "List Comprehension with string\n",
    "\n",
    "Predict what `new_list` will contain. Check your prediction in PyCharm"
   ]
  },
  {
   "cell_type": "code",
   "execution_count": 3,
   "metadata": {},
   "outputs": [
    {
     "name": "stdout",
     "output_type": "stream",
     "text": [
      "['A', 'n', 'g', 'e', 'l', 'a']\n"
     ]
    }
   ],
   "source": [
    "name = \"Angela\"\n",
    "new_list = [letter for letter in name]\n",
    "print(new_list)"
   ]
  },
  {
   "cell_type": "markdown",
   "metadata": {},
   "source": [
    "### **Challange-3**\n",
    "\n",
    "Create a new list from a `range(1,5)`, where the list items are double the values in the `range`.\n",
    "\n",
    "output is:\n",
    "```py\n",
    "[2, 4, 6, 8]\n",
    "```"
   ]
  },
  {
   "cell_type": "code",
   "execution_count": 4,
   "metadata": {},
   "outputs": [
    {
     "name": "stdout",
     "output_type": "stream",
     "text": [
      "[2, 4, 6, 8]\n"
     ]
    }
   ],
   "source": [
    "new_list = [num * 2 for num in range(1, 5)]\n",
    "print(new_list)"
   ]
  },
  {
   "cell_type": "markdown",
   "metadata": {},
   "source": [
    "### **Condition List Comprehension**"
   ]
  },
  {
   "cell_type": "code",
   "execution_count": 5,
   "metadata": {},
   "outputs": [
    {
     "name": "stdout",
     "output_type": "stream",
     "text": [
      "['Alex', 'Beth', 'Dave']\n"
     ]
    }
   ],
   "source": [
    "names = [\"Alex\", \"Beth\", \"Caroline\", \"Dave\", \"Eleanor\", \"Freddie\"]\n",
    "\n",
    "short_names = [name for name in names if len(name) < 5]\n",
    "print(short_names)"
   ]
  },
  {
   "cell_type": "markdown",
   "metadata": {},
   "source": [
    "### **Challenge-4**\n",
    "\n",
    "Create a new list that contains the names longer than 5 characters in ALL CAPS."
   ]
  },
  {
   "cell_type": "code",
   "execution_count": 6,
   "metadata": {},
   "outputs": [
    {
     "name": "stdout",
     "output_type": "stream",
     "text": [
      "['CAROLINE', 'ELEANOR', 'FREDDIE']\n"
     ]
    }
   ],
   "source": [
    "long_names = [name.upper() for name in names if len(name) > 5]\n",
    "print(long_names)"
   ]
  },
  {
   "cell_type": "markdown",
   "metadata": {},
   "source": [
    "### **Squaring Numbers - Practice**\n",
    "\n",
    "You are going to write a List Comprehension to create a new list called `squared_numbers`. This new list should contain every number in the list `numbers` but each number should be squared. \n",
    "\n",
    "e.g.\n",
    "```py\n",
    "4 * 4 = 16\n",
    "```\n",
    "4 squared equals 16.\n",
    "\n",
    "**DO NOT** modify the List `numbers` directly. Try to use **List Comprehension** instead of a Loop. \n",
    "\n",
    "Target Output \n",
    "```py\n",
    "[1, 1, 4, 9, 25, 64, 169, 441, 1156, 3025]\n",
    "```\n",
    "\n",
    "<details>\n",
    "<summary>💡Hint </summary>\n",
    "Use the keyword method for starting the List comprehension and fill in the relevant parts.\n",
    "</details>"
   ]
  },
  {
   "cell_type": "code",
   "execution_count": 7,
   "metadata": {},
   "outputs": [
    {
     "name": "stdout",
     "output_type": "stream",
     "text": [
      "[1, 1, 4, 9, 25, 64, 169, 441, 1156, 3025]\n"
     ]
    }
   ],
   "source": [
    "numbers = [1, 1, 2, 3, 5, 8, 13, 21, 34, 55]\n",
    "squared_numbers = [num * num for num in numbers]  # Write your code here.\n",
    "print(squared_numbers)\n"
   ]
  },
  {
   "cell_type": "markdown",
   "metadata": {},
   "source": [
    "**Alternative Solution**"
   ]
  },
  {
   "cell_type": "code",
   "execution_count": 8,
   "metadata": {},
   "outputs": [
    {
     "name": "stdout",
     "output_type": "stream",
     "text": [
      "[1, 1, 4, 9, 25, 64, 169, 441, 1156, 3025]\n"
     ]
    }
   ],
   "source": [
    "numbers = [1, 1, 2, 3, 5, 8, 13, 21, 34, 55]\n",
    "squared_numbers = [num**2 for num in numbers]  # Write your code here.\n",
    "print(squared_numbers)\n"
   ]
  },
  {
   "cell_type": "markdown",
   "metadata": {},
   "source": [
    "### **Filtering Even Numbers - Practice**\n",
    "\n",
    "In this list comprehension exercise you will practice using list comprehension to filter out the even numbers from a series of numbers.\n",
    "\n",
    "* First, use list comprehension to convert the `list_of_strings` to a list of integers called `numbers`.\n",
    "* Then use list comprehension again to create a new list called `result`.\n",
    "* This new list should only contain the even numbers from the list `numbers`.\n",
    "* Again, try to use Python's **List Comprehension** instead of a Loop.\n",
    "\n"
   ]
  },
  {
   "cell_type": "code",
   "execution_count": 9,
   "metadata": {},
   "outputs": [
    {
     "name": "stdout",
     "output_type": "stream",
     "text": [
      "[0, 32, 8, 2, 8, 64, 42]\n"
     ]
    }
   ],
   "source": [
    "list_of_strings = ['9', '0', '32', '8', '2', '8', '64', '29', '42', '99']\n",
    "numbers = [int(num) for num in list_of_strings] # Write your code here.\n",
    "result = [num for num in numbers if num % 2 == 0] # Write your code here.\n",
    "print(result)"
   ]
  },
  {
   "cell_type": "markdown",
   "metadata": {},
   "source": [
    "### **Data Overlap - Practice**\n",
    "\n",
    "💪 This exercise is HARD 💪 \n",
    "\n",
    "Take a look inside file1.txt and file2.txt. They each contain a bunch of numbers, each number on a new line. \n",
    "\n",
    "You are going to create a list called `result` which contains the numbers that are common in both files. \n",
    "\n",
    "e.g. if file1.txt contained: \n",
    "\n",
    "1 \n",
    "\n",
    "2 \n",
    "\n",
    "3\n",
    "\n",
    "and file2.txt contained: \n",
    "\n",
    "2\n",
    "\n",
    "3\n",
    "\n",
    "4\n",
    "\n",
    "result = [2, 3]\n",
    "\n",
    "\n",
    "\n",
    "IMPORTANT:  The output should be a list of integers and not strings!\n",
    "\n",
    "Try to use **List Comprehension** instead of a Loop. \n",
    "\n",
    "<details>\n",
    "<summary>💡Hint</summary>\n",
    "\n",
    "1. Use the keyword method for starting the List comprehension and fill in the relevant parts. \n",
    "\n",
    "2. First, you will need to read from the files and create a list using the lines in the files. \n",
    "\n",
    "3. This method [**`readlines()`**](https://www.w3schools.com/python/ref_file_readlines.asp) will be really useful.\n",
    "\n",
    "4. Remember you can check if a value exists in a list using the [**`in`**](https://www.w3schools.com/python/ref_keyword_in.asp) keyword.\n",
    "\n",
    "5. Remember you can use the int() method in python to convert a string into an integer.\n",
    "</details>"
   ]
  },
  {
   "cell_type": "code",
   "execution_count": 10,
   "metadata": {},
   "outputs": [
    {
     "name": "stdout",
     "output_type": "stream",
     "text": [
      "[3, 6, 5, 33, 12, 7, 42, 13]\n"
     ]
    }
   ],
   "source": [
    "with open(\"file1.txt\") as file1:\n",
    "    list1 = file1.readlines()\n",
    "    \n",
    "with open(\"file2.txt\") as file2:\n",
    "    list2 = file2.readlines()\n",
    "    \n",
    "result = [int(num) for num in list1 if num in list2]\n",
    "\n",
    "print(result)"
   ]
  },
  {
   "cell_type": "markdown",
   "metadata": {},
   "source": [
    "**Alternative Solution**"
   ]
  },
  {
   "cell_type": "code",
   "execution_count": 11,
   "metadata": {},
   "outputs": [
    {
     "name": "stdout",
     "output_type": "stream",
     "text": [
      "[3, 6, 5, 33, 12, 7, 42, 13]\n"
     ]
    }
   ],
   "source": [
    "# Your code here.\n",
    "with open(\"file1.txt\") as file1:\n",
    "    file1_data = file1.readlines()\n",
    "    file1_stripped_num = [int(num.strip()) for num in file1_data]\n",
    "\n",
    "with open(\"file2.txt\") as file2:\n",
    "    file2_data = file2.readlines()\n",
    "    file2_stripped_num = [int(num.strip()) for num in file2_data]\n",
    "\n",
    "result = [num for num in file1_stripped_num if num in file2_stripped_num] # Your code here.\n",
    "\n",
    "print(result)"
   ]
  },
  {
   "cell_type": "markdown",
   "metadata": {},
   "source": [
    "## **Dictionary Comprehension**\n",
    "\n",
    "Create a Dictionary from the list with random value."
   ]
  },
  {
   "cell_type": "code",
   "execution_count": 12,
   "metadata": {},
   "outputs": [
    {
     "name": "stdout",
     "output_type": "stream",
     "text": [
      "{'Alex': 78, 'Beth': 55, 'Caroline': 6, 'Dave': 37, 'Eleanor': 53, 'Freddie': 93}\n"
     ]
    }
   ],
   "source": [
    "import random\n",
    "names = [\"Alex\", \"Beth\", \"Caroline\", \"Dave\", \"Eleanor\", \"Freddie\"]\n",
    "\n",
    "student_scores = {student: random.randint(1, 100) for student in names}\n",
    "print(student_scores)"
   ]
  },
  {
   "cell_type": "markdown",
   "metadata": {},
   "source": [
    "### **Challenge-1**\n",
    "\n",
    "Find out which students have a score of more than 60. If there are any, then they will be put into `passed_students` in dictionary form using **Conditional Dictionary Comprehension**."
   ]
  },
  {
   "cell_type": "code",
   "execution_count": 13,
   "metadata": {},
   "outputs": [
    {
     "name": "stdout",
     "output_type": "stream",
     "text": [
      "{'Alex': 78, 'Freddie': 93}\n"
     ]
    }
   ],
   "source": [
    "passed_students = {student: score for (student, score) in student_scores.items() if score >= 60}\n",
    "print(passed_students)"
   ]
  },
  {
   "cell_type": "markdown",
   "metadata": {},
   "source": [
    "### **Dictionary Comprehension 1 - Practice**\n",
    "\n",
    "You are going to use Dictionary Comprehension to create a dictionary called `result` that takes each word in the given sentence and calculates the number of letters in each word.   \n",
    "\n",
    "Try Googling to find out how to convert a sentence into a list of words.\n",
    "\n",
    "**Do NOT** Create a dictionary directly.\n",
    "\n",
    "Try to use **Dictionary Comprehension** instead of a Loop. \n",
    "\n",
    "To keep this exercise simple, count any punctuation following a word with no whitespace as part of the word. Note that \"Swallow?\" therefore has a length of 8.\n",
    "\n",
    "<details>\n",
    "<summary>💡Hint </summary>\n",
    "Use the keyword method for starting the Dictionary comprehension and fill in the relevant parts. \n",
    "\n",
    "You can get a list of the words in a string by using the [**`.split()`**](https://www.w3schools.com/python/ref_string_split.asp) method.\n",
    "</details>"
   ]
  },
  {
   "cell_type": "code",
   "execution_count": 14,
   "metadata": {},
   "outputs": [
    {
     "name": "stdout",
     "output_type": "stream",
     "text": [
      "{'What': 4, 'is': 2, 'the': 3, 'Airspeed': 8, 'Velocity': 8, 'of': 2, 'an': 2, 'Unladen': 7, 'Swallow?': 8}\n"
     ]
    }
   ],
   "source": [
    "sentence = \"What is the Airspeed Velocity of an Unladen Swallow?\"\n",
    "result = {word: len(word) for word in sentence.split()} # Your code here.\n",
    "print(result)"
   ]
  },
  {
   "cell_type": "markdown",
   "metadata": {},
   "source": [
    "### **Dictionary Comprehension 2 - Practice**\n",
    "\n",
    "You are going to use Dictionary Comprehension to create a dictionary called `weather_f` that takes each temperature in degrees Celsius and converts it into degrees Fahrenheit.\n",
    "\n",
    "To convert `temp_c` into `temp_f` use this formula:\n",
    "```py\n",
    "(temp_c * 9/5) + 32 = temp_f\n",
    "```\n",
    "Celsius to Fahrenheit chart\n",
    "\n",
    "<img src=\"https://img-c.udemycdn.com/redactor/raw/coding_exercise_instructions/2024-08-02_15-08-18-b00faeae64310d6fb7272605cd37a8da.png\" alt=\"Celsius to Fahrenheit chart\" width=\"400\"/></br>\n",
    "\n",
    "**Do NOT** Create a dictionary directly. Try to use **Dictionary Comprehension** instead of a Loop.\n",
    "\n",
    "<details>\n",
    "<summary>💡Hint </summary>\n",
    "\n",
    "1. Use the keyword method for starting the Dictionary comprehension and fill in the relevant parts. \n",
    "2. You can get each of the items from a dictionary using the [**`.items()`**](https://www.w3schools.com/python/ref_dictionary_items.asp) method.\n",
    "</details>"
   ]
  },
  {
   "cell_type": "code",
   "execution_count": 15,
   "metadata": {},
   "outputs": [
    {
     "name": "stdout",
     "output_type": "stream",
     "text": [
      "{'Monday': 53.6, 'Tuesday': 57.2, 'Wednesday': 59.0, 'Thursday': 57.2, 'Friday': 69.8, 'Saturday': 71.6, 'Sunday': 75.2}\n"
     ]
    }
   ],
   "source": [
    "weather_c = {\"Monday\": 12, \"Tuesday\": 14, \"Wednesday\": 15, \"Thursday\": 14, \"Friday\": 21, \"Saturday\": 22, \"Sunday\": 24}\n",
    "\n",
    "weather_f = {day: (temp_c * 9/5) + 32 for (day, temp_c) in weather_c.items()}  # Your code here.\n",
    "\n",
    "print(weather_f)"
   ]
  },
  {
   "cell_type": "markdown",
   "metadata": {},
   "source": [
    "### **Looping Through Dictionaries**\n",
    "\n",
    "Access key and value"
   ]
  },
  {
   "cell_type": "code",
   "execution_count": 16,
   "metadata": {},
   "outputs": [],
   "source": [
    "student_dict = {\n",
    "    \"student\": [\"Angela\", \"James\", \"Lily\"],\n",
    "    \"score\": [56, 76, 98]\n",
    "}"
   ]
  },
  {
   "cell_type": "code",
   "execution_count": 17,
   "metadata": {},
   "outputs": [
    {
     "name": "stdout",
     "output_type": "stream",
     "text": [
      "key=student, value=['Angela', 'James', 'Lily']\n",
      "key=score, value=[56, 76, 98]\n"
     ]
    }
   ],
   "source": [
    "for (key, value) in student_dict.items():\n",
    "    print(f\"key={key}, value={value}\")"
   ]
  },
  {
   "cell_type": "markdown",
   "metadata": {},
   "source": [
    "## **Iterate Over a Pandas DataFrame**"
   ]
  },
  {
   "cell_type": "markdown",
   "metadata": {},
   "source": [
    "### **Loop Through a Data Frame**"
   ]
  },
  {
   "cell_type": "code",
   "execution_count": 18,
   "metadata": {},
   "outputs": [
    {
     "name": "stdout",
     "output_type": "stream",
     "text": [
      "  student  score\n",
      "0  Angela     56\n",
      "1   James     76\n",
      "2    Lily     98\n"
     ]
    }
   ],
   "source": [
    "import pandas\n",
    "\n",
    "student_data_frame = pandas.DataFrame(student_dict)\n",
    "print(student_data_frame)"
   ]
  },
  {
   "cell_type": "code",
   "execution_count": 19,
   "metadata": {},
   "outputs": [
    {
     "name": "stdout",
     "output_type": "stream",
     "text": [
      "student\n",
      "score\n"
     ]
    }
   ],
   "source": [
    "for (key, value) in student_data_frame.items():\n",
    "    print(key)"
   ]
  },
  {
   "cell_type": "markdown",
   "metadata": {},
   "source": [
    "**If we print out the value**, this is not particularly useful because it's basically just looping through the names of our columns and then the data inside each column. This is why pandas has a built-in loop and it's a method called `iterrows()`."
   ]
  },
  {
   "cell_type": "code",
   "execution_count": 20,
   "metadata": {},
   "outputs": [
    {
     "name": "stdout",
     "output_type": "stream",
     "text": [
      "0    Angela\n",
      "1     James\n",
      "2      Lily\n",
      "Name: student, dtype: object\n",
      "0    56\n",
      "1    76\n",
      "2    98\n",
      "Name: score, dtype: int64\n"
     ]
    }
   ],
   "source": [
    "for (key, value) in student_data_frame.items():\n",
    "    print(value)"
   ]
  },
  {
   "cell_type": "markdown",
   "metadata": {},
   "source": [
    "### **Loop Through Rows of A DataFrame**\n",
    "\n",
    "`iterrows()` method allows us to loop through each of the rows of the Data Frame rather than each of the columns.\n",
    "\n",
    "* Access index and row\n",
    "* Access row.student or row.score"
   ]
  },
  {
   "cell_type": "code",
   "execution_count": 21,
   "metadata": {},
   "outputs": [
    {
     "name": "stdout",
     "output_type": "stream",
     "text": [
      "  student  score\n",
      "0  Angela     56\n",
      "1   James     76\n",
      "2    Lily     98\n"
     ]
    }
   ],
   "source": [
    "print(student_data_frame)"
   ]
  },
  {
   "cell_type": "code",
   "execution_count": 22,
   "metadata": {},
   "outputs": [
    {
     "name": "stdout",
     "output_type": "stream",
     "text": [
      "0\n",
      "1\n",
      "2\n"
     ]
    }
   ],
   "source": [
    "for(index, row) in student_data_frame.iterrows():\n",
    "    print(index)"
   ]
  },
  {
   "cell_type": "code",
   "execution_count": 23,
   "metadata": {},
   "outputs": [
    {
     "name": "stdout",
     "output_type": "stream",
     "text": [
      "student    Angela\n",
      "score          56\n",
      "Name: 0, dtype: object\n",
      "student    James\n",
      "score         76\n",
      "Name: 1, dtype: object\n",
      "student    Lily\n",
      "score        98\n",
      "Name: 2, dtype: object\n"
     ]
    }
   ],
   "source": [
    "for(index, row) in student_data_frame.iterrows():\n",
    "    print(row)"
   ]
  },
  {
   "cell_type": "code",
   "execution_count": 24,
   "metadata": {},
   "outputs": [
    {
     "name": "stdout",
     "output_type": "stream",
     "text": [
      "Angela\n",
      "James\n",
      "Lily\n"
     ]
    }
   ],
   "source": [
    "for(index, row) in student_data_frame.iterrows():\n",
    "    print(row.student)"
   ]
  },
  {
   "cell_type": "code",
   "execution_count": 25,
   "metadata": {},
   "outputs": [
    {
     "name": "stdout",
     "output_type": "stream",
     "text": [
      "56\n",
      "76\n",
      "98\n"
     ]
    }
   ],
   "source": [
    "for(index, row) in student_data_frame.iterrows():\n",
    "    print(row.score)"
   ]
  },
  {
   "cell_type": "code",
   "execution_count": 26,
   "metadata": {},
   "outputs": [
    {
     "name": "stdout",
     "output_type": "stream",
     "text": [
      "56\n"
     ]
    }
   ],
   "source": [
    "for(index, row) in student_data_frame.iterrows():\n",
    "    if row.student == \"Angela\":\n",
    "        print(row.score)"
   ]
  }
 ],
 "metadata": {
  "kernelspec": {
   "display_name": ".venv",
   "language": "python",
   "name": "python3"
  },
  "language_info": {
   "codemirror_mode": {
    "name": "ipython",
    "version": 3
   },
   "file_extension": ".py",
   "mimetype": "text/x-python",
   "name": "python",
   "nbconvert_exporter": "python",
   "pygments_lexer": "ipython3",
   "version": "3.12.4"
  }
 },
 "nbformat": 4,
 "nbformat_minor": 2
}
