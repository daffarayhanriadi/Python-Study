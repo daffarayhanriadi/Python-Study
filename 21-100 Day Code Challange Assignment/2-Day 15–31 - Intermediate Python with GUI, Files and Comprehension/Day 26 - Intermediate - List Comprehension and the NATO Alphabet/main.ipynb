{
 "cells": [
  {
   "cell_type": "markdown",
   "metadata": {},
   "source": [
    "### **Challenge-1**\n",
    "\n",
    "List Comprehension with list\n",
    "\n",
    "Create a new list from `numbers`, where you added 1 to each value."
   ]
  },
  {
   "cell_type": "code",
   "execution_count": 1,
   "metadata": {},
   "outputs": [
    {
     "name": "stdout",
     "output_type": "stream",
     "text": [
      "[2, 3, 4]\n"
     ]
    }
   ],
   "source": [
    "numbers = [1, 2, 3]\n",
    "new_numbers = [n + 1 for n in numbers]\n",
    "print(new_numbers)"
   ]
  },
  {
   "cell_type": "markdown",
   "metadata": {},
   "source": [
    "### **Challenge-2**\n",
    "\n",
    "List Comprehension with string\n",
    "\n",
    "Predict what `new_list` will contain. Check your prediction in PyCharm"
   ]
  },
  {
   "cell_type": "code",
   "execution_count": 2,
   "metadata": {},
   "outputs": [
    {
     "name": "stdout",
     "output_type": "stream",
     "text": [
      "['A', 'n', 'g', 'e', 'l', 'a']\n"
     ]
    }
   ],
   "source": [
    "name = \"Angela\"\n",
    "new_list = [letter for letter in name]\n",
    "print(new_list)"
   ]
  },
  {
   "cell_type": "markdown",
   "metadata": {},
   "source": [
    "### **Challange-3**\n",
    "\n",
    "Create a new list from a `range(1,5)`, where the list items are double the values in the `range`.\n",
    "\n",
    "output is:\n",
    "```py\n",
    "[2, 4, 6, 8]\n",
    "```"
   ]
  },
  {
   "cell_type": "code",
   "execution_count": 4,
   "metadata": {},
   "outputs": [
    {
     "name": "stdout",
     "output_type": "stream",
     "text": [
      "[2, 4, 6, 8]\n"
     ]
    }
   ],
   "source": [
    "new_list = [num * 2 for num in range(1, 5)]\n",
    "print(new_list)"
   ]
  },
  {
   "cell_type": "markdown",
   "metadata": {},
   "source": [
    "### **Condition List Comprehension**"
   ]
  },
  {
   "cell_type": "code",
   "execution_count": 7,
   "metadata": {},
   "outputs": [
    {
     "name": "stdout",
     "output_type": "stream",
     "text": [
      "['Alex', 'Beth', 'Dave']\n"
     ]
    }
   ],
   "source": [
    "names = [\"Alex\", \"Beth\", \"Caroline\", \"Dave\", \"Eleanor\", \"Freddie\"]\n",
    "\n",
    "short_names = [name for name in names if len(name) < 5]\n",
    "print(short_names)"
   ]
  },
  {
   "cell_type": "markdown",
   "metadata": {},
   "source": [
    "### **Challenge-4**\n",
    "\n",
    "Create a new list that contains the names longer than 5 characters in ALL CAPS."
   ]
  },
  {
   "cell_type": "code",
   "execution_count": 8,
   "metadata": {},
   "outputs": [
    {
     "name": "stdout",
     "output_type": "stream",
     "text": [
      "['CAROLINE', 'ELEANOR', 'FREDDIE']\n"
     ]
    }
   ],
   "source": [
    "long_names = [name.upper() for name in names if len(name) > 5]\n",
    "print(long_names)"
   ]
  },
  {
   "cell_type": "markdown",
   "metadata": {},
   "source": [
    "### **Squaring Numbers - Practice**\n",
    "\n",
    "You are going to write a List Comprehension to create a new list called `squared_numbers`. This new list should contain every number in the list `numbers` but each number should be squared. \n",
    "\n",
    "e.g.\n",
    "```py\n",
    "4 * 4 = 16\n",
    "```\n",
    "4 squared equals 16.\n",
    "\n",
    "**DO NOT** modify the List `numbers` directly. Try to use **List Comprehension** instead of a Loop. \n",
    "\n",
    "Target Output \n",
    "```py\n",
    "[1, 1, 4, 9, 25, 64, 169, 441, 1156, 3025]\n",
    "```\n",
    "\n",
    "<details>\n",
    "<summary>💡Hint </summary>\n",
    "Use the keyword method for starting the List comprehension and fill in the relevant parts.\n",
    "</details>"
   ]
  },
  {
   "cell_type": "code",
   "execution_count": 11,
   "metadata": {},
   "outputs": [
    {
     "name": "stdout",
     "output_type": "stream",
     "text": [
      "[1, 1, 4, 9, 25, 64, 169, 441, 1156, 3025]\n"
     ]
    }
   ],
   "source": [
    "numbers = [1, 1, 2, 3, 5, 8, 13, 21, 34, 55]\n",
    "squared_numbers = [num * num for num in numbers]  # Write your code here.\n",
    "print(squared_numbers)\n"
   ]
  },
  {
   "cell_type": "markdown",
   "metadata": {},
   "source": [
    "**Alternative Solution**"
   ]
  },
  {
   "cell_type": "code",
   "execution_count": 10,
   "metadata": {},
   "outputs": [
    {
     "name": "stdout",
     "output_type": "stream",
     "text": [
      "[1, 1, 4, 9, 25, 64, 169, 441, 1156, 3025]\n"
     ]
    }
   ],
   "source": [
    "numbers = [1, 1, 2, 3, 5, 8, 13, 21, 34, 55]\n",
    "squared_numbers = [num**2 for num in numbers]  # Write your code here.\n",
    "print(squared_numbers)\n"
   ]
  },
  {
   "cell_type": "markdown",
   "metadata": {},
   "source": [
    "### **Filtering Even Numbers - Practice**\n",
    "\n",
    "In this list comprehension exercise you will practice using list comprehension to filter out the even numbers from a series of numbers.\n",
    "\n",
    "* First, use list comprehension to convert the `list_of_strings` to a list of integers called `numbers`.\n",
    "* Then use list comprehension again to create a new list called `result`.\n",
    "* This new list should only contain the even numbers from the list `numbers`.\n",
    "* Again, try to use Python's **List Comprehension** instead of a Loop.\n",
    "\n"
   ]
  },
  {
   "cell_type": "code",
   "execution_count": 12,
   "metadata": {},
   "outputs": [
    {
     "name": "stdout",
     "output_type": "stream",
     "text": [
      "[0, 32, 8, 2, 8, 64, 42]\n"
     ]
    }
   ],
   "source": [
    "list_of_strings = ['9', '0', '32', '8', '2', '8', '64', '29', '42', '99']\n",
    "numbers = [int(num) for num in list_of_strings] # Write your code here.\n",
    "result = [num for num in numbers if num % 2 == 0] # Write your code here.\n",
    "print(result)"
   ]
  },
  {
   "cell_type": "markdown",
   "metadata": {},
   "source": [
    "### **Data Overlap - Practice**\n",
    "\n",
    "💪 This exercise is HARD 💪 \n",
    "\n",
    "Take a look inside file1.txt and file2.txt. They each contain a bunch of numbers, each number on a new line. \n",
    "\n",
    "You are going to create a list called `result` which contains the numbers that are common in both files. \n",
    "\n",
    "e.g. if file1.txt contained: \n",
    "\n",
    "1 \n",
    "\n",
    "2 \n",
    "\n",
    "3\n",
    "\n",
    "and file2.txt contained: \n",
    "\n",
    "2\n",
    "\n",
    "3\n",
    "\n",
    "4\n",
    "\n",
    "result = [2, 3]\n",
    "\n",
    "\n",
    "\n",
    "IMPORTANT:  The output should be a list of integers and not strings!\n",
    "\n",
    "Try to use **List Comprehension** instead of a Loop. \n",
    "\n",
    "<details>\n",
    "<summary>💡Hint</summary>\n",
    "\n",
    "1. Use the keyword method for starting the List comprehension and fill in the relevant parts. \n",
    "\n",
    "2. First, you will need to read from the files and create a list using the lines in the files. \n",
    "\n",
    "3. This method [**`readlines()`**](https://www.w3schools.com/python/ref_file_readlines.asp) will be really useful.\n",
    "\n",
    "4. Remember you can check if a value exists in a list using the [**`in`**](https://www.w3schools.com/python/ref_keyword_in.asp) keyword.\n",
    "\n",
    "5. Remember you can use the int() method in python to convert a string into an integer.\n",
    "</details>"
   ]
  },
  {
   "cell_type": "code",
   "execution_count": null,
   "metadata": {},
   "outputs": [],
   "source": [
    "with open(\"file1.txt\") as file1:\n",
    "    list1 = file1.readlines()\n",
    "    \n",
    "with open(\"file2.txt\") as file2:\n",
    "    list2 = file2.readlines()\n",
    "    \n",
    "result = [int(num) for num in list1 if num in list2]\n",
    "\n",
    "print(result)"
   ]
  },
  {
   "cell_type": "markdown",
   "metadata": {},
   "source": [
    "**Alternative Solution**"
   ]
  },
  {
   "cell_type": "code",
   "execution_count": 15,
   "metadata": {},
   "outputs": [
    {
     "name": "stdout",
     "output_type": "stream",
     "text": [
      "[3, 6, 5, 33, 12, 7, 42, 13]\n"
     ]
    }
   ],
   "source": [
    "# Your code here.\n",
    "with open(\"file1.txt\") as file1:\n",
    "    file1_data = file1.readlines()\n",
    "    file1_stripped_num = [int(num.strip()) for num in file1_data]\n",
    "\n",
    "with open(\"file2.txt\") as file2:\n",
    "    file2_data = file2.readlines()\n",
    "    file2_stripped_num = [int(num.strip()) for num in file2_data]\n",
    "\n",
    "result = [num for num in file1_stripped_num if num in file2_stripped_num] # Your code here.\n",
    "\n",
    "print(result)"
   ]
  }
 ],
 "metadata": {
  "kernelspec": {
   "display_name": ".venv",
   "language": "python",
   "name": "python3"
  },
  "language_info": {
   "codemirror_mode": {
    "name": "ipython",
    "version": 3
   },
   "file_extension": ".py",
   "mimetype": "text/x-python",
   "name": "python",
   "nbconvert_exporter": "python",
   "pygments_lexer": "ipython3",
   "version": "3.12.4"
  }
 },
 "nbformat": 4,
 "nbformat_minor": 2
}
