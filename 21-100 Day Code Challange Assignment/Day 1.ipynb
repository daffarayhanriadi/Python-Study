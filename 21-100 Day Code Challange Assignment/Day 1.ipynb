{
 "cells": [
  {
   "cell_type": "markdown",
   "metadata": {},
   "source": [
    "# **Day 1**\n",
    "\n",
    "### **Table of Contents:**\n",
    "<table class=\"table table-bordered\">\n",
    "    <tr>\n",
    "        <th style=\"width:15%\">Topic</th>\n",
    "        <th style=\"width:45%\">Description</th>\n",
    "        <th style=\"width:30%\">Example</th>\n",
    "    </tr>\n",
    "    <tr>\n",
    "        <td><strong>Printing</strong></td>\n",
    "        <td>Learn how to displays the output results on the screen</td>\n",
    "        <td><code>print(\"Hello World!\")</code></td>\n",
    "    </tr>\n",
    "    <tr>\n",
    "        <td><strong>String Manipulation</strong></td>\n",
    "        <td>Learn to use string concatenation and the new line escape sequence to format strings in Python.</td>\n",
    "        <td>\n",
    "            <ul>\n",
    "                <li><code>\"Hello\" + \"Daffa\"</code></li>\n",
    "                <li><code>print(\"Hello World!\\nHello World!\\nHello World!\")</code></li>\n",
    "            </ul>\n",
    "        </td>\n",
    "    </tr>\n",
    "    <tr>\n",
    "        <td><strong>Inputs</strong></td>\n",
    "        <td>Learn to use the Python input() function to collect user input and use it within your code.</td>\n",
    "        <td><code>input(\"What is your name?\")</code></td>\n",
    "    </tr>\n",
    "    <tr>\n",
    "        <td><strong>Variables</strong></td>\n",
    "        <td>Learn to store values in containers for later use. Variables is a concept in programming that allows us to give a label to a piece of data so that we can refer or reference that data using the chosen variable name. We will see in this lesson how to create variables and how to use the variables to access the contained value.</td>\n",
    "        <td><code>variable_name = ...</code></td>\n",
    "    </tr>\n",
    "    <tr>\n",
    "        <td><strong>Variable Naming</strong></td>\n",
    "        <td>Learn the rules of variable naming in Python.</td>\n",
    "        <td>\n",
    "            <ol>\n",
    "                <li><code>Make sure your variable names are descriptive</code></li>\n",
    "                <li><code>Don't have spaces between words</code></li>\n",
    "                <li><code>Don't start with numbers</code></li>\n",
    "                <li><code>Don't use special words like print or input</code></li>\n",
    "                <li><code>Choose simple words that are less likely to become typos</code></li>\n",
    "                <li><code>Check the company style guidelines if you start work at a company</code></li>\n",
    "            </ol>\n",
    "        </td>\n",
    "    </tr>\n",
    "</table>"
   ]
  },
  {
   "cell_type": "markdown",
   "metadata": {},
   "source": [
    "### **Printing - Practice**\n",
    "\n",
    "Write a program that uses print statements to print the following recipe into the Output console. The text to print is already there, you just need to make it into code. Your code should print all five lines exactly the same as the example output below. Make sure that you don't change any of these existing text as everything, punctuation and casing all need to match!\n",
    "\n",
    "**Example Output**\n",
    "1. Mix 500g of Flour, 10g Yeast and 300ml Water in a bowl.\n",
    "2. Knead the dough for 10 minutes.\n",
    "3. Add 3g of Salt.\n",
    "4. Leave to rise for 2 hours.\n",
    "5. Bake at 200 degrees C for 30 minutes.\n",
    "\n",
    "<details>\n",
    "<summary>💡Hint</summary>\n",
    "The output in your program should match the example output shown above exactly, character for character, even spaces and symbols should be identical, otherwise the tests won't pass!\n",
    "</details>"
   ]
  },
  {
   "cell_type": "code",
   "execution_count": 1,
   "metadata": {},
   "outputs": [
    {
     "name": "stdout",
     "output_type": "stream",
     "text": [
      "1. Mix 500g of Flour, 10g Yeast and 300ml Water in a bowl.\n",
      "2. Knead the dough for 10 minutes.\n",
      "3. Add 3g of Salt.\n",
      "4. Leave to rise for 2 hours.\n",
      "5. Bake at 200 degrees C for 30 minutes.\n"
     ]
    }
   ],
   "source": [
    "# 1. Mix 500g of Flour, 10g Yeast and 300ml Water in a bowl.\n",
    "# 2. Knead the dough for 10 minutes.\n",
    "# 3. Add 3g of Salt.\n",
    "# 4. Leave to rise for 2 hours.\n",
    "# 5. Bake at 200 degrees C for 30 minutes.\n",
    "\n",
    "# Write your code here.\n",
    "print(\"1. Mix 500g of Flour, 10g Yeast and 300ml Water in a bowl.\")\n",
    "print(\"2. Knead the dough for 10 minutes.\")\n",
    "print(\"3. Add 3g of Salt.\")\n",
    "print(\"4. Leave to rise for 2 hours.\")\n",
    "print(\"5. Bake at 200 degrees C for 30 minutes.\")"
   ]
  },
  {
   "cell_type": "markdown",
   "metadata": {},
   "source": [
    "### **Debugging - Practice**\n",
    "\n",
    "* Look at the code in the code editor. There are errors on all 5 lines of code. Fix the code so that it runs without errors.\n",
    "* Try to run the code and debug each line using the error messages and feedback.\n",
    "\n",
    "**Example Output**</br></br>\n",
    "Notes from Day 1</br>\n",
    "The print statement is used to output strings</br>\n",
    "Strings are strings of characters</br>\n",
    "String Concatenation is done with the + sign</br>\n",
    "New lines can be created with a \\ and the letter n</br>\n",
    "\n",
    "<details>\n",
    "<summary>💡Hint</summary>\n",
    "Make sure you don't change any of the strings. The tests will look for an exact match to pass your code. If in doubt, you can always reset the code to the starting values by click on the refresh button on the top right of the code editor.\n",
    "</details>"
   ]
  },
  {
   "cell_type": "code",
   "execution_count": 7,
   "metadata": {},
   "outputs": [
    {
     "name": "stdout",
     "output_type": "stream",
     "text": [
      "Notes from Day 1\n",
      "The print statement is used to output strings\n",
      "Strings are strings of characters\n",
      "String Concatenation is done with the + sign\n",
      "New lines can be created with a \\ and the letter n\n"
     ]
    }
   ],
   "source": [
    "# Fix the code below 👇\n",
    "\n",
    "# print(Notes from Day 1\")\n",
    "#  print(\"The print statement is used to output strings\")\n",
    "# print(\"Strings are strings of characters\"\n",
    "# priint(\"String Concatenation is done with the + sign\")\n",
    "# print((\"New lines can be created with a \\ and the letter n\")\n",
    "\n",
    "# Write your code here.\n",
    "print(\"Notes from Day 1\")\n",
    "print(\"The print statement is used to output strings\")\n",
    "print(\"Strings are strings of characters\")\n",
    "print(\"String Concatenation is done with the + sign\")\n",
    "print(\"New lines can be created with a \\ and the letter n\")\n"
   ]
  },
  {
   "cell_type": "markdown",
   "metadata": {},
   "source": [
    "### **Variables - Practice**\n",
    "\n",
    "We have 2 variables glass1 and glass2. glass1 contains milk and glass2 contains juice. Write 3 lines of code to switch the contents of the variables. You are not allowed to type the words \"milk\" or \"juice\". You are only allowed to use variables to solve this exercise.\n",
    "\n",
    "<details>\n",
    "<summary>💡Hint</summary>\n",
    "Imagine you actually have a glass of milk and a glass of juice. How can you switch out the liquids in real life?\n",
    "</details>"
   ]
  },
  {
   "cell_type": "code",
   "execution_count": null,
   "metadata": {},
   "outputs": [],
   "source": [
    "glass1 = \"milk\"\n",
    "glass2 = \"juice\"\n",
    "\n",
    "# Write your code here.\n",
    "glass3 = glass1\n",
    "glass1 = glass2\n",
    "glass2 = glass3"
   ]
  },
  {
   "cell_type": "markdown",
   "metadata": {},
   "source": [
    "### **Day 1 Project: Band Name Generator**\n",
    "1. Create a greeting for your program.\n",
    "2. Ask the user for the city that they grew up in and store it in a variable.\n",
    "3. Ask the user for the name of a pet and store it in a variable.\n",
    "4. Combine the name of their city and pet and show them their band name.\n",
    "\n",
    "<details>\n",
    "<summary>💡Hint 1</summary>\n",
    "\n",
    "You can use **String Concatenation** to combine strings with variables too! e.g. `print(\"My name is \" + name)`\n",
    "\n",
    "</details>\n",
    "\n",
    "5. Make sure the input cursor shows on a new line.\n",
    "\n",
    "<details>\n",
    "<summary>💡Hint 2</summary>\n",
    "\n",
    "Think about how you used `\\n` to add a new line to a string. Try putting it in some different places in your code until it does what you expect. Note, when you click into the output area you will be able to click on the end of the line as well as the new line. See the video solution for how it looks on my system.\n",
    "\n",
    "</details>\n",
    "\n",
    "**Demo** : [Try it out first here](https://appbrewery.github.io/python-day1-demo/)"
   ]
  },
  {
   "cell_type": "code",
   "execution_count": 1,
   "metadata": {},
   "outputs": [
    {
     "name": "stdout",
     "output_type": "stream",
     "text": [
      "Welcome to the Band Name Generator.\n",
      "Your band name could panyabungan amoy\n"
     ]
    }
   ],
   "source": [
    "# Write your code here.\n",
    "print(\"Welcome to the Band Name Generator.\")\n",
    "city = input(\"What's the name of the city you grew up in?\\n\")\n",
    "pet = input(\"What's your pet's name?\\n\")\n",
    "print(\"Your band name could \" + city + \" \" + pet)"
   ]
  }
 ],
 "metadata": {
  "kernelspec": {
   "display_name": ".venv",
   "language": "python",
   "name": "python3"
  },
  "language_info": {
   "codemirror_mode": {
    "name": "ipython",
    "version": 3
   },
   "file_extension": ".py",
   "mimetype": "text/x-python",
   "name": "python",
   "nbconvert_exporter": "python",
   "pygments_lexer": "ipython3",
   "version": "3.12.4"
  }
 },
 "nbformat": 4,
 "nbformat_minor": 2
}
