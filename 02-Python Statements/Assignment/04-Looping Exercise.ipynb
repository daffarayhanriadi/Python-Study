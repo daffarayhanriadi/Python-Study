{
 "cells": [
  {
   "cell_type": "markdown",
   "metadata": {},
   "source": [
    "Using **for loop** to print triangle below:\n",
    "\n",
    "```py\n",
    "*\n",
    "**\n",
    "***\n",
    "****\n",
    "*****\n",
    "```"
   ]
  },
  {
   "cell_type": "code",
   "execution_count": 3,
   "metadata": {},
   "outputs": [
    {
     "name": "stdout",
     "output_type": "stream",
     "text": [
      "*\n",
      "**\n",
      "***\n",
      "****\n",
      "*****\n"
     ]
    }
   ],
   "source": [
    "count = 1\n",
    "for i in range(5):\n",
    "    print(\"*\"*count)\n",
    "    count += 1"
   ]
  },
  {
   "cell_type": "markdown",
   "metadata": {},
   "source": [
    "Using **while loop** to print triangle below:\n",
    "\n",
    "```py\n",
    "*\n",
    "**\n",
    "***\n",
    "****\n",
    "*****\n",
    "```"
   ]
  },
  {
   "cell_type": "code",
   "execution_count": 10,
   "metadata": {},
   "outputs": [
    {
     "name": "stdout",
     "output_type": "stream",
     "text": [
      "*\n",
      "**\n",
      "***\n",
      "****\n",
      "*****\n"
     ]
    }
   ],
   "source": [
    "count = 1\n",
    "side = 5\n",
    "while True:\n",
    "    print(\"*\"*count)\n",
    "    count += 1\n",
    "    \n",
    "    if count > side:\n",
    "        break"
   ]
  },
  {
   "cell_type": "markdown",
   "metadata": {},
   "source": [
    "Using **while loop** to print odd triangle below:\n",
    "\n",
    "```py\n",
    "*\n",
    "***\n",
    "*****\n",
    "```"
   ]
  },
  {
   "cell_type": "code",
   "execution_count": 21,
   "metadata": {},
   "outputs": [
    {
     "name": "stdout",
     "output_type": "stream",
     "text": [
      "*\n",
      "***\n",
      "*****\n"
     ]
    }
   ],
   "source": [
    "count = 1\n",
    "side = 5\n",
    "while True:\n",
    "    if count % 2 == 0:\n",
    "        count += 1\n",
    "        continue\n",
    "    \n",
    "    print(\"*\"*count)\n",
    "    count += 1\n",
    "    \n",
    "    if count > side:\n",
    "        break"
   ]
  },
  {
   "cell_type": "markdown",
   "metadata": {},
   "source": [
    "Using **while loop** to print equilateral triangle below:\n",
    "\n",
    "```py\n",
    "   *\n",
    "  ***\n",
    " *****\n",
    "*******\n",
    "```"
   ]
  },
  {
   "cell_type": "code",
   "execution_count": 22,
   "metadata": {},
   "outputs": [
    {
     "name": "stdout",
     "output_type": "stream",
     "text": [
      "    *\n",
      "   ***\n",
      "  *****\n",
      " *******\n"
     ]
    }
   ],
   "source": [
    "count = 1\n",
    "side = 7\n",
    "space = side//2\n",
    "while True:\n",
    "    if count % 2 == 0:\n",
    "        space -= 1\n",
    "        count += 1\n",
    "        continue\n",
    "    \n",
    "    print(\" \"*space, \"*\"*count)\n",
    "    count += 1\n",
    "    \n",
    "    if count > side:\n",
    "        break"
   ]
  },
  {
   "cell_type": "markdown",
   "metadata": {},
   "source": [
    "**Home Work**\n",
    "\n",
    "sing **for/while loop** to print ketupat below:\n",
    "\n",
    "```py\n",
    "   *\n",
    "  ***\n",
    " *****\n",
    "*******\n",
    "*******\n",
    " *****\n",
    "  ***\n",
    "   *\n",
    "```"
   ]
  },
  {
   "cell_type": "code",
   "execution_count": 1,
   "metadata": {},
   "outputs": [
    {
     "name": "stdout",
     "output_type": "stream",
     "text": [
      "    *\n",
      "   ***\n",
      "  *****\n",
      " *******\n",
      " *******\n",
      "  *****\n",
      "   ***\n",
      "    *\n"
     ]
    }
   ],
   "source": [
    "side = 7\n",
    "count = 1\n",
    "space = side//2\n",
    "while True:\n",
    "    if count % 2 == 0:\n",
    "        space -= 1\n",
    "        count += 1\n",
    "        continue\n",
    "    \n",
    "    print(\" \"*space, \"*\"*count)\n",
    "    count += 1\n",
    "    \n",
    "    if count > side:\n",
    "        break\n",
    "\n",
    "side = 1\n",
    "count = 7\n",
    "space = 0\n",
    "while True:\n",
    "    if count % 2 == 0:\n",
    "        space += 1\n",
    "        count -= 1\n",
    "        continue\n",
    "    \n",
    "    print(\" \"*space, \"*\"*count)\n",
    "    count -= 1\n",
    "    \n",
    "    if count < side:\n",
    "        break"
   ]
  }
 ],
 "metadata": {
  "kernelspec": {
   "display_name": ".venv",
   "language": "python",
   "name": "python3"
  },
  "language_info": {
   "codemirror_mode": {
    "name": "ipython",
    "version": 3
   },
   "file_extension": ".py",
   "mimetype": "text/x-python",
   "name": "python",
   "nbconvert_exporter": "python",
   "pygments_lexer": "ipython3",
   "version": "3.9.2"
  }
 },
 "nbformat": 4,
 "nbformat_minor": 2
}
