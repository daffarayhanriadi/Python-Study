{
 "cells": [
  {
   "cell_type": "markdown",
   "metadata": {},
   "source": [
    "**Simple Calculator Exercise**"
   ]
  },
  {
   "cell_type": "code",
   "execution_count": 2,
   "metadata": {},
   "outputs": [
    {
     "name": "stdout",
     "output_type": "stream",
     "text": [
      "====================\n",
      "Simple Calculator\n",
      "====================\n",
      "\n",
      "The result is 1.0\n",
      "The end of program, terima gajih!\n"
     ]
    }
   ],
   "source": [
    "print(20*\"=\")\n",
    "print(\"Simple Calculator\")\n",
    "print(20*\"=\" + \"\\n\")\n",
    "\n",
    "num1 = float(input(\"input num1 = \"))\n",
    "operator = input(\"operator (+,-,x,/) : \")\n",
    "num2 = float(input(\"input num2 = \"))\n",
    "\n",
    "if operator == \"+\":\n",
    "    result = num1 + num2\n",
    "    print(f\"The result is {result}\")\n",
    "elif operator == \"-\":\n",
    "    result = num1 - num2\n",
    "    print(f\"The result is {result}\")\n",
    "elif operator == \"*\" or operator == \"x\":\n",
    "    result = num1 * num2\n",
    "    print(f\"The result is {result}\")\n",
    "elif operator == \"/\":\n",
    "    result = num1 / num2\n",
    "    print(f\"The result is {result}\")\n",
    "else:\n",
    "    print(\"Input the right one!, I'm dizzy\")\n",
    "    \n",
    "print(\"The end of program, terima gajih!\")\n",
    "    "
   ]
  }
 ],
 "metadata": {
  "kernelspec": {
   "display_name": ".venv",
   "language": "python",
   "name": "python3"
  },
  "language_info": {
   "codemirror_mode": {
    "name": "ipython",
    "version": 3
   },
   "file_extension": ".py",
   "mimetype": "text/x-python",
   "name": "python",
   "nbconvert_exporter": "python",
   "pygments_lexer": "ipython3",
   "version": "3.12.4"
  }
 },
 "nbformat": 4,
 "nbformat_minor": 2
}
