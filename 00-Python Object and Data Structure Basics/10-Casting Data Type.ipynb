{
 "cells": [
  {
   "cell_type": "markdown",
   "metadata": {},
   "source": [
    "## **Apa itu Type Casting?**\n",
    "Type casting adalah proses mengubah satu tipe data ke tipe data lain. \n",
    "Ini berguna ketika kita ingin melakukan operasi pada variabel yang memerlukan tipe data tertentu.\n",
    "\n",
    "Casting tipe data adalah proses penting dalam Python yang memungkinkan kita untuk bekerja dengan \n",
    "berbagai tipe data dan memastikan bahwa variabel berada dalam tipe data yang sesuai untuk operasi \n",
    "tertentu. Dengan memahami fungsi-fungsi bawaan untuk casting tipe data, kita dapat menulis kode yang \n",
    "lebih fleksibel dan dapat diandalkan.\n",
    "\n",
    "## **Konversi Tipe Data di Python**\n",
    "Python menyediakan beberapa fungsi bawaan untuk mengubah tipe data. Berikut adalah beberapa \n",
    "yang paling umum:"
   ]
  },
  {
   "cell_type": "markdown",
   "metadata": {},
   "source": [
    "#### **int(): Mengubah nilai menjadi integer (bilangan bulat).**\n",
    "\n",
    "Mengonversi angka desimal atau string yang mewakili angka menjadi integer.\n",
    "\n",
    "    Catatan: String harus mewakili angka yang valid."
   ]
  },
  {
   "cell_type": "code",
   "execution_count": 14,
   "metadata": {},
   "outputs": [
    {
     "name": "stdout",
     "output_type": "stream",
     "text": [
      "====INTEGER====\n",
      "3 -> <class 'int'>\n",
      "10 -> <class 'int'>\n",
      "0 -> <class 'int'>\n"
     ]
    }
   ],
   "source": [
    "print(\"====INTEGER====\")\n",
    "# Dari float ke int, akan dibulatkan ke bawah\n",
    "a = int(3.14)\n",
    "print(a,\"->\", type(a))\n",
    "\n",
    "# Dari string ke int\n",
    "b = int(\"10\")\n",
    "print(b,\"->\", type(b))\n",
    "\n",
    "# Dari boolean ke int\n",
    "c = int(False) # False -> 0, True -> 1\n",
    "print(c,\"->\", type(c))"
   ]
  },
  {
   "cell_type": "markdown",
   "metadata": {},
   "source": [
    "#### **float(): Mengubah nilai menjadi float (bilangan desimal).**\n",
    "\n",
    "Mengonversi integer atau string yang mewakili angka menjadi float."
   ]
  },
  {
   "cell_type": "code",
   "execution_count": 15,
   "metadata": {},
   "outputs": [
    {
     "name": "stdout",
     "output_type": "stream",
     "text": [
      "====FLOAT====\n",
      "5.0 -> <class 'float'>\n",
      "3.14 -> <class 'float'>\n",
      "1.0 -> <class 'float'>\n"
     ]
    }
   ],
   "source": [
    "# Dari int ke float\n",
    "print(\"====FLOAT====\")\n",
    "d = float(5)\n",
    "print(d,\"->\", type(d))\n",
    "\n",
    "# Dari string ke float\n",
    "e = float(\"3.14\")\n",
    "print(e,\"->\", type(e))\n",
    "\n",
    "# Dari boolean ke float\n",
    "f = float(True) # True -> 1.0, False -> 0.0\n",
    "print(f,\"->\", type(f))"
   ]
  },
  {
   "cell_type": "markdown",
   "metadata": {},
   "source": [
    "#### **str(): Mengubah nilai menjadi string.**\n",
    "\n",
    "Mengonversi berbagai tipe data (seperti integer, float, boolean, list) menjadi string."
   ]
  },
  {
   "cell_type": "code",
   "execution_count": 10,
   "metadata": {},
   "outputs": [
    {
     "name": "stdout",
     "output_type": "stream",
     "text": [
      "====STRING====\n",
      "10 -> <class 'str'>\n",
      "3.14 -> <class 'str'>\n",
      "True -> <class 'str'>\n",
      "[1, 2, 3] -> <class 'str'>\n"
     ]
    }
   ],
   "source": [
    "print(\"====STRING====\")\n",
    "# Dari int ke str\n",
    "g = str(10)\n",
    "print(g,\"->\", type(g))\n",
    "\n",
    "# Dari float ke str\n",
    "h = str(3.14)\n",
    "print(h,\"->\", type(h))\n",
    "\n",
    "# Dari boolean ke str\n",
    "i = str(True) # True -> \"True\", False -> \"False\"\n",
    "print(i,\"->\", type(i))\n",
    "\n",
    "# Dari list ke str\n",
    "j = str([1, 2, 3])\n",
    "print(j,\"->\", type(j))"
   ]
  },
  {
   "cell_type": "markdown",
   "metadata": {},
   "source": [
    "#### **bool(): Mengubah nilai menjadi boolean.**\n",
    "\n",
    "Mengonversi berbagai tipe data menjadi boolean. Nilai kosong atau nol akan menjadi False, sementara nilai lainnya akan menjadi True."
   ]
  },
  {
   "cell_type": "code",
   "execution_count": 19,
   "metadata": {},
   "outputs": [
    {
     "name": "stdout",
     "output_type": "stream",
     "text": [
      "====BOOLEAN====\n",
      "False -> <class 'bool'>\n",
      "True -> <class 'bool'>\n",
      "False -> <class 'bool'>\n",
      "True -> <class 'bool'>\n",
      "False -> <class 'bool'>\n",
      "True -> <class 'bool'>\n",
      "False -> <class 'bool'>\n",
      "True -> <class 'bool'>\n"
     ]
    }
   ],
   "source": [
    "print(\"====BOOLEAN====\")\n",
    "# Dari int ke bool\n",
    "k = bool(0)\n",
    "print(k,\"->\", type(k))\n",
    "l = bool(1)\n",
    "print(l,\"->\", type(l))\n",
    "\n",
    "# Dari string ke bool\n",
    "m = bool(\"\")\n",
    "print(m,\"->\", type(m))\n",
    "n = bool(\"hello\")\n",
    "print(n,\"->\", type(n))\n",
    "\n",
    "# Dari float ke bool\n",
    "o = bool(0.0)\n",
    "print(o,\"->\", type(o))\n",
    "p = bool(1.0)\n",
    "print(p,\"->\", type(p))\n",
    "\n",
    "# Dari list ke bool\n",
    "q = bool([])\n",
    "print(q,\"->\", type(q))\n",
    "r = bool([\"hello\"])\n",
    "print(r,\"->\", type(r))"
   ]
  },
  {
   "cell_type": "markdown",
   "metadata": {},
   "source": [
    "#### **list(): Mengubah nilai menjadi list.**\n",
    "\n",
    "Mengonversi iterable (seperti string, tuple, set) menjadi list."
   ]
  },
  {
   "cell_type": "code",
   "execution_count": 20,
   "metadata": {},
   "outputs": [
    {
     "name": "stdout",
     "output_type": "stream",
     "text": [
      "====LIST====\n",
      "['h', 'e', 'l', 'l', 'o'] -> <class 'list'>\n",
      "[1, 2, 3] -> <class 'list'>\n",
      "[1, 2, 3] -> <class 'list'>\n"
     ]
    }
   ],
   "source": [
    "print(\"====LIST====\")\n",
    "# Dari string ke list\n",
    "s = list(\"hello\")\n",
    "print(s,\"->\", type(s))\n",
    "\n",
    "# Dari tuple ke list\n",
    "t = list((1, 2, 3))\n",
    "print(t,\"->\", type(t))\n",
    "\n",
    "# Dari set ke list\n",
    "u = list({1, 2, 3})\n",
    "print(u,\"->\", type(u))"
   ]
  },
  {
   "cell_type": "markdown",
   "metadata": {},
   "source": [
    "#### **tuple(): Mengubah nilai menjadi tuple.**\n",
    "\n",
    "Mengonversi iterable (seperti list, string, set) menjadi tuple."
   ]
  },
  {
   "cell_type": "code",
   "execution_count": 21,
   "metadata": {},
   "outputs": [
    {
     "name": "stdout",
     "output_type": "stream",
     "text": [
      "====TUPLE====\n",
      "(1, 2, 3) -> <class 'tuple'>\n",
      "('h', 'e', 'l', 'l', 'o') -> <class 'tuple'>\n",
      "(1, 2, 3) -> <class 'tuple'>\n"
     ]
    }
   ],
   "source": [
    "print(\"====TUPLE====\")\n",
    "# Dari list ke tuple\n",
    "v = tuple([1, 2, 3])\n",
    "print(v,\"->\", type(v))\n",
    "\n",
    "# Dari string ke tuple\n",
    "w = tuple(\"hello\")\n",
    "print(w,\"->\", type(w))\n",
    "\n",
    "# Dari set ke tuple\n",
    "x = tuple({1, 2, 3})\n",
    "print(x,\"->\", type(x))"
   ]
  },
  {
   "cell_type": "markdown",
   "metadata": {},
   "source": [
    "#### **set(): Mengubah nilai menjadi set.**\n",
    "\n",
    "Mengonversi iterable (seperti list, string, tuple) menjadi set, menghapus elemen duplikat."
   ]
  },
  {
   "cell_type": "code",
   "execution_count": 22,
   "metadata": {},
   "outputs": [
    {
     "name": "stdout",
     "output_type": "stream",
     "text": [
      "====SET====\n",
      "{1, 2, 3} -> <class 'set'>\n",
      "{'h', 'o', 'l', 'e'} -> <class 'set'>\n",
      "{1, 2, 3} -> <class 'set'>\n"
     ]
    }
   ],
   "source": [
    "print(\"====SET====\")\n",
    "# Dari list ke set\n",
    "y = set([1, 2, 2, 3])\n",
    "print(y,\"->\", type(y))\n",
    "\n",
    "# Dari string ke set\n",
    "z = set(\"hello\")\n",
    "print(z,\"->\", type(z))\n",
    "\n",
    "# Dari tuple ke set\n",
    "a1 = set((1, 2, 3))\n",
    "print(a1,\"->\", type(a1))"
   ]
  },
  {
   "cell_type": "markdown",
   "metadata": {},
   "source": [
    "#### **dict(): Mengubah nilai menjadi dictionary.**\n",
    "\n",
    "Mengonversi iterable yang berisi pasangan kunci-nilai menjadi dictionary."
   ]
  },
  {
   "cell_type": "code",
   "execution_count": 25,
   "metadata": {},
   "outputs": [
    {
     "name": "stdout",
     "output_type": "stream",
     "text": [
      "====DICT====\n",
      "{'a': 1, 'b': 2} -> <class 'dict'>\n",
      "{'a': 1, 'b': 2} -> <class 'dict'>\n"
     ]
    }
   ],
   "source": [
    "print(\"====DICT====\")\n",
    "# Dari list of tuples ke dict\n",
    "b1 = dict([(\"a\", 1), (\"b\", 2)])\n",
    "print(b1,\"->\", type(b1))\n",
    "\n",
    "# Dari list of lists ke dict\n",
    "b2 = dict([[\"a\", 1], [\"b\", 2]])\n",
    "print(b2,\"->\", type(b2))"
   ]
  }
 ],
 "metadata": {
  "kernelspec": {
   "display_name": ".venv",
   "language": "python",
   "name": "python3"
  },
  "language_info": {
   "codemirror_mode": {
    "name": "ipython",
    "version": 3
   },
   "file_extension": ".py",
   "mimetype": "text/x-python",
   "name": "python",
   "nbconvert_exporter": "python",
   "pygments_lexer": "ipython3",
   "version": "3.9.2"
  }
 },
 "nbformat": 4,
 "nbformat_minor": 2
}
