{
 "cells": [
  {
   "cell_type": "markdown",
   "metadata": {},
   "source": [
    "___\n",
    "\n",
    "<a href='https://www.udemy.com/user/joseportilla/'><img src='../Pierian_Data_Logo.png'/></a>\n",
    "___\n",
    "<center><em>Content Copyright by Pierian Data</em></center>"
   ]
  },
  {
   "cell_type": "markdown",
   "metadata": {},
   "source": [
    "# **String Formatting**\n",
    "\n",
    "String formatting lets you inject items into a string rather than trying to chain items together using commas or string concatenation. As a quick comparison, consider:\n",
    "\n",
    "```py\n",
    "player = 'Thomas'\n",
    "points = 33\n",
    "    \n",
    "'Last night, '+player+' scored '+str(points)+' points.'  # concatenation\n",
    "    \n",
    "f'Last night, {player} scored {points} points.'          # string formatting\n",
    "```\n",
    "\n",
    "\n",
    "There are three ways to perform string formatting.\n",
    "* The oldest method involves placeholders using the modulo `%` character.\n",
    "* An improved technique uses the `.format()` string method.\n",
    "* The newest method, introduced with Python 3.6, uses formatted string literals, called *f-strings*.\n",
    "\n",
    "Since you will likely encounter all three versions in someone else's code, we describe each of them here.\n",
    "\n",
    "Table of Content:\n",
    "1. `String Formatting with % Operators`\n",
    "2. `Formatting with the .format() method`\n",
    "3. `Formatted String Literals (f-strings)`"
   ]
  },
  {
   "cell_type": "markdown",
   "metadata": {},
   "source": [
    "## **Formatting with placeholders**\n",
    "## **String Formatting with `%` Operators**\n",
    "Old string formatting, you can use <code>%s</code> to inject strings into your print statements. The modulo `%` is referred to as a \"string formatting operator\".\n",
    "\n",
    "Here are some commonly used placeholders:\n",
    "\n",
    "1. `%s` : string\n",
    "2. `%d` : integer\n",
    "3. `%f` : float\n",
    "4. `%.nf` : float with n digits after the decimal point"
   ]
  },
  {
   "cell_type": "code",
   "execution_count": 1,
   "metadata": {},
   "outputs": [
    {
     "name": "stdout",
     "output_type": "stream",
     "text": [
      "I'm going to inject something here.\n"
     ]
    }
   ],
   "source": [
    "print(\"I'm going to inject %s here.\" %'something')"
   ]
  },
  {
   "cell_type": "markdown",
   "metadata": {},
   "source": [
    "You can pass multiple items by placing them inside a tuple after the `%` operator."
   ]
  },
  {
   "cell_type": "code",
   "execution_count": 2,
   "metadata": {},
   "outputs": [
    {
     "name": "stdout",
     "output_type": "stream",
     "text": [
      "I'm going to inject some text here, and more text here.\n"
     ]
    }
   ],
   "source": [
    "print(\"I'm going to inject %s text here, and %s text here.\" %('some','more'))"
   ]
  },
  {
   "cell_type": "markdown",
   "metadata": {},
   "source": [
    "You can also pass variable names:"
   ]
  },
  {
   "cell_type": "code",
   "execution_count": 3,
   "metadata": {},
   "outputs": [
    {
     "name": "stdout",
     "output_type": "stream",
     "text": [
      "I'm going to inject some text here, and more text here.\n"
     ]
    }
   ],
   "source": [
    "x, y = 'some', 'more'\n",
    "print(\"I'm going to inject %s text here, and %s text here.\"%(x,y))"
   ]
  },
  {
   "cell_type": "markdown",
   "metadata": {},
   "source": [
    "### **Format conversion methods.**\n",
    "It should be noted that two methods <code>%s</code> and <code>%r</code> convert any python object to a string using two separate methods: `str()` and `repr()`. We will learn more about these functions later on in the course, but you should note that `%r` and `repr()` deliver the *string representation* of the object, including quotation marks and any escape characters."
   ]
  },
  {
   "cell_type": "code",
   "execution_count": 4,
   "metadata": {},
   "outputs": [
    {
     "name": "stdout",
     "output_type": "stream",
     "text": [
      "He said his name was Fred.\n",
      "He said his name was 'Fred'.\n"
     ]
    }
   ],
   "source": [
    "print('He said his name was %s.' %'Fred')\n",
    "print('He said his name was %r.' %'Fred')"
   ]
  },
  {
   "cell_type": "markdown",
   "metadata": {},
   "source": [
    "As another example, `\\t` inserts a tab into a string."
   ]
  },
  {
   "cell_type": "code",
   "execution_count": 5,
   "metadata": {},
   "outputs": [
    {
     "name": "stdout",
     "output_type": "stream",
     "text": [
      "I once caught a fish this \tbig.\n",
      "I once caught a fish 'this \\tbig'.\n"
     ]
    }
   ],
   "source": [
    "print('I once caught a fish %s.' %'this \\tbig')\n",
    "print('I once caught a fish %r.' %'this \\tbig')"
   ]
  },
  {
   "cell_type": "markdown",
   "metadata": {},
   "source": [
    "The `%s` operator converts whatever it sees into a string, including integers and floats. The `%d` operator converts numbers to integers first, without rounding. Note the difference below:"
   ]
  },
  {
   "cell_type": "code",
   "execution_count": 6,
   "metadata": {},
   "outputs": [
    {
     "name": "stdout",
     "output_type": "stream",
     "text": [
      "I wrote 3.75 programs today.\n",
      "I wrote 3 programs today.\n"
     ]
    }
   ],
   "source": [
    "print('I wrote %s programs today.' %3.75)\n",
    "print('I wrote %d programs today.' %3.75)   "
   ]
  },
  {
   "cell_type": "markdown",
   "metadata": {},
   "source": [
    "### **Padding and Precision of Floating Point Numbers**\n",
    "Floating point numbers use the format <code>%5.2f</code>. Here, <code>5</code> would be the minimum number of characters the string should contain; these may be padded with whitespace if the entire number does not have this many digits. Next to this, <code>.2f</code> stands for how many numbers to show past the decimal point. Let's see some examples:"
   ]
  },
  {
   "cell_type": "code",
   "execution_count": 7,
   "metadata": {},
   "outputs": [
    {
     "name": "stdout",
     "output_type": "stream",
     "text": [
      "Floating point numbers: 13.14\n"
     ]
    }
   ],
   "source": [
    "print('Floating point numbers: %5.2f' %(13.144))"
   ]
  },
  {
   "cell_type": "code",
   "execution_count": 8,
   "metadata": {},
   "outputs": [
    {
     "name": "stdout",
     "output_type": "stream",
     "text": [
      "Floating point numbers: 13\n"
     ]
    }
   ],
   "source": [
    "print('Floating point numbers: %1.0f' %(13.144))"
   ]
  },
  {
   "cell_type": "code",
   "execution_count": 9,
   "metadata": {},
   "outputs": [
    {
     "name": "stdout",
     "output_type": "stream",
     "text": [
      "Floating point numbers: 13.14400\n"
     ]
    }
   ],
   "source": [
    "print('Floating point numbers: %1.5f' %(13.144))"
   ]
  },
  {
   "cell_type": "code",
   "execution_count": 10,
   "metadata": {},
   "outputs": [
    {
     "name": "stdout",
     "output_type": "stream",
     "text": [
      "Floating point numbers:      13.14\n"
     ]
    }
   ],
   "source": [
    "print('Floating point numbers: %10.2f' %(13.144))"
   ]
  },
  {
   "cell_type": "code",
   "execution_count": 11,
   "metadata": {},
   "outputs": [
    {
     "name": "stdout",
     "output_type": "stream",
     "text": [
      "Floating point numbers:                     13.14\n"
     ]
    }
   ],
   "source": [
    "print('Floating point numbers: %25.2f' %(13.144))"
   ]
  },
  {
   "cell_type": "markdown",
   "metadata": {},
   "source": [
    "For more information on string formatting with placeholders visit https://docs.python.org/3/library/stdtypes.html#old-string-formatting"
   ]
  },
  {
   "cell_type": "markdown",
   "metadata": {},
   "source": [
    "### **Multiple Formatting**\n",
    "Nothing prohibits using more than one conversion tool in the same print statement:"
   ]
  },
  {
   "cell_type": "code",
   "execution_count": 12,
   "metadata": {},
   "outputs": [
    {
     "name": "stdout",
     "output_type": "stream",
     "text": [
      "First: hi!, Second:  3.14, Third: 'bye!'\n"
     ]
    }
   ],
   "source": [
    "print('First: %s, Second: %5.2f, Third: %r' %('hi!',3.1415,'bye!'))"
   ]
  },
  {
   "cell_type": "markdown",
   "metadata": {},
   "source": [
    "## **Formatting with the `.format()` method**\n",
    "A better way to format objects into your strings for print statements is with the string `.format()` method. \n",
    "\n",
    "The syntax is: `'String here {} then also {}'.format('something1','something2')`\n",
    "    \n",
    "For example:"
   ]
  },
  {
   "cell_type": "code",
   "execution_count": 13,
   "metadata": {},
   "outputs": [
    {
     "name": "stdout",
     "output_type": "stream",
     "text": [
      "This is a string with an insert\n"
     ]
    }
   ],
   "source": [
    "print('This is a string with an {}'.format('insert'))"
   ]
  },
  {
   "cell_type": "markdown",
   "metadata": {},
   "source": [
    "### **The .format() method has several advantages over the %s placeholder method:**"
   ]
  },
  {
   "cell_type": "markdown",
   "metadata": {},
   "source": [
    "#### 1. Inserted objects can be called by index position:"
   ]
  },
  {
   "cell_type": "code",
   "execution_count": 14,
   "metadata": {},
   "outputs": [
    {
     "name": "stdout",
     "output_type": "stream",
     "text": [
      "The quick brown fox\n"
     ]
    }
   ],
   "source": [
    "print('The {2} {1} {0}'.format('fox','brown','quick'))"
   ]
  },
  {
   "cell_type": "markdown",
   "metadata": {},
   "source": [
    "#### 2. Inserted objects can be assigned keywords:"
   ]
  },
  {
   "cell_type": "code",
   "execution_count": 15,
   "metadata": {},
   "outputs": [
    {
     "name": "stdout",
     "output_type": "stream",
     "text": [
      "First Object: 1, Second Object: Two, Third Object: 12.3\n"
     ]
    }
   ],
   "source": [
    "print('First Object: {a}, Second Object: {b}, Third Object: {c}'.format(a=1,b='Two',c=12.3))"
   ]
  },
  {
   "cell_type": "markdown",
   "metadata": {},
   "source": [
    "#### 3. Inserted objects can be reused, avoiding duplication:"
   ]
  },
  {
   "cell_type": "code",
   "execution_count": 16,
   "metadata": {},
   "outputs": [
    {
     "name": "stdout",
     "output_type": "stream",
     "text": [
      "A penny saved is a penny earned.\n",
      "A penny saved is a penny earned.\n"
     ]
    }
   ],
   "source": [
    "print('A %s saved is a %s earned.' %('penny','penny'))\n",
    "# vs.\n",
    "print('A {p} saved is a {p} earned.'.format(p='penny'))"
   ]
  },
  {
   "cell_type": "markdown",
   "metadata": {},
   "source": [
    "### **Alignment, padding and precision with `.format()`**\n",
    "Within the curly braces you can assign field lengths, left/right alignments, rounding parameters and more"
   ]
  },
  {
   "cell_type": "code",
   "execution_count": 12,
   "metadata": {},
   "outputs": [
    {
     "name": "stdout",
     "output_type": "stream",
     "text": [
      "Fruit    | Quantity \n",
      "Apples   |       3.0\n",
      "Oranges  |        10\n"
     ]
    }
   ],
   "source": [
    "print('{0:8} | {1:9}'.format('Fruit', 'Quantity'))\n",
    "print('{0:8} | {1:9}'.format('Apples', 3.))\n",
    "print('{0:8} | {1:9}'.format('Oranges', 10))"
   ]
  },
  {
   "cell_type": "markdown",
   "metadata": {},
   "source": [
    "By default, `.format()` aligns text to the left, numbers to the right. You can pass an optional `<`,`^`, or `>` to set a left, center or right alignment:"
   ]
  },
  {
   "cell_type": "code",
   "execution_count": 18,
   "metadata": {},
   "outputs": [
    {
     "name": "stdout",
     "output_type": "stream",
     "text": [
      "Left     |  Center  |    Right\n",
      "11       |    22    |       33\n"
     ]
    }
   ],
   "source": [
    "print('{0:<8} | {1:^8} | {2:>8}'.format('Left','Center','Right'))\n",
    "print('{0:<8} | {1:^8} | {2:>8}'.format(11,22,33))"
   ]
  },
  {
   "cell_type": "markdown",
   "metadata": {},
   "source": [
    "You can precede the aligment operator with a padding character"
   ]
  },
  {
   "cell_type": "code",
   "execution_count": 19,
   "metadata": {},
   "outputs": [
    {
     "name": "stdout",
     "output_type": "stream",
     "text": [
      "Left==== | -Center- | ...Right\n",
      "11====== | ---22--- | ......33\n"
     ]
    }
   ],
   "source": [
    "print('{0:=<8} | {1:-^8} | {2:.>8}'.format('Left','Center','Right'))\n",
    "print('{0:=<8} | {1:-^8} | {2:.>8}'.format(11,22,33))"
   ]
  },
  {
   "cell_type": "markdown",
   "metadata": {},
   "source": [
    "Field widths and float precision are handled in a way similar to placeholders. The following two print statements are equivalent:"
   ]
  },
  {
   "cell_type": "code",
   "execution_count": 16,
   "metadata": {},
   "outputs": [
    {
     "name": "stdout",
     "output_type": "stream",
     "text": [
      "This is my ten-character, two-decimal number:     13.58\n",
      "This is my ten-character, two-decimal number:     13.58\n"
     ]
    }
   ],
   "source": [
    "print('This is my ten-character, two-decimal number:%10.2f' %13.579)\n",
    "print('This is my ten-character, two-decimal number:{0:10.2f}'.format(13.579))"
   ]
  },
  {
   "cell_type": "markdown",
   "metadata": {},
   "source": [
    "Note that there are 5 spaces following the colon, and 5 characters taken up by 13.58, for a total of ten characters.\n",
    "\n",
    "For more information on the string `.format()` method visit https://docs.python.org/3/library/string.html#formatstrings"
   ]
  },
  {
   "cell_type": "markdown",
   "metadata": {},
   "source": [
    "## **Formatted String Literals (f-strings)**"
   ]
  },
  {
   "cell_type": "markdown",
   "metadata": {},
   "source": [
    "Introduced in Python 3.6, f-strings offer several benefits over the older `.format()` string method described above. For one, you can bring outside variables immediately into to the string rather than pass them as arguments through `.format(var)`."
   ]
  },
  {
   "cell_type": "markdown",
   "metadata": {},
   "source": [
    "#### **Print Values of Variables and Evaluate Expressions**\n",
    "\n",
    "In any f-String, `{var_name}`, `{expression}` serve as placeholders for variables and expressions, and are replaced with the corresponding values at runtime."
   ]
  },
  {
   "cell_type": "code",
   "execution_count": 7,
   "metadata": {},
   "outputs": [
    {
     "name": "stdout",
     "output_type": "stream",
     "text": [
      "He said his name is Fred.\n"
     ]
    }
   ],
   "source": [
    "name = 'Fred'\n",
    "\n",
    "print(f\"He said his name is {name}.\")"
   ]
  },
  {
   "cell_type": "code",
   "execution_count": 9,
   "metadata": {},
   "outputs": [
    {
     "name": "stdout",
     "output_type": "stream",
     "text": [
      "The product of 10000 and 9 is 90000\n",
      "The product of 10000 and 9 is 90,000\n"
     ]
    }
   ],
   "source": [
    "num1 = 10000\n",
    "num2 = 9\n",
    "print(f\"The product of {num1} and {num2} is {num1 * num2}\")\n",
    "print(f\"The product of {num1} and {num2} is {num1 * num2:,}\")"
   ]
  },
  {
   "cell_type": "markdown",
   "metadata": {},
   "source": [
    "#### **Using an Object’s String Representations**\n",
    "\n",
    "Python’s f-strings support two flags with special meaning in the interpolation process. These flags are closely related to how Python manages the string representation of objects. These flags are:\n",
    "\n",
    "<style>\n",
    ".center{\n",
    "    text-align: center;\n",
    "}\n",
    "</style>\n",
    "\n",
    "<table>\n",
    "    <tr>\n",
    "        <th>Flag</th>\n",
    "        <th>Description</th>\n",
    "    </tr>\n",
    "    <tr>\n",
    "        <td class=\"center\">!s</td>\n",
    "        <td>Interpolates the string representation from the .__str__() method, calls str()</td>\n",
    "    </tr>\n",
    "    <tr>\n",
    "        <td class=\"center\">!r</td>\n",
    "        <td>Interpolates the string representation from the .__repr__() method, calls repr()</td>\n",
    "    </tr>\n",
    "    <tr>\n",
    "        <td class=\"center\">!a</td>\n",
    "        <td>Calls ascii()</td>\n",
    "    </tr>\n",
    "</table>"
   ]
  },
  {
   "cell_type": "code",
   "execution_count": 17,
   "metadata": {},
   "outputs": [],
   "source": [
    "class Person:\n",
    "    def __init__(self, name, age):\n",
    "        self.name = name\n",
    "        self.age = age\n",
    "    \n",
    "    def __str__(self):\n",
    "        return f\"I'm {self.name}, and I'm {self.age} years old\"\n",
    "    \n",
    "    def __repr__(self):\n",
    "        return f\"{type(self).__name__}(name='{self.name}', age={self.age})\""
   ]
  },
  {
   "cell_type": "code",
   "execution_count": 18,
   "metadata": {},
   "outputs": [
    {
     "name": "stdout",
     "output_type": "stream",
     "text": [
      "I'm Daffa, and I'm 22 years old.\n"
     ]
    }
   ],
   "source": [
    "daffa = Person(\"Daffa\", 22)\n",
    "print(f\"{daffa!s}.\")"
   ]
  },
  {
   "cell_type": "code",
   "execution_count": 21,
   "metadata": {},
   "outputs": [
    {
     "name": "stdout",
     "output_type": "stream",
     "text": [
      "Person(name='Daffa', age=22)\n"
     ]
    }
   ],
   "source": [
    "print(f\"{daffa!r}\")"
   ]
  },
  {
   "cell_type": "code",
   "execution_count": 32,
   "metadata": {},
   "outputs": [
    {
     "name": "stdout",
     "output_type": "stream",
     "text": [
      "He said his name is 'Fred'\n",
      "He said his name is 'Fred'.\n"
     ]
    }
   ],
   "source": [
    "print(f\"He said his name is {name!r}\")\n",
    "print(f\"He said his name is {repr(name)}.\")"
   ]
  },
  {
   "cell_type": "markdown",
   "metadata": {},
   "source": [
    "### **Data Types**\n",
    "There are many ways to represent strings and numbers when using f-strings. \n",
    "\n",
    "<style>\n",
    ".center{\n",
    "    text-align: center;\n",
    "}\n",
    "</style>\n",
    "\n",
    "<table>\n",
    "    <tr>\n",
    "        <th>Type</th>\n",
    "        <th>Meaning</th>\n",
    "    </tr>\n",
    "    <tr>\n",
    "        <td class=\"center\">s</td>\n",
    "        <td>String format--this is the default type for strings</td>\n",
    "    </tr>\n",
    "    <tr>\n",
    "        <td class=\"center\">d</td>\n",
    "        <td>Decimal integer. This uses a comma as the number separator character</td>\n",
    "    </tr>\n",
    "    <tr>\n",
    "        <td class=\"center\">n</td>\n",
    "        <td>Number. This is the same as <b>d</b> except that it uses the current locale setting to insert the appropriate number separator characters</td>\n",
    "    </tr>\n",
    "    <tr>\n",
    "        <td class=\"center\">f</td>\n",
    "        <td>Fixed-point notation. Displays the number as a fixed-point number. The default precision is 6</td>\n",
    "    </tr>\n",
    "    <tr>\n",
    "        <td class=\"center\">%</td>\n",
    "        <td>Percentage. Multiplies the number by 100 and displays in fixed (<b>f</b>) format, followed by a percent sign.</td>\n",
    "    </tr>\n",
    "    <tr>\n",
    "        <td class=\"center\">e</td>\n",
    "        <td>Exponent notation. Prints the number in scientific notation using the letter <b>e</b> to indicate the exponent. The default precision is 6.</td>\n",
    "    </tr>\n",
    "</table>"
   ]
  },
  {
   "cell_type": "markdown",
   "metadata": {},
   "source": [
    "#### **String formatting follows**"
   ]
  },
  {
   "cell_type": "code",
   "execution_count": 33,
   "metadata": {},
   "outputs": [
    {
     "name": "stdout",
     "output_type": "stream",
     "text": [
      "There are 10 pieces apples\n"
     ]
    }
   ],
   "source": [
    "variable = \"10\"\n",
    "# variable = 10 # (int) -> ERRROR\n",
    "print(f\"There are {variable:s} pieces apples\")"
   ]
  },
  {
   "cell_type": "markdown",
   "metadata": {},
   "source": [
    "### **The following is a basic example of the use of f-strings with numbers:**"
   ]
  },
  {
   "cell_type": "markdown",
   "metadata": {},
   "source": [
    "#### **Integer formatting follows**"
   ]
  },
  {
   "cell_type": "code",
   "execution_count": 15,
   "metadata": {},
   "outputs": [
    {
     "name": "stdout",
     "output_type": "stream",
     "text": [
      "Using Numeric variable = 10\n",
      "This prints without formatting 10\n",
      "This prints with formatting 10\n",
      "This prints also with formatting 10\n",
      "This prints with spacing         10\n"
     ]
    }
   ],
   "source": [
    "variable = 10\n",
    "print(f\"Using Numeric {variable = }\")\n",
    "print(f\"This prints without formatting {variable}\")\n",
    "print(f\"This prints with formatting {variable:d}\")\n",
    "print(f\"This prints also with formatting {variable:n}\")\n",
    "print(f\"This prints with spacing {variable:10d}\")"
   ]
  },
  {
   "cell_type": "markdown",
   "metadata": {},
   "source": [
    "#### **Float formatting follows `\"result: {value:{width}.{precision}}\"`**"
   ]
  },
  {
   "cell_type": "markdown",
   "metadata": {},
   "source": [
    "Where with the `.format()` method you might see `{value:10.4f}`, with f-strings this can become `{value:{10}.{6}}`\n"
   ]
  },
  {
   "cell_type": "code",
   "execution_count": 23,
   "metadata": {},
   "outputs": [
    {
     "name": "stdout",
     "output_type": "stream",
     "text": [
      "My 10 character, four decimal number is:   23.4568\n",
      "My 10 character, four decimal number is:   23.4568\n"
     ]
    }
   ],
   "source": [
    "num = 23.45678\n",
    "print(\"My 10 character, four decimal number is:{0:10.4f}\".format(num))\n",
    "print(f\"My 10 character, four decimal number is:{num:{10}.{6}}\")"
   ]
  },
  {
   "cell_type": "markdown",
   "metadata": {},
   "source": [
    "Note that with f-strings, *precision* refers to the total number of digits, not just those following the decimal. This fits more closely with scientific notation and statistical analysis. Unfortunately, f-strings do not pad to the right of the decimal, even if precision allows it:"
   ]
  },
  {
   "cell_type": "code",
   "execution_count": 2,
   "metadata": {},
   "outputs": [
    {
     "name": "stdout",
     "output_type": "stream",
     "text": [
      "My 10 character, four decimal number is:   23.4500\n",
      "My 10 character, four decimal number is:     23.45\n"
     ]
    }
   ],
   "source": [
    "num = 23.45\n",
    "print(\"My 10 character, four decimal number is:{0:10.4f}\".format(num))\n",
    "print(f\"My 10 character, four decimal number is:{num:{10}.{6}}\")"
   ]
  },
  {
   "cell_type": "markdown",
   "metadata": {},
   "source": [
    "If this becomes important, you can always use `.format()` method syntax inside an f-string:"
   ]
  },
  {
   "cell_type": "code",
   "execution_count": 46,
   "metadata": {},
   "outputs": [
    {
     "name": "stdout",
     "output_type": "stream",
     "text": [
      "My 10 character, four decimal number is:   23.4500\n",
      "My 10 character, four decimal number is:   23.4500\n"
     ]
    }
   ],
   "source": [
    "num = 23.45\n",
    "print(\"My 10 character, four decimal number is:{0:10.4f}\".format(num))\n",
    "print(f\"My 10 character, four decimal number is:{num:10.4f}\")"
   ]
  },
  {
   "cell_type": "markdown",
   "metadata": {},
   "source": [
    "Display `+` (plus) and `-` (minus) signs"
   ]
  },
  {
   "cell_type": "code",
   "execution_count": 47,
   "metadata": {},
   "outputs": [
    {
     "name": "stdout",
     "output_type": "stream",
     "text": [
      "minus = -10\n",
      "minus = +10.12\n"
     ]
    }
   ],
   "source": [
    "minus_num = -10\n",
    "plus_num = 10.1234\n",
    "print(f\"minus = {minus_num:+d}\")\n",
    "print(f\"minus = {plus_num:+.2f}\")"
   ]
  },
  {
   "cell_type": "markdown",
   "metadata": {},
   "source": [
    "#### **Percentage notation formatting follows**"
   ]
  },
  {
   "cell_type": "code",
   "execution_count": 14,
   "metadata": {},
   "outputs": [
    {
     "name": "stdout",
     "output_type": "stream",
     "text": [
      "Using Numeric variable = 4\n",
      "This prints without formatting 4\n",
      "This prints with percent formatting 400.000000%\n",
      "percent = 400.0%\n"
     ]
    }
   ],
   "source": [
    "variable = 4\n",
    "print(f\"Using Numeric {variable = }\")\n",
    "print(f\"This prints without formatting {variable}\")\n",
    "print(f\"This prints with percent formatting {variable:%}\")\n",
    "print(f\"percent = {variable:.1%}\")"
   ]
  },
  {
   "cell_type": "markdown",
   "metadata": {},
   "source": [
    "#### **Exponent notation formatting follows**"
   ]
  },
  {
   "cell_type": "code",
   "execution_count": 16,
   "metadata": {},
   "outputs": [
    {
     "name": "stdout",
     "output_type": "stream",
     "text": [
      "Using Numeric variable = 403267890\n",
      "This prints with exponential formatting 4.032679e+08\n"
     ]
    }
   ],
   "source": [
    "variable = 403267890\n",
    "print(f\"Using Numeric {variable = }\")\n",
    "print(f\"This prints with exponential formatting {variable:e}\")"
   ]
  },
  {
   "cell_type": "markdown",
   "metadata": {},
   "source": [
    "#### **Format another number (binary, octal, hexadecimal)**"
   ]
  },
  {
   "cell_type": "code",
   "execution_count": 34,
   "metadata": {},
   "outputs": [
    {
     "name": "stdout",
     "output_type": "stream",
     "text": [
      "binary = 0b11111111\n",
      "octal = 0o377\n",
      "hexadecimal = 0xff\n"
     ]
    }
   ],
   "source": [
    "num = 255\n",
    "\n",
    "print(f\"binary = {bin(num)}\")\n",
    "print(f\"octal = {oct(num)}\")\n",
    "print(f\"hexadecimal = {hex(num)}\")"
   ]
  },
  {
   "cell_type": "markdown",
   "metadata": {},
   "source": [
    "### **Alignment**\n",
    "\n",
    "<style>\n",
    ".center{\n",
    "    text-align:center;\n",
    "}\n",
    "</style>\n",
    "\n",
    "<table>\n",
    "    <tr>\n",
    "        <th>Option</th>\n",
    "        <th>Meaning</th>\n",
    "    </tr>\n",
    "    <tr>\n",
    "        <td class=\"center\"><</td>\n",
    "        <td>Forces the expression within the curly braces to be left-aligned. This is the default for strings.</td>\n",
    "    </tr>\n",
    "    <tr>\n",
    "        <td class=\"center\">></td>\n",
    "        <td>Forces the expression within the curly braces to be right-aligned. This is the default for numbers.</td>\n",
    "    </tr>\n",
    "    <tr>\n",
    "        <td class=\"center\">^</td>\n",
    "        <td>Forces the expression within the curly braces to be centered. </td>\n",
    "    </tr>\n",
    "</table>\n",
    "\n",
    "The following is an example using alignment for both a number and a string. The \"|\" is used in\n",
    "the f-string to help delineate the spacing. That number after the \":\"will cause that field to be\n",
    "that number of characters wide. The first line in the print() statement using f-strings is an\n",
    "example of using f-strings for debugging purposes which will be covered later."
   ]
  },
  {
   "cell_type": "code",
   "execution_count": 20,
   "metadata": {},
   "outputs": [
    {
     "name": "stdout",
     "output_type": "stream",
     "text": [
      "Using Numeric variable = 3.141592653589793\n",
      "|        3.141592653589793|\n",
      "|3.141592653589793        |\n",
      "|        3.141592653589793|\n",
      "|    3.141592653589793    |\n",
      "\n",
      "Using String variable = 'Python 3.9'\n",
      "|Python 3.9               |\n",
      "|Python 3.9               |\n",
      "|               Python 3.9|\n",
      "|       Python 3.9        |\n"
     ]
    }
   ],
   "source": [
    "import math\n",
    "variable = math.pi\n",
    "\n",
    "print(f\"Using Numeric {variable = }\")\n",
    "print(f\"|{variable:25}|\")\n",
    "print(f\"|{variable:<25}|\")\n",
    "print(f\"|{variable:>25}|\")\n",
    "print(f\"|{variable:^25}|\\n\")\n",
    "\n",
    "variable = \"Python 3.9\"\n",
    "print(f\"Using String {variable = }\")\n",
    "print(f\"|{variable:25}|\")\n",
    "print(f\"|{variable:<25}|\")\n",
    "print(f\"|{variable:>25}|\")\n",
    "print(f\"|{variable:^25}|\")"
   ]
  },
  {
   "cell_type": "markdown",
   "metadata": {},
   "source": [
    "A fill character can also be used in the alignment of f-strings. This is shown in the following\n",
    "example:"
   ]
  },
  {
   "cell_type": "code",
   "execution_count": 22,
   "metadata": {},
   "outputs": [
    {
     "name": "stdout",
     "output_type": "stream",
     "text": [
      "Using String variable = 3.141592653589793\n",
      "|3.141592653589793========|\n",
      "|========3.141592653589793|\n",
      "|====3.141592653589793====|\n",
      "\n",
      "Using String variable = 'Python 3.9'\n",
      "|Python 3.9===============|\n",
      "|===============Python 3.9|\n",
      "|=======Python 3.9========|\n"
     ]
    }
   ],
   "source": [
    "import math\n",
    "variable = math.pi\n",
    "\n",
    "print(f\"Using String {variable = }\")\n",
    "print(f\"|{variable:=<25}|\")\n",
    "print(f\"|{variable:=>25}|\")\n",
    "print(f\"|{variable:=^25}|\\n\")\n",
    "\n",
    "variable = \"Python 3.9\"\n",
    "print(f\"Using String {variable = }\")\n",
    "print(f\"|{variable:=<25}|\")\n",
    "print(f\"|{variable:=>25}|\")\n",
    "print(f\"|{variable:=^25}|\")"
   ]
  },
  {
   "cell_type": "markdown",
   "metadata": {},
   "source": [
    "#### **Self-Documenting Expressions for Debugging**\n",
    "\n",
    "Updated in version 3.9 of Python is the use of f-strings for debugging purposes.\n",
    "\n",
    "F-strings have another cool feature that can be useful, especially during your debugging process. The feature helps you self-document some of your expressions. For example, say that you’re dealing with a minor bug or issue in your code, and you want to know the value of a variable at a given moment in the code’s execution.\n",
    "\n",
    "For this quick check, you can insert a call `f'{expr=}'` to `print()` like the following:"
   ]
  },
  {
   "cell_type": "code",
   "execution_count": 31,
   "metadata": {},
   "outputs": [
    {
     "name": "stdout",
     "output_type": "stream",
     "text": [
      "variable ='Some mysterious value'\n"
     ]
    }
   ],
   "source": [
    "variable = \"Some mysterious value\"\n",
    "\n",
    "print(f\"{variable =}\")"
   ]
  },
  {
   "cell_type": "code",
   "execution_count": 23,
   "metadata": {},
   "outputs": [
    {
     "name": "stdout",
     "output_type": "stream",
     "text": [
      "goldenRatio=1.618033988749895\n",
      "goldenRatio = 1.618033988749895\n",
      "goldenRatio = 1.618034\n",
      "(1+math.sqrt(5))/2 = 1.618034\n"
     ]
    }
   ],
   "source": [
    "import math\n",
    "goldenRatio = (1+math.sqrt(5))/2\n",
    "print(f\"{goldenRatio=}\")\n",
    "print(f\"{goldenRatio = }\")\n",
    "print(f\"{goldenRatio = :.6f}\")\n",
    "print(f\"{(1+math.sqrt(5))/2 = :.6f}\")"
   ]
  },
  {
   "cell_type": "markdown",
   "metadata": {},
   "source": [
    "You can use a variable name followed by an equal sign (=) in an f-string to create a self-documented expression. When Python runs the f-string, it builds an expression-like string containing the variable’s name, the equal sign, and the variable’s current value. This f-string feature is useful for inserting quick debugging checks in your code."
   ]
  },
  {
   "cell_type": "markdown",
   "metadata": {},
   "source": [
    "**Conclusion**\n",
    "\n",
    "Printing output in Python is facilitated with f-strings as it can be considered What You See is\n",
    "What You Get (WYSIWYG). The procedure is as follows:\n",
    "* Placing between the quotation marks after the 'f' the text that you want displayed\n",
    "* Enclosing the variables to be displayed within the text in curly braces\n",
    "* Within those curly braces, placing a colon (:) after the variable\n",
    "* Formatting the variable using a format specification (width, alignment, data type) after\n",
    "the colon"
   ]
  },
  {
   "cell_type": "markdown",
   "metadata": {},
   "source": [
    "For more info on formatted string literals visit https://docs.python.org/3/reference/lexical_analysis.html#f-strings"
   ]
  },
  {
   "cell_type": "markdown",
   "metadata": {},
   "source": [
    "That is the basics of string formatting!"
   ]
  }
 ],
 "metadata": {
  "kernelspec": {
   "display_name": "Python 3",
   "language": "python",
   "name": "python3"
  },
  "language_info": {
   "codemirror_mode": {
    "name": "ipython",
    "version": 3
   },
   "file_extension": ".py",
   "mimetype": "text/x-python",
   "name": "python",
   "nbconvert_exporter": "python",
   "pygments_lexer": "ipython3",
   "version": "3.9.2"
  }
 },
 "nbformat": 4,
 "nbformat_minor": 1
}
