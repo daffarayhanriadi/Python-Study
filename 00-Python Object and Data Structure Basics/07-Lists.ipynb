{
 "cells": [
  {
   "cell_type": "markdown",
   "metadata": {},
   "source": [
    "___\n",
    "\n",
    "<a href='https://www.udemy.com/user/joseportilla/'><img src='../Pierian_Data_Logo.png'/></a>\n",
    "___\n",
    "<center><em>Content Copyright by Pierian Data</em></center>"
   ]
  },
  {
   "cell_type": "markdown",
   "metadata": {},
   "source": [
    "# **Lists**\n",
    "\n",
    "Earlier when discussing strings we introduced the concept of a *sequence* in Python. Lists can be thought of the most general version of a *sequence* in Python. Unlike strings, they are **mutable**, meaning the elements inside a list can be changed!\n",
    "\n",
    "**Table of Contents :**\n",
    "    \n",
    "1. `Creating lists`\n",
    "2. `Accessing List Elements Using Indexing and Slicing Lists`\n",
    "3. `Changing List Elements`\n",
    "   * `Concatinate list with (+) operator`\n",
    "   * `Duplication list with (*) operator`\n",
    "4. `Basic List Methods`\n",
    "   * `Adding Elements to a List`\n",
    "   * `Removing Elements from a List`\n",
    "   * `Sorting a List`\n",
    "   * `Copy List`\n",
    "     * `Shallow Copy`\n",
    "     * `Deep Copy`\n",
    "     * `Shallow Copy vs Deep Copy`\n",
    "     * `WORST Copy list`\n",
    "5. `Nesting Lists`\n",
    "6. `Introduction to List Comprehensions`\n",
    "7. `Built-in Functions for Lists`"
   ]
  },
  {
   "cell_type": "markdown",
   "metadata": {},
   "source": [
    "## **Creating lists**\n",
    "\n",
    "Lists are constructed with brackets [] and commas separating every element in the list.\n",
    "\n",
    "Let's go ahead and see how we can construct lists!"
   ]
  },
  {
   "cell_type": "code",
   "execution_count": 19,
   "metadata": {},
   "outputs": [
    {
     "name": "stdout",
     "output_type": "stream",
     "text": [
      "[]\n"
     ]
    }
   ],
   "source": [
    "# empty list \n",
    "my_list = []\n",
    "print(my_list)"
   ]
  },
  {
   "cell_type": "code",
   "execution_count": 8,
   "metadata": {
    "collapsed": true
   },
   "outputs": [
    {
     "name": "stdout",
     "output_type": "stream",
     "text": [
      "[1, 2, 3]\n"
     ]
    }
   ],
   "source": [
    "# Assign a list to an variable named my_list\n",
    "my_list = [1,2,3]\n",
    "print(my_list)"
   ]
  },
  {
   "cell_type": "markdown",
   "metadata": {},
   "source": [
    "We just created a list of integers, but lists can actually hold different object types. For example:"
   ]
  },
  {
   "cell_type": "code",
   "execution_count": 12,
   "metadata": {
    "collapsed": true
   },
   "outputs": [
    {
     "name": "stdout",
     "output_type": "stream",
     "text": [
      "['A string', 23, 100.232, 'o', ['Hi', 1, True], True, False, {1, 2}, {'name': 'daffa'}, (1, 'Hi')]\n"
     ]
    }
   ],
   "source": [
    "my_list = ['A string',23,100.232,'o', [\"Hi\", 1, True], True, False, set([1,2,2]),{'name':'daffa'}, (1, \"Hi\")]\n",
    "print(my_list)"
   ]
  },
  {
   "cell_type": "code",
   "execution_count": 2,
   "metadata": {},
   "outputs": [
    {
     "name": "stdout",
     "output_type": "stream",
     "text": [
      "[0, 2, 4, 6, 8]\n"
     ]
    }
   ],
   "source": [
    "# Using range()\n",
    "print(list(range(0,10,2)))"
   ]
  },
  {
   "cell_type": "markdown",
   "metadata": {},
   "source": [
    "Just like strings, the `len()` function will tell you how many items are in the sequence of the list."
   ]
  },
  {
   "cell_type": "code",
   "execution_count": 3,
   "metadata": {},
   "outputs": [
    {
     "data": {
      "text/plain": [
       "4"
      ]
     },
     "execution_count": 3,
     "metadata": {},
     "output_type": "execute_result"
    }
   ],
   "source": [
    "len(my_list)"
   ]
  },
  {
   "cell_type": "markdown",
   "metadata": {},
   "source": [
    "### **Accessing List Elements Using Indexing and Slicing Lists**\n",
    "Indexing and slicing work just like in strings. Let's make a new list to remind ourselves of how this works:"
   ]
  },
  {
   "cell_type": "code",
   "execution_count": 2,
   "metadata": {
    "collapsed": true
   },
   "outputs": [],
   "source": [
    "my_list = ['one','two','three',4,5]"
   ]
  },
  {
   "cell_type": "code",
   "execution_count": 3,
   "metadata": {},
   "outputs": [
    {
     "data": {
      "text/plain": [
       "'one'"
      ]
     },
     "execution_count": 3,
     "metadata": {},
     "output_type": "execute_result"
    }
   ],
   "source": [
    "# Grab element at index 0\n",
    "my_list[0]"
   ]
  },
  {
   "cell_type": "code",
   "execution_count": 4,
   "metadata": {},
   "outputs": [
    {
     "data": {
      "text/plain": [
       "['two', 'three', 4, 5]"
      ]
     },
     "execution_count": 4,
     "metadata": {},
     "output_type": "execute_result"
    }
   ],
   "source": [
    "# Grab index 1 and everything past it\n",
    "my_list[1:]"
   ]
  },
  {
   "cell_type": "code",
   "execution_count": 5,
   "metadata": {},
   "outputs": [
    {
     "data": {
      "text/plain": [
       "['one', 'two', 'three']"
      ]
     },
     "execution_count": 5,
     "metadata": {},
     "output_type": "execute_result"
    }
   ],
   "source": [
    "# Grab everything UP TO index 3\n",
    "my_list[:3]"
   ]
  },
  {
   "cell_type": "code",
   "execution_count": 6,
   "metadata": {},
   "outputs": [
    {
     "data": {
      "text/plain": [
       "[5, 4, 'three', 'two', 'one']"
      ]
     },
     "execution_count": 6,
     "metadata": {},
     "output_type": "execute_result"
    }
   ],
   "source": [
    "# Reverse with slicing\n",
    "my_list[::-1]"
   ]
  },
  {
   "cell_type": "markdown",
   "metadata": {},
   "source": [
    "## **Changing List Elements**\n",
    "\n",
    "Because lists are mutable, you can change the elements in them."
   ]
  },
  {
   "cell_type": "markdown",
   "metadata": {},
   "source": [
    "We can also use + to concatenate lists, just like we did for strings."
   ]
  },
  {
   "cell_type": "code",
   "execution_count": 24,
   "metadata": {},
   "outputs": [
    {
     "data": {
      "text/plain": [
       "['one', 'two', 'three', 4, 5]"
      ]
     },
     "execution_count": 24,
     "metadata": {},
     "output_type": "execute_result"
    }
   ],
   "source": [
    "my_list"
   ]
  },
  {
   "cell_type": "code",
   "execution_count": 25,
   "metadata": {},
   "outputs": [
    {
     "data": {
      "text/plain": [
       "[1, 'two', 'three', 4, 5]"
      ]
     },
     "execution_count": 25,
     "metadata": {},
     "output_type": "execute_result"
    }
   ],
   "source": [
    "my_list[0] = 1\n",
    "my_list"
   ]
  },
  {
   "cell_type": "code",
   "execution_count": 8,
   "metadata": {},
   "outputs": [
    {
     "data": {
      "text/plain": [
       "['one', 'two', 'three', 4, 5, 'new item']"
      ]
     },
     "execution_count": 8,
     "metadata": {},
     "output_type": "execute_result"
    }
   ],
   "source": [
    "my_list + ['new item']"
   ]
  },
  {
   "cell_type": "markdown",
   "metadata": {},
   "source": [
    "Note: This doesn't actually change the original list!"
   ]
  },
  {
   "cell_type": "code",
   "execution_count": 9,
   "metadata": {},
   "outputs": [
    {
     "data": {
      "text/plain": [
       "['one', 'two', 'three', 4, 5]"
      ]
     },
     "execution_count": 9,
     "metadata": {},
     "output_type": "execute_result"
    }
   ],
   "source": [
    "my_list"
   ]
  },
  {
   "cell_type": "markdown",
   "metadata": {},
   "source": [
    "You would have to reassign the list to make the change permanent."
   ]
  },
  {
   "cell_type": "code",
   "execution_count": 10,
   "metadata": {
    "collapsed": true
   },
   "outputs": [],
   "source": [
    "# Reassign\n",
    "my_list = my_list + ['add new item permanently']"
   ]
  },
  {
   "cell_type": "code",
   "execution_count": 11,
   "metadata": {},
   "outputs": [
    {
     "data": {
      "text/plain": [
       "['one', 'two', 'three', 4, 5, 'add new item permanently']"
      ]
     },
     "execution_count": 11,
     "metadata": {},
     "output_type": "execute_result"
    }
   ],
   "source": [
    "my_list"
   ]
  },
  {
   "cell_type": "markdown",
   "metadata": {},
   "source": [
    "We can also use the * for a duplication method similar to strings:"
   ]
  },
  {
   "cell_type": "code",
   "execution_count": 12,
   "metadata": {},
   "outputs": [
    {
     "data": {
      "text/plain": [
       "['one',\n",
       " 'two',\n",
       " 'three',\n",
       " 4,\n",
       " 5,\n",
       " 'add new item permanently',\n",
       " 'one',\n",
       " 'two',\n",
       " 'three',\n",
       " 4,\n",
       " 5,\n",
       " 'add new item permanently']"
      ]
     },
     "execution_count": 12,
     "metadata": {},
     "output_type": "execute_result"
    }
   ],
   "source": [
    "# Make the list double\n",
    "my_list * 2"
   ]
  },
  {
   "cell_type": "code",
   "execution_count": 13,
   "metadata": {},
   "outputs": [
    {
     "data": {
      "text/plain": [
       "['one', 'two', 'three', 4, 5, 'add new item permanently']"
      ]
     },
     "execution_count": 13,
     "metadata": {},
     "output_type": "execute_result"
    }
   ],
   "source": [
    "# Again doubling not permanent\n",
    "my_list"
   ]
  },
  {
   "cell_type": "markdown",
   "metadata": {},
   "source": [
    "## **Basic List Methods**\n",
    "\n",
    "If you are familiar with another programming language, you might start to draw parallels between arrays in another language and lists in Python. Lists in Python however, tend to be more flexible than arrays in other languages for a two good reasons: they have no fixed size (meaning we don't have to specify how big a list will be), and they have no fixed type constraint (like we've seen above).\n",
    "\n",
    "Let's go ahead and explore some more special methods for lists:"
   ]
  },
  {
   "cell_type": "markdown",
   "metadata": {},
   "source": [
    "### **Adding Elements to a List**\n",
    "\n",
    "You can add elements to a list using the `append()`, `insert()`, and `extend()` methods."
   ]
  },
  {
   "cell_type": "code",
   "execution_count": 56,
   "metadata": {
    "collapsed": true
   },
   "outputs": [],
   "source": [
    "# Create a new list\n",
    "list1 = [1,2,3]"
   ]
  },
  {
   "cell_type": "markdown",
   "metadata": {},
   "source": [
    "**append(*object*)** method to permanently **add an item to the end of a list**:"
   ]
  },
  {
   "cell_type": "code",
   "execution_count": 57,
   "metadata": {
    "collapsed": true
   },
   "outputs": [
    {
     "name": "stdout",
     "output_type": "stream",
     "text": [
      "[1, 2, 3, 'append me!']\n"
     ]
    }
   ],
   "source": [
    "# Append\n",
    "list1.append('append me!')\n",
    "print(list1)"
   ]
  },
  {
   "cell_type": "markdown",
   "metadata": {},
   "source": [
    "**insert(*index*, *object*)** method to **Adds elements at a specific index**:"
   ]
  },
  {
   "cell_type": "code",
   "execution_count": 58,
   "metadata": {},
   "outputs": [
    {
     "name": "stdout",
     "output_type": "stream",
     "text": [
      "[1, 6, 2, 3, 'append me!']\n"
     ]
    }
   ],
   "source": [
    "list1.insert(1, 6)\n",
    "print(list1)"
   ]
  },
  {
   "cell_type": "markdown",
   "metadata": {},
   "source": [
    "**extend(*iterable*)** method to **Add some elements at the end of the list**:"
   ]
  },
  {
   "cell_type": "code",
   "execution_count": 59,
   "metadata": {},
   "outputs": [
    {
     "name": "stdout",
     "output_type": "stream",
     "text": [
      "[1, 6, 2, 3, 'append me!', 7, 'Hi', True]\n"
     ]
    }
   ],
   "source": [
    "list1.extend([7, \"Hi\", True])\n",
    "print(list1)"
   ]
  },
  {
   "cell_type": "markdown",
   "metadata": {},
   "source": [
    "### **Removing Elements from a List**\n",
    "\n",
    "You can remove elements from a list using the `remove()`, `pop()`, `del`, `clear()` methods."
   ]
  },
  {
   "cell_type": "markdown",
   "metadata": {},
   "source": [
    "**remove(*value*)** method to **Removes the first element found**."
   ]
  },
  {
   "cell_type": "code",
   "execution_count": 60,
   "metadata": {},
   "outputs": [
    {
     "name": "stdout",
     "output_type": "stream",
     "text": [
      "[1, 2, 3, 'append me!', 7, 'Hi', True]\n"
     ]
    }
   ],
   "source": [
    "list1.remove(6)\n",
    "print(list1)"
   ]
  },
  {
   "cell_type": "markdown",
   "metadata": {},
   "source": [
    "Use **pop(*index*)** to \"pop off\" an item from the list. **By default pop takes off the last index (-1)**, but you can also specify which index to pop off. Let's see an example:"
   ]
  },
  {
   "cell_type": "code",
   "execution_count": 61,
   "metadata": {},
   "outputs": [
    {
     "data": {
      "text/plain": [
       "1"
      ]
     },
     "execution_count": 61,
     "metadata": {},
     "output_type": "execute_result"
    }
   ],
   "source": [
    "# Pop off the 0 indexed item\n",
    "list1.pop(0)"
   ]
  },
  {
   "cell_type": "code",
   "execution_count": 62,
   "metadata": {},
   "outputs": [
    {
     "data": {
      "text/plain": [
       "[2, 3, 'append me!', 7, 'Hi', True]"
      ]
     },
     "execution_count": 62,
     "metadata": {},
     "output_type": "execute_result"
    }
   ],
   "source": [
    "list1"
   ]
  },
  {
   "cell_type": "markdown",
   "metadata": {},
   "source": [
    "Delete elements at a specific index using **del**"
   ]
  },
  {
   "cell_type": "code",
   "execution_count": 63,
   "metadata": {},
   "outputs": [
    {
     "name": "stdout",
     "output_type": "stream",
     "text": [
      "[3, 'append me!', 7, 'Hi', True]\n"
     ]
    }
   ],
   "source": [
    "del list1[0]\n",
    "print(list1)"
   ]
  },
  {
   "cell_type": "markdown",
   "metadata": {},
   "source": [
    "**clear(*value*)** method to **Remove all elements from the list**."
   ]
  },
  {
   "cell_type": "code",
   "execution_count": 64,
   "metadata": {},
   "outputs": [
    {
     "name": "stdout",
     "output_type": "stream",
     "text": [
      "[]\n"
     ]
    }
   ],
   "source": [
    "list1.clear()\n",
    "print(list1)"
   ]
  },
  {
   "cell_type": "markdown",
   "metadata": {},
   "source": [
    "It should also be noted that lists indexing will return an error if there is no element at that index. For example:"
   ]
  },
  {
   "cell_type": "code",
   "execution_count": 67,
   "metadata": {},
   "outputs": [
    {
     "ename": "IndexError",
     "evalue": "list index out of range",
     "output_type": "error",
     "traceback": [
      "\u001b[1;31m---------------------------------------------------------------------------\u001b[0m",
      "\u001b[1;31mIndexError\u001b[0m                                Traceback (most recent call last)",
      "Cell \u001b[1;32mIn[67], line 2\u001b[0m\n\u001b[0;32m      1\u001b[0m list1 \u001b[38;5;241m=\u001b[39m [\u001b[38;5;241m1\u001b[39m,\u001b[38;5;241m2\u001b[39m,\u001b[38;5;241m3\u001b[39m]\n\u001b[1;32m----> 2\u001b[0m \u001b[43mlist1\u001b[49m\u001b[43m[\u001b[49m\u001b[38;5;241;43m100\u001b[39;49m\u001b[43m]\u001b[49m\n",
      "\u001b[1;31mIndexError\u001b[0m: list index out of range"
     ]
    }
   ],
   "source": [
    "list1 = [1,2,3]\n",
    "list1[100]"
   ]
  },
  {
   "cell_type": "markdown",
   "metadata": {},
   "source": [
    "### **Sorting a List**\n",
    "You can sort the elements in a list using the `sort()` and `sorted()` methods."
   ]
  },
  {
   "cell_type": "markdown",
   "metadata": {},
   "source": [
    "We can use the **sort** method and the **reverse** methods to also effect your lists:"
   ]
  },
  {
   "cell_type": "code",
   "execution_count": 73,
   "metadata": {
    "collapsed": true
   },
   "outputs": [
    {
     "name": "stdout",
     "output_type": "stream",
     "text": [
      "[5, 2, 9, 1, 5, 6]\n"
     ]
    }
   ],
   "source": [
    "numbers = [5, 2, 9, 1, 5, 6]\n",
    "print(numbers)"
   ]
  },
  {
   "cell_type": "markdown",
   "metadata": {},
   "source": [
    "**sorted()** method to **Sort a list without changing the original list**."
   ]
  },
  {
   "cell_type": "code",
   "execution_count": 74,
   "metadata": {},
   "outputs": [
    {
     "name": "stdout",
     "output_type": "stream",
     "text": [
      "[1, 2, 5, 5, 6, 9]\n"
     ]
    }
   ],
   "source": [
    "sorted_item = sorted(numbers)\n",
    "print(sorted_item)"
   ]
  },
  {
   "cell_type": "code",
   "execution_count": 75,
   "metadata": {},
   "outputs": [
    {
     "name": "stdout",
     "output_type": "stream",
     "text": [
      "[5, 2, 9, 1, 5, 6]\n"
     ]
    }
   ],
   "source": [
    "# Original List\n",
    "print(numbers)"
   ]
  },
  {
   "cell_type": "markdown",
   "metadata": {},
   "source": [
    "**sort('*, *key=None*, *reverse=False*)** method to **Permanently sort the list**."
   ]
  },
  {
   "cell_type": "code",
   "execution_count": 76,
   "metadata": {
    "collapsed": true
   },
   "outputs": [
    {
     "name": "stdout",
     "output_type": "stream",
     "text": [
      "[1, 2, 5, 5, 6, 9]\n"
     ]
    }
   ],
   "source": [
    "# Use sort to sort the list (in this case alphabetical order, but for numbers it will go ascending)\n",
    "numbers.sort()\n",
    "print(numbers)"
   ]
  },
  {
   "cell_type": "markdown",
   "metadata": {},
   "source": [
    "**More method**\n",
    "\n",
    "Use **reverse()** method to reverse order (this is permanent!)"
   ]
  },
  {
   "cell_type": "code",
   "execution_count": 77,
   "metadata": {
    "collapsed": true
   },
   "outputs": [
    {
     "name": "stdout",
     "output_type": "stream",
     "text": [
      "[9, 6, 5, 5, 2, 1]\n"
     ]
    }
   ],
   "source": [
    "# Use reverse to reverse order (this is permanent!)\n",
    "numbers.reverse()\n",
    "print(numbers)"
   ]
  },
  {
   "cell_type": "markdown",
   "metadata": {},
   "source": [
    "### **Copy List**\n",
    "\n",
    "**Why Copy a List?**\n",
    "Copying a list is necessary when you want to make changes to the copy without modifying the original list. This is important to avoid unwanted side effects when working with the same data in different places in your code.\n",
    "\n",
    "In Python, copying a list can be done in several ways, and each method has its own characteristics and uses. Let's discuss the various methods for copying lists in detail.\n",
    "\n",
    "**`Shallow Copy`**: Only copies references to elements of the original list. Modification of elements in shallow copy will affect the original list if those elements are mutable objects.\n",
    "\n",
    "**`Deep Copy`**: Copies the entire data structure, including the elements in the nested list. Modification of elements in deep copy does not affect the original list.\n",
    "\n",
    "Choosing the right method to copy a list depends on your specific needs:\n",
    "\n",
    "* Use `[:]`, `list()`, or `copy()` for **shallow copies of one-dimensional lists**.\n",
    "* Use `copy.deepcopy()` for **deep copies of nested lists or complex data structures**."
   ]
  },
  {
   "cell_type": "markdown",
   "metadata": {},
   "source": [
    "##### **Shallow Copy**\n",
    "**Using the Slicing Operator**\n",
    "\n",
    "This method copies all list elements using slicing (`[:]`). This is effective for simple (one-dimensional) lists."
   ]
  },
  {
   "cell_type": "code",
   "execution_count": 6,
   "metadata": {},
   "outputs": [
    {
     "name": "stdout",
     "output_type": "stream",
     "text": [
      "[1, 2, 3, 4, 5]\n",
      "['a', 2, 3, 4, 5]\n"
     ]
    }
   ],
   "source": [
    "original_list = [1,2,3,4,5]\n",
    "copied_list = original_list[:]\n",
    "\n",
    "copied_list[0] = \"a\"\n",
    "\n",
    "print(original_list)\n",
    "print(copied_list)"
   ]
  },
  {
   "cell_type": "markdown",
   "metadata": {},
   "source": [
    "**Using the list() Function**\n",
    "\n",
    "This method uses the `list()` constructor to create a new copy of the list."
   ]
  },
  {
   "cell_type": "code",
   "execution_count": 7,
   "metadata": {},
   "outputs": [
    {
     "name": "stdout",
     "output_type": "stream",
     "text": [
      "[1, 2, 3, 4, 5]\n",
      "['a', 2, 3, 4, 5]\n"
     ]
    }
   ],
   "source": [
    "original_list = [1, 2, 3, 4, 5]\n",
    "copied_list = list(original_list)\n",
    "\n",
    "copied_list[0] = \"a\"\n",
    "\n",
    "print(original_list)\n",
    "print(copied_list)"
   ]
  },
  {
   "cell_type": "markdown",
   "metadata": {},
   "source": [
    "**Using the copy() Method**\n",
    "\n",
    "Lists in Python have a `copy()` method that returns a new copy of the list."
   ]
  },
  {
   "cell_type": "code",
   "execution_count": 3,
   "metadata": {},
   "outputs": [
    {
     "name": "stdout",
     "output_type": "stream",
     "text": [
      "[1, 2, 3, 4, 5]\n",
      "['a', 2, 3, 4, 5]\n"
     ]
    }
   ],
   "source": [
    "original_list = [1,2,3,4,5]\n",
    "copied_list = original_list.copy()\n",
    "\n",
    "copied_list[0] = \"a\"\n",
    "\n",
    "print(original_list)\n",
    "print(copied_list)"
   ]
  },
  {
   "cell_type": "markdown",
   "metadata": {},
   "source": [
    "**Using the copy module (Shallow Copy)**\n",
    "\n",
    "The copy module in Python provides a `copy() function` to perform shallow copy."
   ]
  },
  {
   "cell_type": "code",
   "execution_count": 8,
   "metadata": {},
   "outputs": [
    {
     "name": "stdout",
     "output_type": "stream",
     "text": [
      "[1, 2, 3, 4, 5]\n",
      "['a', 2, 3, 4, 5]\n"
     ]
    }
   ],
   "source": [
    "import copy\n",
    "\n",
    "original_list = [1, 2, 3, 4, 5]\n",
    "copied_list = copy.copy(original_list)\n",
    "\n",
    "copied_list[0] = \"a\"\n",
    "\n",
    "print(original_list)\n",
    "print(copied_list)"
   ]
  },
  {
   "cell_type": "markdown",
   "metadata": {},
   "source": [
    "##### **Deep Copy**\n",
    "**Using the copy Module (Deep Copy)**\n",
    "\n",
    "`For lists that contain other lists` **`(nested lists)`**, shallow copy is not sufficient as it only copies the references of the elements in the list. To copy the entire structure, use `deepcopy()`."
   ]
  },
  {
   "cell_type": "code",
   "execution_count": 9,
   "metadata": {},
   "outputs": [
    {
     "name": "stdout",
     "output_type": "stream",
     "text": [
      "[[1, 2, 3], [4, 5, 6], [7, 8, 9]]\n",
      "[['a', 2, 3], [4, 5, 6], [7, 8, 9]]\n"
     ]
    }
   ],
   "source": [
    "import copy\n",
    "\n",
    "original_list = [[1, 2, 3], [4, 5, 6], [7, 8, 9]]\n",
    "copied_list = copy.deepcopy(original_list)\n",
    "\n",
    "copied_list[0][0] = \"a\"\n",
    "\n",
    "print(original_list)\n",
    "print(copied_list)"
   ]
  },
  {
   "cell_type": "markdown",
   "metadata": {},
   "source": [
    "##### **Shallow Copy vs Deep Copy**"
   ]
  },
  {
   "cell_type": "code",
   "execution_count": 25,
   "metadata": {},
   "outputs": [
    {
     "name": "stdout",
     "output_type": "stream",
     "text": [
      "original address = 0x11f7a383ec0\n",
      "shallow copy address = 0x11f7a3764c0\n",
      "\n",
      "original address member [0] = 0x11f7a3ae500\n",
      "shallow copy address member [0] = 0x11f7a3ae500\n",
      "\n",
      "[['a', 2, 3], [4, 5, 6], [7, 8, 9]]\n",
      "[['a', 2, 3], [4, 5, 6], [7, 8, 9]]\n"
     ]
    }
   ],
   "source": [
    "import copy\n",
    "\n",
    "original_list = [[1, 2, 3], [4, 5, 6], [7, 8, 9]]\n",
    "shallow_copied_list = copy.copy(original_list) # Shallow Copy\n",
    "\n",
    "# The variable address is different, but the member/item address is still same\n",
    "print(\"original address =\", hex(id(original_list)))\n",
    "print(\"shallow copy address =\", hex(id(shallow_copied_list)))\n",
    "print(\"\\noriginal address member [0] =\", hex(id(original_list[0]))) # Still Same Address\n",
    "print(\"shallow copy address member [0] =\", hex(id(shallow_copied_list[0]))) # Still Same Address\n",
    "\n",
    "shallow_copied_list[0][0] = 'a'\n",
    "\n",
    "print()\n",
    "print(original_list)\n",
    "print(shallow_copied_list)"
   ]
  },
  {
   "cell_type": "code",
   "execution_count": 26,
   "metadata": {},
   "outputs": [
    {
     "name": "stdout",
     "output_type": "stream",
     "text": [
      "original address = 0x11f7a31e300\n",
      "shallow copy address = 0x11f7a364f00\n",
      "\n",
      "original address member [0] = 0x11f7a3231c0\n",
      "shallow copy address member [0] = 0x11f7a2e7c40\n",
      "\n",
      "[[1, 2, 3], [4, 5, 6], [7, 8, 9]]\n",
      "[['a', 2, 3], [4, 5, 6], [7, 8, 9]]\n"
     ]
    }
   ],
   "source": [
    "import copy\n",
    "\n",
    "original_list = [[1, 2, 3], [4, 5, 6], [7, 8, 9]]\n",
    "shallow_copied_list = copy.deepcopy(original_list) # Deep Copy\n",
    "\n",
    "# The variable and member/item address is different\n",
    "print(\"original address =\", hex(id(original_list)))\n",
    "print(\"shallow copy address =\", hex(id(shallow_copied_list)))\n",
    "print(\"\\noriginal address member [0] =\", hex(id(original_list[0])))\n",
    "print(\"shallow copy address member [0] =\", hex(id(shallow_copied_list[0]))) \n",
    "\n",
    "shallow_copied_list[0][0] = 'a'\n",
    "\n",
    "print()\n",
    "print(original_list)\n",
    "print(shallow_copied_list)"
   ]
  },
  {
   "cell_type": "markdown",
   "metadata": {},
   "source": [
    "##### **WORST Copy list**"
   ]
  },
  {
   "cell_type": "code",
   "execution_count": 12,
   "metadata": {},
   "outputs": [
    {
     "name": "stdout",
     "output_type": "stream",
     "text": [
      "['a', 2, 3, 4, 5] memory = 0x11f7a383680\n",
      "['a', 2, 3, 4, 5] memory = 0x11f7a383680\n"
     ]
    }
   ],
   "source": [
    "original_list = [1, 2, 3, 4, 5]\n",
    "shallow_copied_list = original_list\n",
    "\n",
    "shallow_copied_list[0] = 'a'\n",
    "\n",
    "print(original_list, \"memory =\", hex(id(original_list))) # Same Reference and Same Object\n",
    "print(shallow_copied_list, \"memory =\", hex(id(shallow_copied_list))) # Same Reference and Same Object"
   ]
  },
  {
   "cell_type": "markdown",
   "metadata": {},
   "source": [
    "**Detailed Explanation**\n",
    "\n",
    "1. **Same Reference and Same Object**: When you set shallow_copied_list = original_list, you are only copying a reference to the same list object, not creating a new list. That is, both variables refer to the same memory location.\n",
    "\n",
    "2. **Reflective Change**: Since shallow_copied_list and original_list refer to the same object, changes made through either variable will be directly reflected in the other. In this example, changing shallow_copied_list[0] also changes original_list[0].\n",
    "\n",
    "**Consequences**\n",
    "Memory Efficient: No extra memory is used to make a copy of the list.\n",
    "Potential Bugs: Unintentional modification through one of the variables can cause a bug if other variables expect unchanged data."
   ]
  },
  {
   "cell_type": "markdown",
   "metadata": {},
   "source": [
    "## **Nesting Lists**\n",
    "A great feature of of Python data structures is that they support *nesting*. This means we can have data structures within data structures. For example: A list inside a list.\n",
    "\n",
    "Let's see how this works!"
   ]
  },
  {
   "cell_type": "code",
   "execution_count": 3,
   "metadata": {
    "collapsed": true
   },
   "outputs": [],
   "source": [
    "# Let's make three lists\n",
    "lst_1=[1,2,3]\n",
    "lst_2=[4,5,6]\n",
    "lst_3=[7,8,9]\n",
    "\n",
    "# Make a list of lists to form a 2D matrix\n",
    "matrix_2D = [lst_1,lst_2,lst_3]"
   ]
  },
  {
   "cell_type": "code",
   "execution_count": 30,
   "metadata": {},
   "outputs": [
    {
     "data": {
      "text/plain": [
       "[[1, 2, 3], [4, 5, 6], [7, 8, 9]]"
      ]
     },
     "execution_count": 30,
     "metadata": {},
     "output_type": "execute_result"
    }
   ],
   "source": [
    "# Show\n",
    "matrix_2D"
   ]
  },
  {
   "cell_type": "markdown",
   "metadata": {},
   "source": [
    "We can again use indexing to grab elements, but now there are two levels for the index. The items in the matrix object, and then the items inside that list!"
   ]
  },
  {
   "cell_type": "code",
   "execution_count": 31,
   "metadata": {},
   "outputs": [
    {
     "data": {
      "text/plain": [
       "[1, 2, 3]"
      ]
     },
     "execution_count": 31,
     "metadata": {},
     "output_type": "execute_result"
    }
   ],
   "source": [
    "# Grab first item in matrix object\n",
    "matrix_2D[0]"
   ]
  },
  {
   "cell_type": "code",
   "execution_count": 32,
   "metadata": {},
   "outputs": [
    {
     "data": {
      "text/plain": [
       "1"
      ]
     },
     "execution_count": 32,
     "metadata": {},
     "output_type": "execute_result"
    }
   ],
   "source": [
    "# Grab first item of the first item in the matrix object\n",
    "matrix_2D[0][0]"
   ]
  },
  {
   "cell_type": "markdown",
   "metadata": {},
   "source": [
    "## **List Comprehensions** \n",
    "Python has an advanced feature called list comprehensions. They allow for quick construction of lists. To fully understand list comprehensions we need to understand for loops. So don't worry if you don't completely understand this section, and feel free to just skip it since we will return to this topic later.\n",
    "\n",
    "But in case you want to know now, here are a few examples!"
   ]
  },
  {
   "cell_type": "code",
   "execution_count": 4,
   "metadata": {
    "collapsed": true
   },
   "outputs": [],
   "source": [
    "# Build a list comprehension by deconstructing a for loop within a []\n",
    "first_col = [row[0] for row in matrix_2D]"
   ]
  },
  {
   "cell_type": "code",
   "execution_count": 5,
   "metadata": {},
   "outputs": [
    {
     "data": {
      "text/plain": [
       "[1, 4, 7]"
      ]
     },
     "execution_count": 5,
     "metadata": {},
     "output_type": "execute_result"
    }
   ],
   "source": [
    "first_col"
   ]
  },
  {
   "cell_type": "markdown",
   "metadata": {},
   "source": [
    "We used a list comprehension here to grab the first element of every row in the matrix object. We will cover this in much more detail later on!"
   ]
  },
  {
   "cell_type": "code",
   "execution_count": 4,
   "metadata": {},
   "outputs": [
    {
     "name": "stdout",
     "output_type": "stream",
     "text": [
      "[0, 1, 4, 9, 16, 25, 36, 49, 64, 81]\n"
     ]
    }
   ],
   "source": [
    "# Create list using for loop in list comprehension\n",
    "list_using_for = [i**2 for i in range(0, 10)]\n",
    "print(list_using_for)"
   ]
  },
  {
   "cell_type": "code",
   "execution_count": 5,
   "metadata": {},
   "outputs": [
    {
     "name": "stdout",
     "output_type": "stream",
     "text": [
      "[0, 1, 2, 3, 4, 6, 7, 8, 9]\n"
     ]
    }
   ],
   "source": [
    "# Create list using for loop and if statement in list comprehension\n",
    "list_using_for_if = [i for i in range(0, 10) if i != 5]\n",
    "print(list_using_for_if)"
   ]
  },
  {
   "cell_type": "code",
   "execution_count": 6,
   "metadata": {},
   "outputs": [
    {
     "name": "stdout",
     "output_type": "stream",
     "text": [
      "[0, 2, 4, 6, 8]\n"
     ]
    }
   ],
   "source": [
    "# Create even list number using for loop and if statement in list comprehension\n",
    "list_using_for_if = [i for i in range(0, 10) if i % 2 == 0]\n",
    "print(list_using_for_if)"
   ]
  },
  {
   "cell_type": "code",
   "execution_count": 7,
   "metadata": {},
   "outputs": [
    {
     "name": "stdout",
     "output_type": "stream",
     "text": [
      "[0, 4, 16, 36, 64]\n"
     ]
    }
   ],
   "source": [
    "# Create even list number and power it using for loop and if statement in list comprehension\n",
    "list_using_for_if = [i**2 for i in range(0, 10) if i % 2 == 0]\n",
    "print(list_using_for_if)"
   ]
  },
  {
   "cell_type": "code",
   "execution_count": 27,
   "metadata": {},
   "outputs": [
    {
     "name": "stdout",
     "output_type": "stream",
     "text": [
      "0\n",
      "4\n",
      "16\n",
      "36\n",
      "64\n"
     ]
    }
   ],
   "source": [
    "list_using_for_if = [print(i**2) for i in range(0, 10) if i % 2 == 0]"
   ]
  },
  {
   "cell_type": "markdown",
   "metadata": {},
   "source": [
    "## **Built-in Functions for Lists**\n",
    "Python provides some built-in functions for working with lists:\n",
    "\n",
    "1. **len(list)**: Returns the number of elements in the list.\n",
    "2. **min(list)**: Returns the smallest element in the list.\n",
    "3. **max(list)**: Returns the largest element in the list.\n",
    "4. **sum(list)**: Returns the sum of all elements in the list.\n",
    "5. **list.count(x)**: Counts the number of times x appears in the list.\n",
    "6. **list.index(x)**: Returns the index of the first element x found in the list."
   ]
  },
  {
   "cell_type": "markdown",
   "metadata": {},
   "source": [
    "For more advanced methods and features of lists in Python, check out the Advanced Lists section later on in this course!"
   ]
  }
 ],
 "metadata": {
  "kernelspec": {
   "display_name": "Python 3",
   "language": "python",
   "name": "python3"
  },
  "language_info": {
   "codemirror_mode": {
    "name": "ipython",
    "version": 3
   },
   "file_extension": ".py",
   "mimetype": "text/x-python",
   "name": "python",
   "nbconvert_exporter": "python",
   "pygments_lexer": "ipython3",
   "version": "3.9.2"
  }
 },
 "nbformat": 4,
 "nbformat_minor": 1
}
