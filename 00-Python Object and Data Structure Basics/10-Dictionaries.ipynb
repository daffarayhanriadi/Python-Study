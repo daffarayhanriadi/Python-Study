{
 "cells": [
  {
   "cell_type": "markdown",
   "metadata": {},
   "source": [
    "___\n",
    "\n",
    "<a href='https://www.udemy.com/user/joseportilla/'><img src='../Pierian_Data_Logo.png'/></a>\n",
    "___\n",
    "<center><em>Content Copyright by Pierian Data</em></center>"
   ]
  },
  {
   "cell_type": "markdown",
   "metadata": {},
   "source": [
    "# **Dictionaries**\n",
    "\n",
    "**Table of Contents :**\n",
    "\n",
    "1. `Constructing a Dictionary`\n",
    "2. `Accessing values in a dictionary`\n",
    "3. `Add or Update Values in a Dictionary`\n",
    "4. `Removing an Item from the Dictionary`\n",
    "5. `Dictionary Function`\n",
    "6. `Dictionary Operator`\n",
    "7. `Dictionary Methods`\n",
    "8. `Iteration in Dictionary`\n",
    "9. `Nesting with Dictionaries`\n",
    "10. `Practical Example of Using a Dictionary`\n",
    "11. `Conclusion`\n",
    "\n",
    "We've been learning about ***sequences*** in Python but now we're going to switch gears and learn about ***mappings*** in Python. If you're familiar with other languages you can think of these Dictionaries as hash tables.\n",
    "\n",
    "So what are mappings? Mappings are a collection of objects that are stored by a ***key***, unlike a sequence that stored objects by their relative position. This is an important distinction, since mappings won't retain order since they have objects defined by a key.\n",
    "\n",
    "A dictionary in Python is a data structure that stores ***key-value*** pairs. A dictionary is a ***mutable*** data type, which means we can change its contents after it has been created. ***Keys must be unique and immutable***, while ***values can be change*** and values can be any data type, including lists, tuples, or even other dictionaries."
   ]
  },
  {
   "cell_type": "markdown",
   "metadata": {},
   "source": [
    "## **Constructing a Dictionary**\n",
    "\n",
    "We can create a dictionary by using curly braces `{}` or the `dict()` function."
   ]
  },
  {
   "cell_type": "code",
   "execution_count": 1,
   "metadata": {},
   "outputs": [
    {
     "name": "stdout",
     "output_type": "stream",
     "text": [
      "<class 'dict'>\n"
     ]
    },
    {
     "data": {
      "text/plain": [
       "{}"
      ]
     },
     "execution_count": 1,
     "metadata": {},
     "output_type": "execute_result"
    }
   ],
   "source": [
    "# Empty dict\n",
    "empty_dict = {}\n",
    "print(type(empty_dict))\n",
    "empty_dict"
   ]
  },
  {
   "cell_type": "code",
   "execution_count": 2,
   "metadata": {},
   "outputs": [
    {
     "data": {
      "text/plain": [
       "{}"
      ]
     },
     "execution_count": 2,
     "metadata": {},
     "output_type": "execute_result"
    }
   ],
   "source": [
    "# Empty dict\n",
    "empty_dict = dict()\n",
    "empty_dict"
   ]
  },
  {
   "cell_type": "code",
   "execution_count": 76,
   "metadata": {
    "collapsed": true
   },
   "outputs": [
    {
     "name": "stdout",
     "output_type": "stream",
     "text": [
      "{'key1': 'value1', 'key2': 'value2'}\n",
      "{'name': 'Jane', 'age': 30, 'city': 'Chicago'}\n"
     ]
    }
   ],
   "source": [
    "# Make a dictionary with {} and : to signify a key and a value\n",
    "dict1 = {\n",
    "    'key1':'value1',\n",
    "    'key2':'value2'\n",
    "}\n",
    "\n",
    "# Make a dictionary with dict()\n",
    "dict2 = dict(\n",
    "    name=\"Jane\",\n",
    "    age=30,\n",
    "    city=\"Chicago\",\n",
    ")\n",
    "\n",
    "print(dict1)\n",
    "print(dict2)"
   ]
  },
  {
   "cell_type": "markdown",
   "metadata": {},
   "source": [
    "## **Accessing Values in a Dictionary**\n",
    "\n",
    "**Values** in the dictionary are accessed using **keys**."
   ]
  },
  {
   "cell_type": "markdown",
   "metadata": {},
   "source": [
    "**Access Values**"
   ]
  },
  {
   "cell_type": "code",
   "execution_count": 22,
   "metadata": {},
   "outputs": [
    {
     "name": "stdout",
     "output_type": "stream",
     "text": [
      "{'name': 'Jane', 'age': 30, 'city': 'Chicago'}\n",
      "Jane\n",
      "30\n"
     ]
    }
   ],
   "source": [
    "print(dict2)\n",
    "print(dict2[\"name\"])\n",
    "print(dict2[\"age\"])"
   ]
  },
  {
   "cell_type": "code",
   "execution_count": 23,
   "metadata": {},
   "outputs": [
    {
     "ename": "KeyError",
     "evalue": "'address'",
     "output_type": "error",
     "traceback": [
      "\u001b[1;31m---------------------------------------------------------------------------\u001b[0m",
      "\u001b[1;31mKeyError\u001b[0m                                  Traceback (most recent call last)",
      "Cell \u001b[1;32mIn[23], line 1\u001b[0m\n\u001b[1;32m----> 1\u001b[0m \u001b[38;5;28mprint\u001b[39m(\u001b[43mdict2\u001b[49m\u001b[43m[\u001b[49m\u001b[38;5;124;43m\"\u001b[39;49m\u001b[38;5;124;43maddress\u001b[39;49m\u001b[38;5;124;43m\"\u001b[39;49m\u001b[43m]\u001b[49m)\n",
      "\u001b[1;31mKeyError\u001b[0m: 'address'"
     ]
    }
   ],
   "source": [
    "print(dict2[\"address\"])"
   ]
  },
  {
   "cell_type": "markdown",
   "metadata": {},
   "source": [
    "If we try to access a key that does not exist, it will cause a **KeyError** error. To avoid this, we can use the `get(key, default)` method. If the key does not exist, this method appends the key with the default value to the dictionary, then returns the default value."
   ]
  },
  {
   "cell_type": "code",
   "execution_count": 77,
   "metadata": {},
   "outputs": [
    {
     "name": "stdout",
     "output_type": "stream",
     "text": [
      "Jane\n",
      "Unknown\n"
     ]
    }
   ],
   "source": [
    "print(dict2.get(\"name\"))\n",
    "print(dict2.get(\"address\", \"Unknown\")) # it will return None if default value is None input"
   ]
  },
  {
   "cell_type": "markdown",
   "metadata": {},
   "source": [
    "## **Add or Update Values in a Dictionary**\n",
    "\n",
    "We can add new key-value pairs or update the values of existing keys.\n",
    "\n",
    "**Add New Key**"
   ]
  },
  {
   "cell_type": "code",
   "execution_count": 25,
   "metadata": {},
   "outputs": [
    {
     "name": "stdout",
     "output_type": "stream",
     "text": [
      "{'name': 'Jane', 'age': 30, 'city': 'Chicago'}\n",
      "{'name': 'Jane', 'age': 30, 'city': 'Chicago', 'address': '123 Main St'}\n"
     ]
    }
   ],
   "source": [
    "print(dict2)\n",
    "dict2[\"address\"] = \"123 Main St\" # Add new key\n",
    "print(dict2)"
   ]
  },
  {
   "cell_type": "markdown",
   "metadata": {},
   "source": [
    "**Update Value**"
   ]
  },
  {
   "cell_type": "code",
   "execution_count": 26,
   "metadata": {},
   "outputs": [
    {
     "name": "stdout",
     "output_type": "stream",
     "text": [
      "{'name': 'Jane', 'age': 30, 'city': 'Chicago', 'address': '123 Main St'}\n",
      "{'name': 'Jane', 'age': 25, 'city': 'Chicago', 'address': '123 Main St'}\n"
     ]
    }
   ],
   "source": [
    "print(dict2)\n",
    "dict2[\"age\"] = 25 # Update the value from the exist key\n",
    "print(dict2)"
   ]
  },
  {
   "cell_type": "markdown",
   "metadata": {},
   "source": [
    "## **Removing an Item from the Dictionary**\n",
    "There are several ways to remove items from the dictionary:\n",
    "\n",
    "1. Using `del` to delete an item by key.\n",
    "2. Using the `pop()` remove specified key and return the corresponding value.\n",
    "3. Using the `popitem()` method to remove the last key-value pair.\n",
    "4. Using the `clear()` method to remove all items."
   ]
  },
  {
   "cell_type": "markdown",
   "metadata": {},
   "source": [
    "**Delete using `del`**"
   ]
  },
  {
   "cell_type": "code",
   "execution_count": 27,
   "metadata": {},
   "outputs": [
    {
     "name": "stdout",
     "output_type": "stream",
     "text": [
      "{'name': 'Jane', 'age': 25, 'city': 'Chicago', 'address': '123 Main St'}\n",
      "{'name': 'Jane', 'age': 25, 'address': '123 Main St'}\n"
     ]
    }
   ],
   "source": [
    "print(dict2)\n",
    "del dict2[\"city\"] # Delete Using del\n",
    "print(dict2)"
   ]
  },
  {
   "cell_type": "markdown",
   "metadata": {},
   "source": [
    "**Delete using `pop()`**"
   ]
  },
  {
   "cell_type": "code",
   "execution_count": 28,
   "metadata": {},
   "outputs": [
    {
     "name": "stdout",
     "output_type": "stream",
     "text": [
      "{'name': 'Jane', 'age': 25, 'address': '123 Main St'}\n",
      "{'name': 'Jane', 'address': '123 Main St'}\n"
     ]
    }
   ],
   "source": [
    "print(dict2)\n",
    "dict2.pop(\"age\") # Delete Using pop()\n",
    "print(dict2)"
   ]
  },
  {
   "cell_type": "markdown",
   "metadata": {},
   "source": [
    "**Deleting using `popitem()`**"
   ]
  },
  {
   "cell_type": "code",
   "execution_count": 29,
   "metadata": {},
   "outputs": [
    {
     "name": "stdout",
     "output_type": "stream",
     "text": [
      "{'name': 'Jane', 'address': '123 Main St'}\n",
      "{'name': 'Jane'}\n"
     ]
    }
   ],
   "source": [
    "print(dict2)\n",
    "dict2.popitem() # Delete Using popitem()\n",
    "print(dict2)"
   ]
  },
  {
   "cell_type": "markdown",
   "metadata": {},
   "source": [
    "**Clear all items using `clear()`**"
   ]
  },
  {
   "cell_type": "code",
   "execution_count": 30,
   "metadata": {},
   "outputs": [
    {
     "name": "stdout",
     "output_type": "stream",
     "text": [
      "{'name': 'Jane'}\n",
      "{}\n"
     ]
    }
   ],
   "source": [
    "print(dict2)\n",
    "dict2.clear() # Delete Using clear()\n",
    "print(dict2)"
   ]
  },
  {
   "cell_type": "markdown",
   "metadata": {},
   "source": [
    "## **Dictionary Function**"
   ]
  },
  {
   "cell_type": "markdown",
   "metadata": {},
   "source": [
    "**Check Dictionary Length using `len()` function**"
   ]
  },
  {
   "cell_type": "code",
   "execution_count": 101,
   "metadata": {},
   "outputs": [
    {
     "name": "stdout",
     "output_type": "stream",
     "text": [
      "length of dict = 3\n"
     ]
    }
   ],
   "source": [
    "dict3 = {\"a\": 1, \"b\": 2, \"c\": 3}\n",
    "print(\"length of dict =\", len(dict3))"
   ]
  },
  {
   "cell_type": "markdown",
   "metadata": {},
   "source": [
    "## **Dictionary Operator**"
   ]
  },
  {
   "cell_type": "markdown",
   "metadata": {},
   "source": [
    "**Checking the key is exist or not using `in` operator**"
   ]
  },
  {
   "cell_type": "code",
   "execution_count": 106,
   "metadata": {},
   "outputs": [
    {
     "name": "stdout",
     "output_type": "stream",
     "text": [
      "There is a in dict3 = True\n"
     ]
    }
   ],
   "source": [
    "key = \"a\"\n",
    "checkkey = key in dict3\n",
    "print(f\"There is {key} in dict3 = {checkkey}\")"
   ]
  },
  {
   "cell_type": "markdown",
   "metadata": {},
   "source": [
    "## **Dictionary Methods**\n",
    "Here are some methods that are often used in dictionaries."
   ]
  },
  {
   "cell_type": "code",
   "execution_count": 108,
   "metadata": {},
   "outputs": [
    {
     "data": {
      "text/plain": [
       "{'a': 1, 'b': 2, 'c': 3}"
      ]
     },
     "execution_count": 108,
     "metadata": {},
     "output_type": "execute_result"
    }
   ],
   "source": [
    "dict3 = {\"a\": 1, \"b\": 2, \"c\": 3}\n",
    "dict3"
   ]
  },
  {
   "cell_type": "markdown",
   "metadata": {},
   "source": [
    "**`keys() method`**\n",
    "\n",
    "**keys()** returns a view object that displays all the keys in the dictionary."
   ]
  },
  {
   "cell_type": "code",
   "execution_count": 89,
   "metadata": {},
   "outputs": [
    {
     "name": "stdout",
     "output_type": "stream",
     "text": [
      "dict_keys(['a', 'b', 'c'])\n"
     ]
    }
   ],
   "source": [
    "print(dict3.keys())"
   ]
  },
  {
   "cell_type": "markdown",
   "metadata": {},
   "source": [
    "**`values() method`**\n",
    "\n",
    "**values()** returns a view object that displays all the values in the dictionary."
   ]
  },
  {
   "cell_type": "code",
   "execution_count": 90,
   "metadata": {},
   "outputs": [
    {
     "name": "stdout",
     "output_type": "stream",
     "text": [
      "dict_values([1, 2, 3])\n"
     ]
    }
   ],
   "source": [
    "print(dict3.values())"
   ]
  },
  {
   "cell_type": "markdown",
   "metadata": {},
   "source": [
    "**`items() method`**\n",
    "\n",
    "**items()** returns a view object that displays all key-value pairs in the dictionary."
   ]
  },
  {
   "cell_type": "code",
   "execution_count": 91,
   "metadata": {},
   "outputs": [
    {
     "name": "stdout",
     "output_type": "stream",
     "text": [
      "dict_items([('a', 1), ('b', 2), ('c', 3)])\n"
     ]
    }
   ],
   "source": [
    "print(dict3.items())"
   ]
  },
  {
   "cell_type": "markdown",
   "metadata": {},
   "source": [
    "**`update() method`**\n",
    "\n",
    "**update(*other_dict*)** method is used to update the dictionary with key-value pairs from another dictionary or from an iterable containing key-value pairs.\n",
    "\n",
    "`Note :` If the key-value pair exists, the update() method will update the value, but if it does not exist, the update() method will update the value by adding the item inputted in the update() method."
   ]
  },
  {
   "cell_type": "code",
   "execution_count": 92,
   "metadata": {},
   "outputs": [
    {
     "name": "stdout",
     "output_type": "stream",
     "text": [
      "{'a': 1, 'b': 2, 'c': 3}\n",
      "{'a': 1, 'b': 2, 'c': 3, 'x': 9, 'y': 8}\n"
     ]
    }
   ],
   "source": [
    "print(dict3)\n",
    "dict4 = {\"x\": 9, \"y\": 8}\n",
    "dict3.update(dict4)\n",
    "print(dict3)"
   ]
  },
  {
   "cell_type": "markdown",
   "metadata": {},
   "source": [
    "**`copy() method`**\n",
    "\n",
    "**copy()** is used to make a copy of the dictionary."
   ]
  },
  {
   "cell_type": "code",
   "execution_count": 93,
   "metadata": {},
   "outputs": [
    {
     "name": "stdout",
     "output_type": "stream",
     "text": [
      "{'a': 1, 'b': 2, 'c': 3, 'x': 9, 'y': 8} memory = 0x142ee65e300 and 0x142e9906930\n",
      "{'a': 1, 'b': 2, 'c': 3, 'x': 9, 'y': 8} memory = 0x142efc02c80 and 0x142e9906930\n",
      "{'a': 'Hi', 'b': 2, 'c': 3, 'x': 9, 'y': 8}\n",
      "{'a': 1, 'b': 2, 'c': 'Hello', 'x': 9, 'y': 8}\n"
     ]
    }
   ],
   "source": [
    "dict5 = dict3.copy()\n",
    "print(dict3, \"memory =\", hex(id(dict3)), \"and\", hex(id(dict3[\"a\"])))\n",
    "print(dict5, \"memory =\", hex(id(dict5)), \"and\", hex(id(dict5[\"a\"])))\n",
    "dict3[\"a\"] = \"Hi\"\n",
    "dict5[\"c\"] = \"Hello\"\n",
    "print(dict3)\n",
    "print(dict5)"
   ]
  },
  {
   "cell_type": "markdown",
   "metadata": {},
   "source": [
    "**`fromkeys() method`**\n",
    "\n",
    "**fromkeys(*keys*, *value*)** is used to create a new dictionary with the key of the iterable and the same value."
   ]
  },
  {
   "cell_type": "code",
   "execution_count": 51,
   "metadata": {},
   "outputs": [
    {
     "name": "stdout",
     "output_type": "stream",
     "text": [
      "{'k1': 0, 'k2': 0, 'k3': 0}\n"
     ]
    }
   ],
   "source": [
    "keys = [\"k1\", \"k2\", \"k3\"]\n",
    "dict6 = dict.fromkeys(keys, 0)\n",
    "print(dict6)"
   ]
  },
  {
   "cell_type": "markdown",
   "metadata": {},
   "source": [
    "**`setdefault() method`**\n",
    "\n",
    "**setdefault(key, default)** returns the value of the key in the dictionary if the key exists. If the key does not exist, this method appends the key with the default value to the dictionary, then returns the default value."
   ]
  },
  {
   "cell_type": "markdown",
   "metadata": {},
   "source": [
    "**Key Exists in Dictionary**\n",
    "If the key already exists in the dictionary, setdefault() will **return the value of the key without changing the dictionary**."
   ]
  },
  {
   "cell_type": "code",
   "execution_count": 97,
   "metadata": {},
   "outputs": [
    {
     "name": "stdout",
     "output_type": "stream",
     "text": [
      "{'a': 1, 'b': 2, 'c': 3}\n",
      "1\n",
      "{'a': 1, 'b': 2, 'c': 3}\n"
     ]
    }
   ],
   "source": [
    "dict3 = {\"a\": 1, \"b\": 2, \"c\": 3}\n",
    "print(dict3)\n",
    "city = dict3.setdefault(\"a\", \"Unknown\")\n",
    "print(city)\n",
    "print(dict3)"
   ]
  },
  {
   "cell_type": "markdown",
   "metadata": {},
   "source": [
    "**Key Not in Dictionary**\n",
    "If the key does not exist in the dictionary, setdefault() **will append the key with the default value and return the default value**."
   ]
  },
  {
   "cell_type": "code",
   "execution_count": 98,
   "metadata": {},
   "outputs": [
    {
     "name": "stdout",
     "output_type": "stream",
     "text": [
      "{'a': 1, 'b': 2, 'c': 3}\n",
      "Unknown\n",
      "{'a': 1, 'b': 2, 'c': 3, 'city': 'Unknown'}\n"
     ]
    }
   ],
   "source": [
    "print(dict3)\n",
    "city = dict3.setdefault(\"city\", \"Unknown\")\n",
    "print(city)\n",
    "print(dict3)"
   ]
  },
  {
   "cell_type": "markdown",
   "metadata": {},
   "source": [
    "**Use in Loop to Calculate Frequency**\n",
    "The setdefault() method is often used in situations where you need to initialize values by default. For example, in calculating the frequency of elements in a list."
   ]
  },
  {
   "cell_type": "code",
   "execution_count": 96,
   "metadata": {},
   "outputs": [
    {
     "name": "stdout",
     "output_type": "stream",
     "text": [
      "{'apple': 3, 'banana': 2, 'orange': 1}\n"
     ]
    }
   ],
   "source": [
    "# Menghitung frekuensi elemen dalam daftar\n",
    "data = [\"apple\", \"banana\", \"apple\", \"orange\", \"banana\", \"apple\"]\n",
    "frequency = {}\n",
    "\n",
    "for item in data:\n",
    "    frequency.setdefault(item, 0)\n",
    "    frequency[item] += 1\n",
    "\n",
    "print(frequency)"
   ]
  },
  {
   "cell_type": "markdown",
   "metadata": {},
   "source": [
    "In the above example, setdefault() is used to initialize the frequency value to 0 if the key (fruit item) is not yet in the dictionary. After that, the frequency value is increased each time the item is found in the list."
   ]
  },
  {
   "cell_type": "markdown",
   "metadata": {},
   "source": [
    "## **Iteration in Dictionary**"
   ]
  },
  {
   "cell_type": "code",
   "execution_count": 53,
   "metadata": {},
   "outputs": [
    {
     "data": {
      "text/plain": [
       "{'a': 'Hi', 'b': 2, 'c': 3, 'x': 9, 'y': 8}"
      ]
     },
     "execution_count": 53,
     "metadata": {},
     "output_type": "execute_result"
    }
   ],
   "source": [
    "dict3"
   ]
  },
  {
   "cell_type": "markdown",
   "metadata": {},
   "source": [
    "**Iteration through keys**"
   ]
  },
  {
   "cell_type": "code",
   "execution_count": 71,
   "metadata": {},
   "outputs": [
    {
     "name": "stdout",
     "output_type": "stream",
     "text": [
      "a\n",
      "b\n",
      "c\n",
      "x\n",
      "y\n"
     ]
    }
   ],
   "source": [
    "for key in dict3.keys():\n",
    "    print(key)"
   ]
  },
  {
   "cell_type": "markdown",
   "metadata": {},
   "source": [
    "**Iteration through values**"
   ]
  },
  {
   "cell_type": "code",
   "execution_count": 72,
   "metadata": {},
   "outputs": [
    {
     "name": "stdout",
     "output_type": "stream",
     "text": [
      "Hi\n",
      "2\n",
      "3\n",
      "9\n",
      "8\n"
     ]
    }
   ],
   "source": [
    "for value in dict3.values():\n",
    "    print(value)"
   ]
  },
  {
   "cell_type": "markdown",
   "metadata": {},
   "source": [
    "**Iteration through key-value pairs**"
   ]
  },
  {
   "cell_type": "code",
   "execution_count": 73,
   "metadata": {},
   "outputs": [
    {
     "name": "stdout",
     "output_type": "stream",
     "text": [
      "a Hi\n",
      "b 2\n",
      "c 3\n",
      "x 9\n",
      "y 8\n"
     ]
    }
   ],
   "source": [
    "for key, value in dict3.items():\n",
    "    print(key, value)"
   ]
  },
  {
   "cell_type": "markdown",
   "metadata": {},
   "source": [
    "## **Nesting with Dictionaries**\n",
    "\n",
    "Hopefully you're starting to see how powerful Python is with its flexibility of nesting objects and calling methods on them. Let's see a dictionary nested inside a dictionary:"
   ]
  },
  {
   "cell_type": "code",
   "execution_count": 15,
   "metadata": {
    "collapsed": true
   },
   "outputs": [],
   "source": [
    "# Dictionary nested inside a dictionary nested inside a dictionary\n",
    "# d = {'key1':{'nestkey':{'subnestkey':'value'}}}\n",
    "d = {\n",
    "    \"key1\":{\n",
    "        \"nestkey\":{\n",
    "            \"subnestkey\": \"value\"\n",
    "        }\n",
    "    }\n",
    "}"
   ]
  },
  {
   "cell_type": "markdown",
   "metadata": {},
   "source": [
    "Wow! That's a quite the inception of dictionaries! Let's see how we can grab that value:"
   ]
  },
  {
   "cell_type": "code",
   "execution_count": 16,
   "metadata": {},
   "outputs": [
    {
     "data": {
      "text/plain": [
       "'value'"
      ]
     },
     "execution_count": 16,
     "metadata": {},
     "output_type": "execute_result"
    }
   ],
   "source": [
    "# Keep calling the keys\n",
    "d['key1']['nestkey']['subnestkey']"
   ]
  },
  {
   "cell_type": "markdown",
   "metadata": {},
   "source": [
    "## **Practical Example of Using a Dictionary**\n",
    "\n",
    "Let's look at an example of using a dictionary in a more real-world context."
   ]
  },
  {
   "cell_type": "code",
   "execution_count": 74,
   "metadata": {},
   "outputs": [
    {
     "name": "stdout",
     "output_type": "stream",
     "text": [
      "ID: 1001\n",
      "  name: Alice\n",
      "  major: Physics\n",
      "ID: 1002\n",
      "  name: Bob\n",
      "  major: Computer Science\n",
      "ID: 1004\n",
      "  name: David\n",
      "  major: Chemistry\n"
     ]
    }
   ],
   "source": [
    "# Membuat dictionary untuk data mahasiswa\n",
    "students = {\n",
    "    \"1001\": {\"name\": \"Alice\", \"major\": \"Physics\"},\n",
    "    \"1002\": {\"name\": \"Bob\", \"major\": \"Mathematics\"},\n",
    "    \"1003\": {\"name\": \"Charlie\", \"major\": \"Biology\"}\n",
    "}\n",
    "\n",
    "# Menambahkan data mahasiswa baru\n",
    "students[\"1004\"] = {\"name\": \"David\", \"major\": \"Chemistry\"}\n",
    "\n",
    "# Memperbarui data mahasiswa\n",
    "students[\"1002\"][\"major\"] = \"Computer Science\"\n",
    "\n",
    "# Menghapus data mahasiswa\n",
    "del students[\"1003\"]\n",
    "\n",
    "# Mengakses dan menampilkan data mahasiswa\n",
    "for student_id, student_info in students.items():\n",
    "    print(f\"ID: {student_id}\")\n",
    "    for key, value in student_info.items():\n",
    "        print(f\"  {key}: {value}\")"
   ]
  },
  {
   "cell_type": "markdown",
   "metadata": {},
   "source": [
    "## **Conclusion**\n",
    "\n",
    "Dictionaries are one of the most flexible and frequently used data structures in Python. They allow for highly efficient storage of key-value pairs and provide various methods for data manipulation. Understanding how to work with dictionaries is an essential skill for any Python programmer.\n",
    "\n",
    "Hopefully you now have a good basic understanding how to construct dictionaries. There's a lot more to go into here, but we will revisit dictionaries at later time. After this section all you need to know is how to create a dictionary and how to retrieve values from it."
   ]
  }
 ],
 "metadata": {
  "kernelspec": {
   "display_name": "Python 3",
   "language": "python",
   "name": "python3"
  },
  "language_info": {
   "codemirror_mode": {
    "name": "ipython",
    "version": 3
   },
   "file_extension": ".py",
   "mimetype": "text/x-python",
   "name": "python",
   "nbconvert_exporter": "python",
   "pygments_lexer": "ipython3",
   "version": "3.9.2"
  }
 },
 "nbformat": 4,
 "nbformat_minor": 1
}
