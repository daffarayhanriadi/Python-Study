{
 "cells": [
  {
   "cell_type": "markdown",
   "metadata": {},
   "source": [
    "## **What is Type Casting?**\n",
    "Type casting is the process of changing one data type to another. \n",
    "This is useful when we want to perform operations on variables that require a specific data type.\n",
    "\n",
    "Data type casting is an important process in Python that allows us to work with \n",
    "various data types and ensure that variables are in the appropriate data type for a particular operation. \n",
    "operation. By understanding the built-in functions for data type casting, we can write more flexible and reliable code. \n",
    "more flexible and reliable.\n",
    "\n",
    "## **Data Type Conversion in Python**\n",
    "Python provides several built-in functions to convert data types. Here are some \n",
    "the most common ones:"
   ]
  },
  {
   "cell_type": "markdown",
   "metadata": {},
   "source": [
    "#### **int(): Converts a value to an integer.**\n",
    "\n",
    "Converts a decimal number or a string representing a number to an integer.\n",
    "\n",
    "`Notes: The string must represent a valid number.`"
   ]
  },
  {
   "cell_type": "code",
   "execution_count": 14,
   "metadata": {},
   "outputs": [
    {
     "name": "stdout",
     "output_type": "stream",
     "text": [
      "====INTEGER====\n",
      "3 -> <class 'int'>\n",
      "10 -> <class 'int'>\n",
      "0 -> <class 'int'>\n"
     ]
    }
   ],
   "source": [
    "print(\"====INTEGER====\")\n",
    "# Dari float ke int, akan dibulatkan ke bawah\n",
    "a = int(3.14)\n",
    "print(a,\"->\", type(a))\n",
    "\n",
    "# Dari string ke int\n",
    "b = int(\"10\")\n",
    "print(b,\"->\", type(b))\n",
    "\n",
    "# Dari boolean ke int\n",
    "c = int(False) # False -> 0, True -> 1\n",
    "print(c,\"->\", type(c))"
   ]
  },
  {
   "cell_type": "markdown",
   "metadata": {},
   "source": [
    "#### **float(): Converts a value to a float (decimal number).**\n",
    "\n",
    "Converts an integer or string representing a number to a float."
   ]
  },
  {
   "cell_type": "code",
   "execution_count": 15,
   "metadata": {},
   "outputs": [
    {
     "name": "stdout",
     "output_type": "stream",
     "text": [
      "====FLOAT====\n",
      "5.0 -> <class 'float'>\n",
      "3.14 -> <class 'float'>\n",
      "1.0 -> <class 'float'>\n"
     ]
    }
   ],
   "source": [
    "# Dari int ke float\n",
    "print(\"====FLOAT====\")\n",
    "d = float(5)\n",
    "print(d,\"->\", type(d))\n",
    "\n",
    "# Dari string ke float\n",
    "e = float(\"3.14\")\n",
    "print(e,\"->\", type(e))\n",
    "\n",
    "# Dari boolean ke float\n",
    "f = float(True) # True -> 1.0, False -> 0.0\n",
    "print(f,\"->\", type(f))"
   ]
  },
  {
   "cell_type": "markdown",
   "metadata": {},
   "source": [
    "#### **str(): Converts a value to a string.**\n",
    "\n",
    "Converts various data types (such as integer, float, boolean, list) into strings."
   ]
  },
  {
   "cell_type": "code",
   "execution_count": 10,
   "metadata": {},
   "outputs": [
    {
     "name": "stdout",
     "output_type": "stream",
     "text": [
      "====STRING====\n",
      "10 -> <class 'str'>\n",
      "3.14 -> <class 'str'>\n",
      "True -> <class 'str'>\n",
      "[1, 2, 3] -> <class 'str'>\n"
     ]
    }
   ],
   "source": [
    "print(\"====STRING====\")\n",
    "# Dari int ke str\n",
    "g = str(10)\n",
    "print(g,\"->\", type(g))\n",
    "\n",
    "# Dari float ke str\n",
    "h = str(3.14)\n",
    "print(h,\"->\", type(h))\n",
    "\n",
    "# Dari boolean ke str\n",
    "i = str(True) # True -> \"True\", False -> \"False\"\n",
    "print(i,\"->\", type(i))\n",
    "\n",
    "# Dari list ke str\n",
    "j = str([1, 2, 3])\n",
    "print(j,\"->\", type(j))"
   ]
  },
  {
   "cell_type": "markdown",
   "metadata": {},
   "source": [
    "#### **bool(): Converts a value to boolean.**\n",
    "\n",
    "Converts various data types to booleans. Empty or zero values will be False, while other values will be True."
   ]
  },
  {
   "cell_type": "code",
   "execution_count": 19,
   "metadata": {},
   "outputs": [
    {
     "name": "stdout",
     "output_type": "stream",
     "text": [
      "====BOOLEAN====\n",
      "False -> <class 'bool'>\n",
      "True -> <class 'bool'>\n",
      "False -> <class 'bool'>\n",
      "True -> <class 'bool'>\n",
      "False -> <class 'bool'>\n",
      "True -> <class 'bool'>\n",
      "False -> <class 'bool'>\n",
      "True -> <class 'bool'>\n"
     ]
    }
   ],
   "source": [
    "print(\"====BOOLEAN====\")\n",
    "# Dari int ke bool\n",
    "k = bool(0)\n",
    "print(k,\"->\", type(k))\n",
    "l = bool(1)\n",
    "print(l,\"->\", type(l))\n",
    "\n",
    "# Dari string ke bool\n",
    "m = bool(\"\")\n",
    "print(m,\"->\", type(m))\n",
    "n = bool(\"hello\")\n",
    "print(n,\"->\", type(n))\n",
    "\n",
    "# Dari float ke bool\n",
    "o = bool(0.0)\n",
    "print(o,\"->\", type(o))\n",
    "p = bool(1.0)\n",
    "print(p,\"->\", type(p))\n",
    "\n",
    "# Dari list ke bool\n",
    "q = bool([])\n",
    "print(q,\"->\", type(q))\n",
    "r = bool([\"hello\"])\n",
    "print(r,\"->\", type(r))"
   ]
  },
  {
   "cell_type": "markdown",
   "metadata": {},
   "source": [
    "#### **list(): Converts a value to a list.**\n",
    "\n",
    "Converts an iterable (such as string, tuple, set) to a list."
   ]
  },
  {
   "cell_type": "code",
   "execution_count": 20,
   "metadata": {},
   "outputs": [
    {
     "name": "stdout",
     "output_type": "stream",
     "text": [
      "====LIST====\n",
      "['h', 'e', 'l', 'l', 'o'] -> <class 'list'>\n",
      "[1, 2, 3] -> <class 'list'>\n",
      "[1, 2, 3] -> <class 'list'>\n"
     ]
    }
   ],
   "source": [
    "print(\"====LIST====\")\n",
    "# Dari string ke list\n",
    "s = list(\"hello\")\n",
    "print(s,\"->\", type(s))\n",
    "\n",
    "# Dari tuple ke list\n",
    "t = list((1, 2, 3))\n",
    "print(t,\"->\", type(t))\n",
    "\n",
    "# Dari set ke list\n",
    "u = list({1, 2, 3})\n",
    "print(u,\"->\", type(u))"
   ]
  },
  {
   "cell_type": "markdown",
   "metadata": {},
   "source": [
    "#### **tuple(): Converts a value to a tuple.**\n",
    "\n",
    "Converts an iterable (such as list, string, set) to a tuple."
   ]
  },
  {
   "cell_type": "code",
   "execution_count": 21,
   "metadata": {},
   "outputs": [
    {
     "name": "stdout",
     "output_type": "stream",
     "text": [
      "====TUPLE====\n",
      "(1, 2, 3) -> <class 'tuple'>\n",
      "('h', 'e', 'l', 'l', 'o') -> <class 'tuple'>\n",
      "(1, 2, 3) -> <class 'tuple'>\n"
     ]
    }
   ],
   "source": [
    "print(\"====TUPLE====\")\n",
    "# Dari list ke tuple\n",
    "v = tuple([1, 2, 3])\n",
    "print(v,\"->\", type(v))\n",
    "\n",
    "# Dari string ke tuple\n",
    "w = tuple(\"hello\")\n",
    "print(w,\"->\", type(w))\n",
    "\n",
    "# Dari set ke tuple\n",
    "x = tuple({1, 2, 3})\n",
    "print(x,\"->\", type(x))"
   ]
  },
  {
   "cell_type": "markdown",
   "metadata": {},
   "source": [
    "#### **set(): Converts a value to a set.**\n",
    "\n",
    "Converts iterables (such as list, string, tuple) to sets, removing duplicate elements."
   ]
  },
  {
   "cell_type": "code",
   "execution_count": 22,
   "metadata": {},
   "outputs": [
    {
     "name": "stdout",
     "output_type": "stream",
     "text": [
      "====SET====\n",
      "{1, 2, 3} -> <class 'set'>\n",
      "{'h', 'o', 'l', 'e'} -> <class 'set'>\n",
      "{1, 2, 3} -> <class 'set'>\n"
     ]
    }
   ],
   "source": [
    "print(\"====SET====\")\n",
    "# Dari list ke set\n",
    "y = set([1, 2, 2, 3])\n",
    "print(y,\"->\", type(y))\n",
    "\n",
    "# Dari string ke set\n",
    "z = set(\"hello\")\n",
    "print(z,\"->\", type(z))\n",
    "\n",
    "# Dari tuple ke set\n",
    "a1 = set((1, 2, 3))\n",
    "print(a1,\"->\", type(a1))"
   ]
  },
  {
   "cell_type": "markdown",
   "metadata": {},
   "source": [
    "#### **dict(): Converts a value to a dictionary.**\n",
    "\n",
    "Converts an iterable containing key-value pairs into a dictionary."
   ]
  },
  {
   "cell_type": "code",
   "execution_count": 25,
   "metadata": {},
   "outputs": [
    {
     "name": "stdout",
     "output_type": "stream",
     "text": [
      "====DICT====\n",
      "{'a': 1, 'b': 2} -> <class 'dict'>\n",
      "{'a': 1, 'b': 2} -> <class 'dict'>\n"
     ]
    }
   ],
   "source": [
    "print(\"====DICT====\")\n",
    "# Dari list of tuples ke dict\n",
    "b1 = dict([(\"a\", 1), (\"b\", 2)])\n",
    "print(b1,\"->\", type(b1))\n",
    "\n",
    "# Dari list of lists ke dict\n",
    "b2 = dict([[\"a\", 1], [\"b\", 2]])\n",
    "print(b2,\"->\", type(b2))"
   ]
  }
 ],
 "metadata": {
  "kernelspec": {
   "display_name": ".venv",
   "language": "python",
   "name": "python3"
  },
  "language_info": {
   "codemirror_mode": {
    "name": "ipython",
    "version": 3
   },
   "file_extension": ".py",
   "mimetype": "text/x-python",
   "name": "python",
   "nbconvert_exporter": "python",
   "pygments_lexer": "ipython3",
   "version": "3.9.2"
  }
 },
 "nbformat": 4,
 "nbformat_minor": 2
}
