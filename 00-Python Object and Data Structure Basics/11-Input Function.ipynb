{
 "cells": [
  {
   "cell_type": "markdown",
   "metadata": {},
   "source": [
    "#### **Using input() to Retrieve User Input**\n",
    "\n",
    "The input() function is used to take input from the user as a string. We can ask the user to enter data and then store the data in a variable."
   ]
  },
  {
   "cell_type": "code",
   "execution_count": 2,
   "metadata": {},
   "outputs": [
    {
     "name": "stdout",
     "output_type": "stream",
     "text": [
      "Hello, daffa!\n"
     ]
    }
   ],
   "source": [
    "name = input(\"Enter your name: \")\n",
    "print(f\"Hello, {name}!\")"
   ]
  },
  {
   "cell_type": "markdown",
   "metadata": {},
   "source": [
    "#### **Changing the Data Type of an Input**\n",
    "\n",
    "The input of the input() function is always a string. If we need another data type, such as integer or float, we have to convert it."
   ]
  },
  {
   "cell_type": "code",
   "execution_count": 3,
   "metadata": {},
   "outputs": [
    {
     "name": "stdout",
     "output_type": "stream",
     "text": [
      "You are 21 years old.\n"
     ]
    }
   ],
   "source": [
    "age = input(\"Enter your age: \")\n",
    "age = int(age)  # Convert from string to integer\n",
    "print(f\"You are {age} years old.\")"
   ]
  },
  {
   "cell_type": "code",
   "execution_count": 11,
   "metadata": {},
   "outputs": [
    {
     "name": "stdout",
     "output_type": "stream",
     "text": [
      "data = False , type = <class 'bool'>\n"
     ]
    }
   ],
   "source": [
    "# Change the data type from input to boolean with the help of int casting\n",
    "biner = bool(int(input(\"Masukkan nilai boolean: \"))) # 1 -> True, 0 -> False\n",
    "print(\"data =\",biner,\", type =\", type(biner))"
   ]
  },
  {
   "cell_type": "markdown",
   "metadata": {},
   "source": [
    "#### **Handling Input Errors**\n",
    "\n",
    "To avoid errors when converting user input, use try-except blocks."
   ]
  },
  {
   "cell_type": "code",
   "execution_count": null,
   "metadata": {},
   "outputs": [
    {
     "name": "stdout",
     "output_type": "stream",
     "text": [
      "Please enter a valid integer for age.\n"
     ]
    }
   ],
   "source": [
    "try:\n",
    "    age = int(input(\"Enter your age: \"))\n",
    "    print(f\"You are {age} years old.\")\n",
    "except ValueError: # Will be executed if the given input value is not a valid number.\n",
    "    print(\"Please enter a valid integer for age.\")"
   ]
  },
  {
   "cell_type": "markdown",
   "metadata": {},
   "source": [
    "#### **Taking Multiple User Inputs**\n",
    "\n",
    "We can take multiple inputs in one input by using a certain separator and then dividing them."
   ]
  },
  {
   "cell_type": "code",
   "execution_count": 5,
   "metadata": {},
   "outputs": [
    {
     "name": "stdout",
     "output_type": "stream",
     "text": [
      "Name: daffa, Age: 21\n"
     ]
    }
   ],
   "source": [
    "data = input(\"Enter your name and age separated by a comma: \")\n",
    "name, age = data.split(\",\")  # Separate inputs based on comma\n",
    "name = name.strip()  # Removing extra spaces\n",
    "age = int(age.strip())  # Removes trailing spaces and converts to integer\n",
    "print(f\"Name: {name}, Age: {age}\")"
   ]
  },
  {
   "cell_type": "markdown",
   "metadata": {},
   "source": [
    "#### **Creating a Function to Take Input**\n",
    "\n",
    "For modularity, you can create a function that takes input from the user and returns a processed value."
   ]
  },
  {
   "cell_type": "code",
   "execution_count": 6,
   "metadata": {},
   "outputs": [
    {
     "name": "stdout",
     "output_type": "stream",
     "text": [
      "Name: daffa, Age: 21\n"
     ]
    }
   ],
   "source": [
    "def get_user_data():\n",
    "    try:\n",
    "        name = input(\"Enter your name: \").strip()\n",
    "        age = int(input(\"Enter your age: \").strip())\n",
    "        return name, age\n",
    "    except ValueError:\n",
    "        print(\"Invalid input. Please enter the correct data types.\")\n",
    "        return None, None\n",
    "\n",
    "name, age = get_user_data()\n",
    "if name and age:\n",
    "    print(f\"Name: {name}, Age: {age}\")\n",
    "else:\n",
    "    print(\"Failed to get user data.\")\n"
   ]
  }
 ],
 "metadata": {
  "kernelspec": {
   "display_name": ".venv",
   "language": "python",
   "name": "python3"
  },
  "language_info": {
   "codemirror_mode": {
    "name": "ipython",
    "version": 3
   },
   "file_extension": ".py",
   "mimetype": "text/x-python",
   "name": "python",
   "nbconvert_exporter": "python",
   "pygments_lexer": "ipython3",
   "version": "3.9.2"
  }
 },
 "nbformat": 4,
 "nbformat_minor": 2
}
