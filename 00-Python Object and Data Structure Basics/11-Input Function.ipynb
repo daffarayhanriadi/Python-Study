{
 "cells": [
  {
   "cell_type": "markdown",
   "metadata": {},
   "source": [
    "#### **Menggunakan input() untuk Mengambil Input dari Pengguna**\n",
    "\n",
    "Fungsi input() digunakan untuk mengambil input dari pengguna sebagai string. Kita bisa meminta pengguna untuk memasukkan data dan kemudian menyimpan data tersebut dalam variabel."
   ]
  },
  {
   "cell_type": "code",
   "execution_count": 2,
   "metadata": {},
   "outputs": [
    {
     "name": "stdout",
     "output_type": "stream",
     "text": [
      "Hello, daffa!\n"
     ]
    }
   ],
   "source": [
    "name = input(\"Enter your name: \")\n",
    "print(f\"Hello, {name}!\")"
   ]
  },
  {
   "cell_type": "markdown",
   "metadata": {},
   "source": [
    "#### **Mengubah Tipe Data dari Input**\n",
    "\n",
    "Input dari fungsi input() selalu berupa string. Jika kita memerlukan tipe data lain, seperti integer atau float, kita harus mengonversinya."
   ]
  },
  {
   "cell_type": "code",
   "execution_count": 3,
   "metadata": {},
   "outputs": [
    {
     "name": "stdout",
     "output_type": "stream",
     "text": [
      "You are 21 years old.\n"
     ]
    }
   ],
   "source": [
    "age = input(\"Enter your age: \")\n",
    "age = int(age)  # Konversi dari string ke integer\n",
    "print(f\"You are {age} years old.\")"
   ]
  },
  {
   "cell_type": "code",
   "execution_count": 11,
   "metadata": {},
   "outputs": [
    {
     "name": "stdout",
     "output_type": "stream",
     "text": [
      "data = False , type = <class 'bool'>\n"
     ]
    }
   ],
   "source": [
    "# Mengubah tipe data dari input ke boolean dengan bantuan casting int\n",
    "biner = bool(int(input(\"Masukkan nilai boolean: \"))) # 1 -> True, 0 -> False\n",
    "print(\"data =\",biner,\", type =\", type(biner))"
   ]
  },
  {
   "cell_type": "markdown",
   "metadata": {},
   "source": [
    "#### **Menangani Kesalahan Input**\n",
    "\n",
    "Untuk menghindari kesalahan saat mengonversi input pengguna, gunakan blok try-except."
   ]
  },
  {
   "cell_type": "code",
   "execution_count": 4,
   "metadata": {},
   "outputs": [
    {
     "name": "stdout",
     "output_type": "stream",
     "text": [
      "Please enter a valid integer for age.\n"
     ]
    }
   ],
   "source": [
    "try:\n",
    "    age = int(input(\"Enter your age: \"))\n",
    "    print(f\"You are {age} years old.\")\n",
    "except ValueError: # Akan di eksekusi apabila nilai input yang diberikan bukan angka yang valid.\n",
    "    print(\"Please enter a valid integer for age.\")"
   ]
  },
  {
   "cell_type": "markdown",
   "metadata": {},
   "source": [
    "#### **Mengambil Beberapa Input dari Pengguna**\n",
    "\n",
    "Kita bisa mengambil beberapa input dalam satu kali input dengan menggunakan pemisah tertentu dan kemudian membaginya."
   ]
  },
  {
   "cell_type": "code",
   "execution_count": 5,
   "metadata": {},
   "outputs": [
    {
     "name": "stdout",
     "output_type": "stream",
     "text": [
      "Name: daffa, Age: 21\n"
     ]
    }
   ],
   "source": [
    "data = input(\"Enter your name and age separated by a comma: \")\n",
    "name, age = data.split(\",\")  # Memisahkan input berdasarkan koma\n",
    "name = name.strip()  # Menghapus spasi tambahan\n",
    "age = int(age.strip())  # Menghapus spasi tambahan dan mengonversi ke integer\n",
    "print(f\"Name: {name}, Age: {age}\")"
   ]
  },
  {
   "cell_type": "markdown",
   "metadata": {},
   "source": [
    "#### **Membuat Fungsi untuk Mengambil Input**\n",
    "\n",
    "Untuk modularitas, Anda bisa membuat fungsi yang mengambil input dari pengguna dan mengembalikan nilai yang diolah."
   ]
  },
  {
   "cell_type": "code",
   "execution_count": 6,
   "metadata": {},
   "outputs": [
    {
     "name": "stdout",
     "output_type": "stream",
     "text": [
      "Name: daffa, Age: 21\n"
     ]
    }
   ],
   "source": [
    "def get_user_data():\n",
    "    try:\n",
    "        name = input(\"Enter your name: \").strip()\n",
    "        age = int(input(\"Enter your age: \").strip())\n",
    "        return name, age\n",
    "    except ValueError:\n",
    "        print(\"Invalid input. Please enter the correct data types.\")\n",
    "        return None, None\n",
    "\n",
    "name, age = get_user_data()\n",
    "if name and age:\n",
    "    print(f\"Name: {name}, Age: {age}\")\n",
    "else:\n",
    "    print(\"Failed to get user data.\")\n"
   ]
  }
 ],
 "metadata": {
  "kernelspec": {
   "display_name": ".venv",
   "language": "python",
   "name": "python3"
  },
  "language_info": {
   "codemirror_mode": {
    "name": "ipython",
    "version": 3
   },
   "file_extension": ".py",
   "mimetype": "text/x-python",
   "name": "python",
   "nbconvert_exporter": "python",
   "pygments_lexer": "ipython3",
   "version": "3.9.2"
  }
 },
 "nbformat": 4,
 "nbformat_minor": 2
}
