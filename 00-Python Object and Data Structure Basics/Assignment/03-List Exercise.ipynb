{
 "cells": [
  {
   "cell_type": "markdown",
   "metadata": {},
   "source": [
    "**Book list program**"
   ]
  },
  {
   "cell_type": "code",
   "execution_count": 2,
   "metadata": {},
   "outputs": [
    {
     "name": "stdout",
     "output_type": "stream",
     "text": [
      "Enter book data\n",
      "\n",
      "\n",
      " ========== Book's Data\n",
      "1 | Swimming | Otong\n",
      "\n",
      "\n",
      " ====================\n",
      "Enter book data\n",
      "\n",
      "\n",
      " ========== Book's Data\n",
      "1 | Swimming | Otong\n",
      "2 | Fishing | Ucup\n",
      "\n",
      "\n",
      " ====================\n",
      "Enter book data\n",
      "\n",
      "\n",
      " ========== Book's Data\n",
      "1 | Swimming | Otong\n",
      "2 | Fishing | Ucup\n",
      "3 | Good Father | Dadang\n",
      "\n",
      "\n",
      " ====================\n",
      "Program Completed\n"
     ]
    }
   ],
   "source": [
    "book_list = []\n",
    "while True:\n",
    "    print(\"Enter book data\")\n",
    "    title = input(\"The book's title\\t: \")\n",
    "    author = input(\"Author name\\t: \")\n",
    "    \n",
    "    new_book = [title, author]\n",
    "    book_list.append(new_book)\n",
    "    \n",
    "    print(\"\\n\\n\", \"=\"*10, \"Book's Data\")\n",
    "    for index, book in enumerate(book_list):\n",
    "        print(f\"{index+1} | {book[0]} | {book[1]}\")\n",
    "        \n",
    "    print(\"\\n\\n\", \"=\"*20)\n",
    "    is_more = input(\"More? (y/n) \")\n",
    "    \n",
    "    if is_more[0].lower() == \"n\":\n",
    "        break\n",
    "    \n",
    "print(\"Program Completed\")\n",
    "    \n",
    "    "
   ]
  },
  {
   "cell_type": "code",
   "execution_count": null,
   "metadata": {},
   "outputs": [],
   "source": []
  }
 ],
 "metadata": {
  "kernelspec": {
   "display_name": ".venv",
   "language": "python",
   "name": "python3"
  },
  "language_info": {
   "codemirror_mode": {
    "name": "ipython",
    "version": 3
   },
   "file_extension": ".py",
   "mimetype": "text/x-python",
   "name": "python",
   "nbconvert_exporter": "python",
   "pygments_lexer": "ipython3",
   "version": "3.12.4"
  }
 },
 "nbformat": 4,
 "nbformat_minor": 2
}
