{
 "cells": [
  {
   "cell_type": "markdown",
   "metadata": {},
   "source": []
  },
  {
   "cell_type": "code",
   "execution_count": 40,
   "metadata": {},
   "outputs": [],
   "source": [
    "from IPython.display import clear_output\n",
    "import datetime as dt\n",
    "import string\n",
    "import random\n",
    "# import os\n",
    "\n",
    "# Student dict template\n",
    "student_template = {\n",
    "    \"name\":\"name\",\n",
    "    \"nim\":\"0\"*8,\n",
    "    \"passed_credits\":0,\n",
    "    \"date_of_birth\": dt.datetime(1111,1,11)\n",
    "}\n",
    "\n",
    "student_data = {}"
   ]
  },
  {
   "cell_type": "code",
   "execution_count": 41,
   "metadata": {},
   "outputs": [
    {
     "name": "stdout",
     "output_type": "stream",
     "text": [
      "      WELCOME       \n",
      "    STUDENT DATA    \n",
      "--------------------\n",
      "KEY    Name              NIM      Passed Credits Date of Birth\n",
      "------------------------------------------------------------\n",
      "MYSLWD Dadang Sumedang   20104023    144     06/13/00  \n",
      "QCQXOW Ucup Surucup      20104020    144     11/30/01  \n",
      "YIQMGC Otong Surotong    20104010    144     12/31/03  \n",
      "\n",
      "\n",
      "The end of the program, Thank you!\n"
     ]
    }
   ],
   "source": [
    "while True:\n",
    "    # os.system('cls') # Clear Display in script .py\n",
    "    clear_output()\n",
    "    print(f\"{'WELCOME':^20}\")\n",
    "    print(f\"{'STUDENT DATA':^20}\")\n",
    "    print(\"-\"*20)\n",
    "\n",
    "    student = dict.fromkeys(student_template.keys())\n",
    "    # print(student)\n",
    "    student[\"name\"] = input(\"Student name: \")\n",
    "    student[\"nim\"] = int(input(\"Student nim: \"))\n",
    "    student[\"passed_credits\"] = int(input(\"Student Passed Credits: \"))\n",
    "    YEAR_OF_BIRTH = int(input(\"Year of Birth (YYYY): \"))\n",
    "    MONTH_OF_BIRTH = int(input(\"Month of Birth (1-12): \"))\n",
    "    DAY_OF_BIRTH = int(input(\"Day of Birth (1-31): \"))\n",
    "    student[\"date_of_birth\"] = dt.datetime(YEAR_OF_BIRTH, MONTH_OF_BIRTH, DAY_OF_BIRTH)\n",
    "    # print(student)\n",
    "    \n",
    "    KEY = \"\".join((random.choice(string.ascii_uppercase) for _ in range(6)))\n",
    "    student_data.update({KEY:student})\n",
    "    \n",
    "    print(f\"{'KEY':<6} {'Name':<17} {'NIM':<8} {'Passed Credits':^10} {'Date of Birth':<10}\")\n",
    "    print(\"-\"*60)\n",
    "\n",
    "    for student in student_data:\n",
    "        KEY = student\n",
    "        NAME = student_data[KEY][\"name\"]\n",
    "        NIM = student_data[KEY][\"nim\"]\n",
    "        PASSED_CREDITS = student_data[KEY][\"passed_credits\"]\n",
    "        DATE_OF_BIRTH = student_data[KEY][\"date_of_birth\"].strftime(\"%x\")\n",
    "        \n",
    "        print(f\"{KEY:<6} {NAME:<17} {NIM:<8} {PASSED_CREDITS:^10} {DATE_OF_BIRTH:<10}\")\n",
    "        \n",
    "    print(\"\\n\")\n",
    "    is_done = input(\"Want to add more bro? (y/n)\")\n",
    "    if is_done[0].lower() == \"n\":\n",
    "        break\n",
    "    \n",
    "print(\"The end of the program, Thank you!\")"
   ]
  }
 ],
 "metadata": {
  "kernelspec": {
   "display_name": ".venv",
   "language": "python",
   "name": "python3"
  },
  "language_info": {
   "codemirror_mode": {
    "name": "ipython",
    "version": 3
   },
   "file_extension": ".py",
   "mimetype": "text/x-python",
   "name": "python",
   "nbconvert_exporter": "python",
   "pygments_lexer": "ipython3",
   "version": "3.12.4"
  }
 },
 "nbformat": 4,
 "nbformat_minor": 2
}
