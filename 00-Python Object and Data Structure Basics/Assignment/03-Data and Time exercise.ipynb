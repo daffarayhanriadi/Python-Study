{
 "cells": [
  {
   "cell_type": "markdown",
   "metadata": {},
   "source": [
    "**Date and Time**\n",
    "\n",
    "We will create a simple apps"
   ]
  },
  {
   "cell_type": "code",
   "execution_count": 7,
   "metadata": {},
   "outputs": [],
   "source": [
    "import datetime as dt\n",
    "\n",
    "today = dt.date.today()\n",
    "date = dt.date(2024, 7, 30)"
   ]
  },
  {
   "cell_type": "code",
   "execution_count": 9,
   "metadata": {},
   "outputs": [
    {
     "name": "stdout",
     "output_type": "stream",
     "text": [
      "2024-07-30\n",
      "Today is Tuesday\n"
     ]
    }
   ],
   "source": [
    "print(today)\n",
    "print(f\"Today is {today:%A}\")"
   ]
  },
  {
   "cell_type": "code",
   "execution_count": 10,
   "metadata": {},
   "outputs": [
    {
     "name": "stdout",
     "output_type": "stream",
     "text": [
      "2024-07-30\n",
      "Today is Tuesday\n"
     ]
    }
   ],
   "source": [
    "print(date)\n",
    "print(f\"Today is {date:%A}\")"
   ]
  },
  {
   "cell_type": "code",
   "execution_count": 11,
   "metadata": {},
   "outputs": [
    {
     "name": "stdout",
     "output_type": "stream",
     "text": [
      "please enter your date, month and year of birth\n"
     ]
    }
   ],
   "source": [
    "print(\"please enter your date, month and year of birth\")\n",
    "date = int(input(\"Date \\t:\"))\n",
    "month = int(input(\"Month \\t:\"))\n",
    "year = int(input(\"Year \\t:\"))"
   ]
  },
  {
   "cell_type": "code",
   "execution_count": 12,
   "metadata": {},
   "outputs": [
    {
     "name": "stdout",
     "output_type": "stream",
     "text": [
      "Your date of birth is 2002-10-03\n",
      "The day is Thursday\n"
     ]
    }
   ],
   "source": [
    "date_of_birth = dt.date(year, month, date)\n",
    "\n",
    "print(f\"Your date of birth is {date_of_birth}\")\n",
    "print(f\"The day is {date_of_birth:%A}\")"
   ]
  },
  {
   "cell_type": "code",
   "execution_count": 19,
   "metadata": {},
   "outputs": [
    {
     "name": "stdout",
     "output_type": "stream",
     "text": [
      "Today's date is 2024-07-30\n",
      "Your age is 21 years old, 10 months\n"
     ]
    }
   ],
   "source": [
    "today = dt.date.today()\n",
    "age_day = today - date_of_birth\n",
    "age_year = age_day.days // 365\n",
    "age_month_remaining = (age_day.days % 365) // 30\n",
    "\n",
    "print(f\"Today's date is {today}\")\n",
    "print(f\"Your age is {age_year} years old, {age_month_remaining} months\")"
   ]
  }
 ],
 "metadata": {
  "kernelspec": {
   "display_name": ".venv",
   "language": "python",
   "name": "python3"
  },
  "language_info": {
   "codemirror_mode": {
    "name": "ipython",
    "version": 3
   },
   "file_extension": ".py",
   "mimetype": "text/x-python",
   "name": "python",
   "nbconvert_exporter": "python",
   "pygments_lexer": "ipython3",
   "version": "3.9.2"
  }
 },
 "nbformat": 4,
 "nbformat_minor": 2
}
