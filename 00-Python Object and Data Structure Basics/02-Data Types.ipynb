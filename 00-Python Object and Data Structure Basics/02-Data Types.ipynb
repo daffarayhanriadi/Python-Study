{
 "cells": [
  {
   "cell_type": "markdown",
   "metadata": {},
   "source": [
    "Table of Content:\n",
    "1. `Tipe Data Dasar`\n",
    "2. `Tipe Data Koleksi`\n",
    "3. `Tipe Data Khusus`\n",
    "4. `Tipe Data Lainnya`"
   ]
  },
  {
   "cell_type": "markdown",
   "metadata": {},
   "source": [
    "### **Tipe Data Dasar**\n",
    "\n",
    "a = 10, a adalah variabel dengan nilai 10\n"
   ]
  },
  {
   "cell_type": "markdown",
   "metadata": {},
   "source": [
    "**Integer (int): Menyimpan bilangan bulat.**"
   ]
  },
  {
   "cell_type": "code",
   "execution_count": 1,
   "metadata": {},
   "outputs": [
    {
     "name": "stdout",
     "output_type": "stream",
     "text": [
      "data :  11\n",
      "- bertipe <class 'int'>\n"
     ]
    }
   ],
   "source": [
    "data_integer = 11\n",
    "print(\"data : \", data_integer)\n",
    "print(\"- bertipe\", type(data_integer))"
   ]
  },
  {
   "cell_type": "markdown",
   "metadata": {},
   "source": [
    "**Float (float): Menyimpan bilangan desimal.**"
   ]
  },
  {
   "cell_type": "code",
   "execution_count": 2,
   "metadata": {},
   "outputs": [
    {
     "name": "stdout",
     "output_type": "stream",
     "text": [
      "data :  1.5\n",
      "- bertipe <class 'float'>\n"
     ]
    }
   ],
   "source": [
    "data_float = 1.5\n",
    "print(\"data : \", data_float)\n",
    "print(\"- bertipe\", type(data_float))"
   ]
  },
  {
   "cell_type": "markdown",
   "metadata": {},
   "source": [
    "**String (str): Menyimpan teks.**"
   ]
  },
  {
   "cell_type": "code",
   "execution_count": 3,
   "metadata": {},
   "outputs": [
    {
     "name": "stdout",
     "output_type": "stream",
     "text": [
      "data :  kapal lawd\n",
      "- bertipe <class 'str'>\n"
     ]
    }
   ],
   "source": [
    "data_string = \"kapal lawd\"\n",
    "print(\"data : \", data_string)\n",
    "print(\"- bertipe\", type(data_string))"
   ]
  },
  {
   "cell_type": "markdown",
   "metadata": {},
   "source": [
    "**Boolean (bool): Menyimpan nilai benar (True) atau salah (False).**"
   ]
  },
  {
   "cell_type": "code",
   "execution_count": 4,
   "metadata": {},
   "outputs": [
    {
     "name": "stdout",
     "output_type": "stream",
     "text": [
      "data :  False\n",
      "- bertipe <class 'bool'>\n"
     ]
    }
   ],
   "source": [
    "data_bool = False\n",
    "print(\"data : \", data_bool)\n",
    "print(\"- bertipe\", type(data_bool))"
   ]
  },
  {
   "cell_type": "markdown",
   "metadata": {},
   "source": [
    "**NoneType: Tipe data untuk menyatakan nilai yang tidak ada atau null.**"
   ]
  },
  {
   "cell_type": "code",
   "execution_count": 5,
   "metadata": {},
   "outputs": [
    {
     "name": "stdout",
     "output_type": "stream",
     "text": [
      "data :  None\n",
      "- bertipe <class 'NoneType'>\n"
     ]
    }
   ],
   "source": [
    "data_none = None\n",
    "print(\"data : \", data_none)\n",
    "print(\"- bertipe\", type(data_none))"
   ]
  },
  {
   "cell_type": "markdown",
   "metadata": {},
   "source": [
    "### **Tipe Data Koleksi**\n"
   ]
  },
  {
   "cell_type": "markdown",
   "metadata": {},
   "source": [
    "**List: Koleksi yang terurut dan dapat diubah (mutable). Dapat menyimpan berbagai tipe data.**"
   ]
  },
  {
   "cell_type": "code",
   "execution_count": 6,
   "metadata": {},
   "outputs": [
    {
     "name": "stdout",
     "output_type": "stream",
     "text": [
      "data :  ['apple', 'banana', 'cherry']\n",
      "- bertipe <class 'list'>\n"
     ]
    }
   ],
   "source": [
    "data_list = [\"apple\", \"banana\", \"cherry\"]\n",
    "print(\"data : \", data_list)\n",
    "print(\"- bertipe\", type(data_list))"
   ]
  },
  {
   "cell_type": "markdown",
   "metadata": {},
   "source": [
    "**Tuple: Koleksi yang terurut dan tidak dapat diubah (immutable). Dapat menyimpan berbagai tipe data.**"
   ]
  },
  {
   "cell_type": "code",
   "execution_count": 7,
   "metadata": {},
   "outputs": [
    {
     "name": "stdout",
     "output_type": "stream",
     "text": [
      "data :  (10.0, 20.0)\n",
      "- bertipe <class 'tuple'>\n"
     ]
    }
   ],
   "source": [
    "data_tuple = (10.0, 20.0)\n",
    "print(\"data : \", data_tuple)\n",
    "print(\"- bertipe\", type(data_tuple))"
   ]
  },
  {
   "cell_type": "markdown",
   "metadata": {},
   "source": [
    "**Dictionary (dict): Koleksi pasangan kunci-nilai (key-value pairs) yang tidak terurut.**"
   ]
  },
  {
   "cell_type": "code",
   "execution_count": 8,
   "metadata": {},
   "outputs": [
    {
     "name": "stdout",
     "output_type": "stream",
     "text": [
      "data :  {'name': 'Alice', 'age': 30}\n",
      "- bertipe <class 'dict'>\n"
     ]
    }
   ],
   "source": [
    "data_dict = {\"name\": \"Alice\", \"age\": 30}\n",
    "print(\"data : \", data_dict)\n",
    "print(\"- bertipe\", type(data_dict))"
   ]
  },
  {
   "cell_type": "markdown",
   "metadata": {},
   "source": [
    "**Set: Koleksi yang tidak terurut dan tidak mengizinkan duplikasi.**"
   ]
  },
  {
   "cell_type": "code",
   "execution_count": 9,
   "metadata": {},
   "outputs": [
    {
     "name": "stdout",
     "output_type": "stream",
     "text": [
      "data :  {1, 2, 3, 4, 5}\n",
      "- bertipe <class 'set'>\n"
     ]
    }
   ],
   "source": [
    "data_set = {1, 2, 3, 4, 5}\n",
    "print(\"data : \", data_set)\n",
    "print(\"- bertipe\", type(data_set))"
   ]
  },
  {
   "cell_type": "markdown",
   "metadata": {},
   "source": [
    "**FrozenSet: Versi set yang tidak dapat diubah (immutable).**"
   ]
  },
  {
   "cell_type": "code",
   "execution_count": 10,
   "metadata": {},
   "outputs": [
    {
     "name": "stdout",
     "output_type": "stream",
     "text": [
      "data :  frozenset({1, 2, 3, 4, 5})\n",
      "- bertipe <class 'frozenset'>\n"
     ]
    }
   ],
   "source": [
    "data_forzenset = frozenset([1, 2, 3, 4, 5])\n",
    "print(\"data : \", data_forzenset)\n",
    "print(\"- bertipe\", type(data_forzenset))"
   ]
  },
  {
   "cell_type": "markdown",
   "metadata": {},
   "source": [
    "### **Tipe Data Khusus**"
   ]
  },
  {
   "cell_type": "markdown",
   "metadata": {},
   "source": [
    "**Bytes: Menyimpan urutan byte (tidak dapat diubah).**"
   ]
  },
  {
   "cell_type": "code",
   "execution_count": 11,
   "metadata": {},
   "outputs": [
    {
     "name": "stdout",
     "output_type": "stream",
     "text": [
      "data :  b'hello'\n",
      "- bertipe <class 'bytes'>\n"
     ]
    }
   ],
   "source": [
    "data_byte = b\"hello\"\n",
    "print(\"data : \", data_byte)\n",
    "print(\"- bertipe\", type(data_byte))"
   ]
  },
  {
   "cell_type": "markdown",
   "metadata": {},
   "source": [
    "**Bytearray: Menyimpan urutan byte (dapat diubah).**"
   ]
  },
  {
   "cell_type": "code",
   "execution_count": 12,
   "metadata": {},
   "outputs": [
    {
     "name": "stdout",
     "output_type": "stream",
     "text": [
      "data :  bytearray(b'hello')\n",
      "- bertipe <class 'bytearray'>\n"
     ]
    }
   ],
   "source": [
    "data_bytearray = bytearray(b\"hello\")\n",
    "print(\"data : \", data_bytearray)\n",
    "print(\"- bertipe\", type(data_bytearray))"
   ]
  },
  {
   "cell_type": "markdown",
   "metadata": {},
   "source": [
    "**Memoryview: Memberikan tampilan langsung ke data buffer yang dapat diubah tanpa menyalin.**"
   ]
  },
  {
   "cell_type": "code",
   "execution_count": 13,
   "metadata": {},
   "outputs": [
    {
     "name": "stdout",
     "output_type": "stream",
     "text": [
      "data :  <memory at 0x000001BDFFE4C1C0>\n",
      "- bertipe <class 'memoryview'>\n"
     ]
    }
   ],
   "source": [
    "data_memoryview = memoryview(data_bytearray)\n",
    "print(\"data : \", data_memoryview)\n",
    "print(\"- bertipe\", type(data_memoryview))"
   ]
  },
  {
   "cell_type": "markdown",
   "metadata": {},
   "source": [
    "### **Tipe Data Lainnya**"
   ]
  },
  {
   "cell_type": "markdown",
   "metadata": {},
   "source": [
    "**Complex: Menyimpan bilangan kompleks.**"
   ]
  },
  {
   "cell_type": "code",
   "execution_count": 14,
   "metadata": {},
   "outputs": [
    {
     "name": "stdout",
     "output_type": "stream",
     "text": [
      "data :  (5+6j)\n",
      "- bertipe <class 'complex'>\n"
     ]
    }
   ],
   "source": [
    "data_complex = complex(5,6)\n",
    "print(\"data : \", data_complex)\n",
    "print(\"- bertipe\", type(data_complex))"
   ]
  },
  {
   "cell_type": "markdown",
   "metadata": {},
   "source": [
    "**Tipe data dari bahasa C karena python terbuat dari bahasa C**"
   ]
  },
  {
   "cell_type": "code",
   "execution_count": 15,
   "metadata": {},
   "outputs": [
    {
     "name": "stdout",
     "output_type": "stream",
     "text": [
      "data :  c_double(10.5)\n",
      "- bertipe <class 'ctypes.c_double'>\n"
     ]
    }
   ],
   "source": [
    "from ctypes import c_double\n",
    "\n",
    "data_c_double = c_double(10.5)\n",
    "print(\"data : \", data_c_double)\n",
    "print(\"- bertipe\", type(data_c_double))"
   ]
  },
  {
   "cell_type": "markdown",
   "metadata": {},
   "source": [
    "    Masih banyak tipe data lainnya (Advance)"
   ]
  }
 ],
 "metadata": {
  "kernelspec": {
   "display_name": ".venv",
   "language": "python",
   "name": "python3"
  },
  "language_info": {
   "codemirror_mode": {
    "name": "ipython",
    "version": 3
   },
   "file_extension": ".py",
   "mimetype": "text/x-python",
   "name": "python",
   "nbconvert_exporter": "python",
   "pygments_lexer": "ipython3",
   "version": "3.9.2"
  }
 },
 "nbformat": 4,
 "nbformat_minor": 2
}
