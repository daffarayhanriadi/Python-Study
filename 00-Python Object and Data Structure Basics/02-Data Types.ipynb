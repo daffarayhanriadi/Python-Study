{
 "cells": [
  {
   "cell_type": "markdown",
   "metadata": {},
   "source": [
    "# **Data Types in Python**\n",
    "\n",
    "**Table of Contents :**\n",
    "1. `Basic Data Types`\n",
    "2. `Collection Data Types`\n",
    "3. `Special Data Types`\n",
    "4. `Other Data Types`"
   ]
  },
  {
   "cell_type": "markdown",
   "metadata": {},
   "source": [
    "## **Basic Data Types**\n",
    "\n",
    "`a=10` it's mean `a` is a variable with value `10`"
   ]
  },
  {
   "cell_type": "markdown",
   "metadata": {},
   "source": [
    "**`Integer (int)`: Stores an integer is a positive or negative integer and has no decimal point.**"
   ]
  },
  {
   "cell_type": "code",
   "execution_count": 1,
   "metadata": {},
   "outputs": [
    {
     "name": "stdout",
     "output_type": "stream",
     "text": [
      "data :  11\n",
      "- bertipe <class 'int'>\n"
     ]
    }
   ],
   "source": [
    "data_integer = 11\n",
    "print(\"data : \", data_integer)\n",
    "print(\"- bertipe\", type(data_integer))"
   ]
  },
  {
   "cell_type": "markdown",
   "metadata": {},
   "source": [
    "**`Float (float)`: Stores a decimal number (real numbers that represent integers and decimal numbers).**"
   ]
  },
  {
   "cell_type": "code",
   "execution_count": 2,
   "metadata": {},
   "outputs": [
    {
     "name": "stdout",
     "output_type": "stream",
     "text": [
      "data :  1.5\n",
      "- bertipe <class 'float'>\n"
     ]
    }
   ],
   "source": [
    "data_float = 1.5\n",
    "print(\"data : \", data_float)\n",
    "print(\"- bertipe\", type(data_float))"
   ]
  },
  {
   "cell_type": "markdown",
   "metadata": {},
   "source": [
    "**`String (str)`: Stores the text.**"
   ]
  },
  {
   "cell_type": "code",
   "execution_count": 3,
   "metadata": {},
   "outputs": [
    {
     "name": "stdout",
     "output_type": "stream",
     "text": [
      "data :  kapal lawd\n",
      "- bertipe <class 'str'>\n"
     ]
    }
   ],
   "source": [
    "data_string = \"kapal lawd\"\n",
    "print(\"data : \", data_string)\n",
    "print(\"- bertipe\", type(data_string))"
   ]
  },
  {
   "cell_type": "markdown",
   "metadata": {},
   "source": [
    "**`Boolean (bool)`: Stores a `True` or `False` value.**"
   ]
  },
  {
   "cell_type": "code",
   "execution_count": 4,
   "metadata": {},
   "outputs": [
    {
     "name": "stdout",
     "output_type": "stream",
     "text": [
      "data :  False\n",
      "- bertipe <class 'bool'>\n"
     ]
    }
   ],
   "source": [
    "data_bool = False\n",
    "print(\"data : \", data_bool)\n",
    "print(\"- bertipe\", type(data_bool))"
   ]
  },
  {
   "cell_type": "markdown",
   "metadata": {},
   "source": [
    "**`NoneType`: Data type to represent a value that does not exist or is null.**"
   ]
  },
  {
   "cell_type": "code",
   "execution_count": 5,
   "metadata": {},
   "outputs": [
    {
     "name": "stdout",
     "output_type": "stream",
     "text": [
      "data :  None\n",
      "- bertipe <class 'NoneType'>\n"
     ]
    }
   ],
   "source": [
    "data_none = None\n",
    "print(\"data : \", data_none)\n",
    "print(\"- bertipe\", type(data_none))"
   ]
  },
  {
   "cell_type": "markdown",
   "metadata": {},
   "source": [
    "## **Collection Data Types**"
   ]
  },
  {
   "cell_type": "markdown",
   "metadata": {},
   "source": [
    "**`List`: An ordered and mutable collection. Can store various data types.**"
   ]
  },
  {
   "cell_type": "code",
   "execution_count": 6,
   "metadata": {},
   "outputs": [
    {
     "name": "stdout",
     "output_type": "stream",
     "text": [
      "data :  ['apple', 'banana', 'cherry']\n",
      "- bertipe <class 'list'>\n"
     ]
    }
   ],
   "source": [
    "data_list = [\"apple\", \"banana\", \"cherry\"]\n",
    "print(\"data : \", data_list)\n",
    "print(\"- bertipe\", type(data_list))"
   ]
  },
  {
   "cell_type": "markdown",
   "metadata": {},
   "source": [
    "**`Tuple`: An ordered and immutable collection. Can store various data types.**"
   ]
  },
  {
   "cell_type": "code",
   "execution_count": 7,
   "metadata": {},
   "outputs": [
    {
     "name": "stdout",
     "output_type": "stream",
     "text": [
      "data :  (10.0, 20.0)\n",
      "- bertipe <class 'tuple'>\n"
     ]
    }
   ],
   "source": [
    "data_tuple = (10.0, 20.0)\n",
    "print(\"data : \", data_tuple)\n",
    "print(\"- bertipe\", type(data_tuple))"
   ]
  },
  {
   "cell_type": "markdown",
   "metadata": {},
   "source": [
    "**`Dictionary (dict)`: An unordered collection of key-value pairs. Can store various data types.**"
   ]
  },
  {
   "cell_type": "code",
   "execution_count": 8,
   "metadata": {},
   "outputs": [
    {
     "name": "stdout",
     "output_type": "stream",
     "text": [
      "data :  {'name': 'Alice', 'age': 30}\n",
      "- bertipe <class 'dict'>\n"
     ]
    }
   ],
   "source": [
    "data_dict = {\"name\": \"Alice\", \"age\": 30}\n",
    "print(\"data : \", data_dict)\n",
    "print(\"- bertipe\", type(data_dict))"
   ]
  },
  {
   "cell_type": "markdown",
   "metadata": {},
   "source": [
    "**`Set`: An unordered collection that does not allow duplication. Can store various data types.**"
   ]
  },
  {
   "cell_type": "code",
   "execution_count": 9,
   "metadata": {},
   "outputs": [
    {
     "name": "stdout",
     "output_type": "stream",
     "text": [
      "data :  {1, 2, 3, 4, 5}\n",
      "- bertipe <class 'set'>\n"
     ]
    }
   ],
   "source": [
    "data_set = {1, 2, 3, 4, 5}\n",
    "print(\"data : \", data_set)\n",
    "print(\"- bertipe\", type(data_set))"
   ]
  },
  {
   "cell_type": "markdown",
   "metadata": {},
   "source": [
    "**`FrozenSet`: An immutable version of the set. Can store various data types.**"
   ]
  },
  {
   "cell_type": "code",
   "execution_count": 10,
   "metadata": {},
   "outputs": [
    {
     "name": "stdout",
     "output_type": "stream",
     "text": [
      "data :  frozenset({1, 2, 3, 4, 5})\n",
      "- bertipe <class 'frozenset'>\n"
     ]
    }
   ],
   "source": [
    "data_forzenset = frozenset([1, 2, 3, 4, 5])\n",
    "print(\"data : \", data_forzenset)\n",
    "print(\"- bertipe\", type(data_forzenset))"
   ]
  },
  {
   "cell_type": "markdown",
   "metadata": {},
   "source": [
    "## **Special Data Types**"
   ]
  },
  {
   "cell_type": "markdown",
   "metadata": {},
   "source": [
    "**`Bytes`: Stores the order of bytes (cannot be changed).**"
   ]
  },
  {
   "cell_type": "code",
   "execution_count": 11,
   "metadata": {},
   "outputs": [
    {
     "name": "stdout",
     "output_type": "stream",
     "text": [
      "data :  b'hello'\n",
      "- bertipe <class 'bytes'>\n"
     ]
    }
   ],
   "source": [
    "data_byte = b\"hello\"\n",
    "print(\"data : \", data_byte)\n",
    "print(\"- bertipe\", type(data_byte))"
   ]
  },
  {
   "cell_type": "markdown",
   "metadata": {},
   "source": [
    "**`Bytearray`: Stores the order of bytes (can be changed).**"
   ]
  },
  {
   "cell_type": "code",
   "execution_count": 12,
   "metadata": {},
   "outputs": [
    {
     "name": "stdout",
     "output_type": "stream",
     "text": [
      "data :  bytearray(b'hello')\n",
      "- bertipe <class 'bytearray'>\n"
     ]
    }
   ],
   "source": [
    "data_bytearray = bytearray(b\"hello\")\n",
    "print(\"data : \", data_bytearray)\n",
    "print(\"- bertipe\", type(data_bytearray))"
   ]
  },
  {
   "cell_type": "markdown",
   "metadata": {},
   "source": [
    "**`Memoryview`: Provides a direct view to buffer data that can be changed without copying.**"
   ]
  },
  {
   "cell_type": "code",
   "execution_count": 13,
   "metadata": {},
   "outputs": [
    {
     "name": "stdout",
     "output_type": "stream",
     "text": [
      "data :  <memory at 0x000001BDFFE4C1C0>\n",
      "- bertipe <class 'memoryview'>\n"
     ]
    }
   ],
   "source": [
    "data_memoryview = memoryview(data_bytearray)\n",
    "print(\"data : \", data_memoryview)\n",
    "print(\"- bertipe\", type(data_memoryview))"
   ]
  },
  {
   "cell_type": "markdown",
   "metadata": {},
   "source": [
    "## **Other Data Types**"
   ]
  },
  {
   "cell_type": "markdown",
   "metadata": {},
   "source": [
    "**`Complex`: Stores a complex number. Complex is a representation of complex numbers in mathematics.**\n",
    "\n",
    "Complex data type consists of real and imaginary numbers with the form “x +yj”, where “x” is a real number and “y” is an imaginary number."
   ]
  },
  {
   "cell_type": "code",
   "execution_count": 14,
   "metadata": {},
   "outputs": [
    {
     "name": "stdout",
     "output_type": "stream",
     "text": [
      "data :  (5+6j)\n",
      "- bertipe <class 'complex'>\n"
     ]
    }
   ],
   "source": [
    "data_complex = complex(5,6)\n",
    "print(\"data : \", data_complex)\n",
    "print(\"- bertipe\", type(data_complex))"
   ]
  },
  {
   "cell_type": "markdown",
   "metadata": {},
   "source": [
    "**Data types from the C language because python is made from the C language**"
   ]
  },
  {
   "cell_type": "code",
   "execution_count": 15,
   "metadata": {},
   "outputs": [
    {
     "name": "stdout",
     "output_type": "stream",
     "text": [
      "data :  c_double(10.5)\n",
      "- bertipe <class 'ctypes.c_double'>\n"
     ]
    }
   ],
   "source": [
    "from ctypes import c_double\n",
    "\n",
    "data_c_double = c_double(10.5)\n",
    "print(\"data : \", data_c_double)\n",
    "print(\"- bertipe\", type(data_c_double))"
   ]
  },
  {
   "cell_type": "markdown",
   "metadata": {},
   "source": [
    "`There are many other data types (Advance)`"
   ]
  }
 ],
 "metadata": {
  "kernelspec": {
   "display_name": ".venv",
   "language": "python",
   "name": "python3"
  },
  "language_info": {
   "codemirror_mode": {
    "name": "ipython",
    "version": 3
   },
   "file_extension": ".py",
   "mimetype": "text/x-python",
   "name": "python",
   "nbconvert_exporter": "python",
   "pygments_lexer": "ipython3",
   "version": "3.9.2"
  }
 },
 "nbformat": 4,
 "nbformat_minor": 2
}
