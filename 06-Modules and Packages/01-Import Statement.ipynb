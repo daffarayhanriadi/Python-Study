{
 "cells": [
  {
   "cell_type": "markdown",
   "metadata": {},
   "source": [
    "# **Import Statement**\n",
    "\n",
    "**Table of Contents :**\n",
    "1. `What is an import statement`\n",
    "2. `Basic structure of import`\n",
    "3. `Importing an Entire Module`\n",
    "4. `Importing a Specific Function or Object from a Module`\n",
    "5. `Giving Alias to Modules or Functions`\n",
    "6. `Importing All Module Contents`\n",
    "7. `Importing Modules from a Package`\n",
    "8. `Directory Structure and Packages`\n",
    "9. `Importing a Package with __init__.py`\n",
    "10. `Importing Python Built-in Modules vs. Third-Party Modules`\n",
    "11. `Importing Homemade Modules`\n",
    "12. `Handling Missing Modules`\n",
    "13. `Use of dir() Function`\n",
    "14. `Practical Example of Using import Statements`\n",
    "\n",
    "## **What is an import statement?**\n",
    "An import statement in Python is used to import a particular module, package, or function so that it can be used in our program. By importing, we can use existing code without rewriting it."
   ]
  },
  {
   "cell_type": "markdown",
   "metadata": {},
   "source": [
    "## **Basic structure of import**\n",
    "The basic structure of an import is:\n",
    "```py\n",
    "import module_name\n",
    "```"
   ]
  },
  {
   "cell_type": "markdown",
   "metadata": {},
   "source": [
    "## **Importing an Entire Module**\n",
    "When we import an entire module, we must use the module name as a prefix when accessing functionality within it.\n",
    "\n",
    "Example:"
   ]
  },
  {
   "cell_type": "code",
   "execution_count": 1,
   "metadata": {},
   "outputs": [
    {
     "name": "stdout",
     "output_type": "stream",
     "text": [
      "4.0\n"
     ]
    }
   ],
   "source": [
    "import math\n",
    "print(math.sqrt(16))"
   ]
  },
  {
   "cell_type": "markdown",
   "metadata": {},
   "source": [
    "In this example, we import the math module and use the sqrt function from the module."
   ]
  },
  {
   "cell_type": "markdown",
   "metadata": {},
   "source": [
    "## **Importing a Specific Function or Object from a Module**\n",
    "\n",
    "If we only need a specific function or object, we can import only that part.\n",
    "\n",
    "```py\n",
    "from module_name import function_name\n",
    "```\n",
    "\n",
    "Example:"
   ]
  },
  {
   "cell_type": "code",
   "execution_count": 2,
   "metadata": {},
   "outputs": [
    {
     "name": "stdout",
     "output_type": "stream",
     "text": [
      "4.0\n"
     ]
    }
   ],
   "source": [
    "from math import sqrt\n",
    "print(sqrt(16))"
   ]
  },
  {
   "cell_type": "markdown",
   "metadata": {},
   "source": [
    "In this example, we import only the sqrt function from the math module, so we can use it directly without the math prefix."
   ]
  },
  {
   "cell_type": "markdown",
   "metadata": {},
   "source": [
    "## **Giving Alias to Modules or Functions**\n",
    "\n",
    "We can alias imported modules or functions to make the code shorter or to avoid name conflicts.\n",
    "\n",
    "```py\n",
    "import module_name as alias\n",
    "from module_name import function_name as alias\n",
    "```\n",
    "\n",
    "Example:"
   ]
  },
  {
   "cell_type": "code",
   "execution_count": 3,
   "metadata": {},
   "outputs": [
    {
     "name": "stdout",
     "output_type": "stream",
     "text": [
      "4.0\n",
      "4.0\n"
     ]
    }
   ],
   "source": [
    "import math as m\n",
    "print(m.sqrt(16))\n",
    "\n",
    "from math import sqrt as s\n",
    "print(s(16))"
   ]
  },
  {
   "cell_type": "markdown",
   "metadata": {},
   "source": [
    "## **Importing All Module Contents**\n",
    "\n",
    "We can import all functions and objects from the module using an asterisk `*`. This is not recommended as it can cause name conflicts and make the code less clear.\n",
    "\n",
    "```py\n",
    "from module_name import *\n",
    "```\n",
    "\n",
    "Example:"
   ]
  },
  {
   "cell_type": "code",
   "execution_count": 4,
   "metadata": {},
   "outputs": [
    {
     "name": "stdout",
     "output_type": "stream",
     "text": [
      "4.0\n"
     ]
    }
   ],
   "source": [
    "from math import *\n",
    "print(sqrt(16))"
   ]
  },
  {
   "cell_type": "markdown",
   "metadata": {},
   "source": [
    "## **Importing Modules from a Package**\n",
    "\n",
    "A package is a collection of modules grouped in one directory. We can import modules from packages in the following way:\n",
    "\n",
    "Example:\n",
    "\n",
    "```py\n",
    "from package_name import module_name\n",
    "from package_name.subpackage_name import module_name\n",
    "```\n",
    "\n",
    "If we have a `my_package` as a package with a `my_module` as a module, we can import like this:\n",
    "\n",
    "```py\n",
    "from my_package import my_module\n",
    "```\n",
    "\n",
    "or import from subpackage with `.` notation.\n",
    "\n",
    "```py\n",
    "from sklearn.preprocessing import StandardScaler\n",
    "```"
   ]
  },
  {
   "cell_type": "markdown",
   "metadata": {},
   "source": [
    "## **Directory Structure and Packages**\n",
    "\n",
    "The directory structure of a package can look like this:\n",
    "\n",
    "```sh\n",
    "my_package/\n",
    "    __init__.py\n",
    "    my_module.py\n",
    "```\n",
    "\n",
    "The file `__init__.py` is used to indicate that the directory is a Python package."
   ]
  },
  {
   "cell_type": "markdown",
   "metadata": {},
   "source": [
    "## **Importing a Package with `__init__.py`**\n",
    "\n",
    "We can also specify which modules are imported when importing the package as a whole by defining them in `__init__.py`:\n",
    "\n",
    "```py\n",
    "# my_package/__init__.py\n",
    "from .my_module import *\n",
    "\n",
    "# script.py\n",
    "import my_package\n",
    "my_package.some_function()\n",
    "\n",
    "```"
   ]
  },
  {
   "cell_type": "markdown",
   "metadata": {},
   "source": [
    "## **Importing Python Built-in Modules vs. Third-Party Modules**\n",
    "\n",
    "Python has built-in modules (standard libraries) that can be used directly without additional installation. Third-party modules must be installed first, usually using `pip`.\n",
    "\n",
    "Example of third-party module installation:\n",
    "\n",
    "```py\n",
    "pip install requests\n",
    "```\n",
    "\n",
    "After installation, the module can be imported like a normal module:\n",
    "\n",
    "```py\n",
    "import requests\n",
    "```\n"
   ]
  },
  {
   "cell_type": "markdown",
   "metadata": {},
   "source": [
    "## **Importing Homemade Modules**\n",
    "\n",
    "We can also create and import homemade modules. For example, if we have a `my_module.py` file with `my_function`:\n",
    "\n",
    "```py\n",
    "# my_module.py\n",
    "def my_function():\n",
    "    print(\"Hello from my_module!\")\n",
    "```\n",
    "\n",
    "We can import it in another script:"
   ]
  },
  {
   "cell_type": "code",
   "execution_count": 5,
   "metadata": {},
   "outputs": [
    {
     "name": "stdout",
     "output_type": "stream",
     "text": [
      "Hello from my_module!\n"
     ]
    }
   ],
   "source": [
    "import my_module\n",
    "\n",
    "my_module.my_function()"
   ]
  },
  {
   "cell_type": "markdown",
   "metadata": {},
   "source": [
    "## **Handling Missing Modules**\n",
    "To handle cases where a module may not exist or is not installed, we can use try-except."
   ]
  },
  {
   "cell_type": "code",
   "execution_count": 7,
   "metadata": {},
   "outputs": [
    {
     "name": "stdout",
     "output_type": "stream",
     "text": [
      "Module not found!\n"
     ]
    }
   ],
   "source": [
    "try:\n",
    "    import module_name\n",
    "except ImportError:\n",
    "    # handle the error\n",
    "    print(\"Module not found!\")"
   ]
  },
  {
   "cell_type": "markdown",
   "metadata": {},
   "source": [
    "## **Use of dir() Function**\n",
    "The `dir()` function can be used to see what attributes are available in the module after it has been imported."
   ]
  },
  {
   "cell_type": "code",
   "execution_count": 8,
   "metadata": {},
   "outputs": [
    {
     "name": "stdout",
     "output_type": "stream",
     "text": [
      "['__doc__', '__loader__', '__name__', '__package__', '__spec__', 'acos', 'acosh', 'asin', 'asinh', 'atan', 'atan2', 'atanh', 'ceil', 'comb', 'copysign', 'cos', 'cosh', 'degrees', 'dist', 'e', 'erf', 'erfc', 'exp', 'expm1', 'fabs', 'factorial', 'floor', 'fmod', 'frexp', 'fsum', 'gamma', 'gcd', 'hypot', 'inf', 'isclose', 'isfinite', 'isinf', 'isnan', 'isqrt', 'lcm', 'ldexp', 'lgamma', 'log', 'log10', 'log1p', 'log2', 'modf', 'nan', 'nextafter', 'perm', 'pi', 'pow', 'prod', 'radians', 'remainder', 'sin', 'sinh', 'sqrt', 'tan', 'tanh', 'tau', 'trunc', 'ulp']\n"
     ]
    }
   ],
   "source": [
    "import math\n",
    "print(dir(math))"
   ]
  },
  {
   "cell_type": "markdown",
   "metadata": {},
   "source": [
    "## **Practical Example of Using import Statements**\n",
    "\n",
    "Here is a practical example that combines various import techniques:\n",
    "\n",
    "```py\n",
    "# math_module.py\n",
    "def add(a, b):\n",
    "    return a + b\n",
    "\n",
    "def subtract(a, b):\n",
    "    return a - b\n",
    "```"
   ]
  },
  {
   "cell_type": "code",
   "execution_count": 6,
   "metadata": {},
   "outputs": [
    {
     "name": "stdout",
     "output_type": "stream",
     "text": [
      "Addition: 8\n",
      "Subtraction: 2\n"
     ]
    }
   ],
   "source": [
    "from math_module import add, subtract\n",
    "\n",
    "result_add = add(5, 3)\n",
    "result_subtract = subtract(5, 3)\n",
    "\n",
    "print(f\"Addition: {result_add}\")\n",
    "print(f\"Subtraction: {result_subtract}\")"
   ]
  },
  {
   "cell_type": "markdown",
   "metadata": {},
   "source": [
    "The `import` statement is an essential feature in Python that allows us to organize our code well and take advantage of existing functionality. By understanding the different ways to import modules and packages, we can write more modular and well-structured code."
   ]
  }
 ],
 "metadata": {
  "kernelspec": {
   "display_name": ".venv",
   "language": "python",
   "name": "python3"
  },
  "language_info": {
   "codemirror_mode": {
    "name": "ipython",
    "version": 3
   },
   "file_extension": ".py",
   "mimetype": "text/x-python",
   "name": "python",
   "nbconvert_exporter": "python",
   "pygments_lexer": "ipython3",
   "version": "3.9.2"
  }
 },
 "nbformat": 4,
 "nbformat_minor": 2
}
