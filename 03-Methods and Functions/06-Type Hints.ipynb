{
 "cells": [
  {
   "cell_type": "markdown",
   "metadata": {},
   "source": [
    "# **Type Hints**\n",
    "\n",
    "## **Introduction to Type Hint**\n",
    "A Type Hint is a way to indicate the type of data expected by a variable, function, or method in Python. Although Python is a dynamic language and doesn't require static data types, Type Hints can help in making code more readable and reducing bugs."
   ]
  },
  {
   "cell_type": "markdown",
   "metadata": {},
   "source": [
    "## **Why Use Type Hint?**\n",
    "1. **Improve Readability:** Provide hints to other developers about the expected data types.\n",
    "2. **Minimizes Bugs:** Helps in detecting data type errors during development.\n",
    "3. **IDE Help:** Code editors or IDEs like PyCharm and VSCode can provide better suggestions."
   ]
  },
  {
   "cell_type": "markdown",
   "metadata": {},
   "source": [
    "## **Built-in Data Types**\n",
    "Some built-in data types that are often used in Type Hint:\n",
    "\n",
    "* int\n",
    "* float\n",
    "* str\n",
    "* bool\n",
    "* list\n",
    "* dict\n",
    "* tuple\n",
    "* set\n",
    "* None"
   ]
  },
  {
   "cell_type": "markdown",
   "metadata": {},
   "source": [
    "## **Basic Type Hint**\n",
    "\n",
    "### **Variable**\n",
    "To indicate the data type of a variable, simply add : followed by the desired data type."
   ]
  },
  {
   "cell_type": "code",
   "execution_count": null,
   "metadata": {},
   "outputs": [],
   "source": [
    "name: str = \"John\"\n",
    "age: int = 25"
   ]
  },
  {
   "cell_type": "markdown",
   "metadata": {},
   "source": [
    "### **Functions**\n",
    "For functions, we can indicate the data types for parameters and return values."
   ]
  },
  {
   "cell_type": "code",
   "execution_count": null,
   "metadata": {},
   "outputs": [],
   "source": [
    "def greeting(name: str) -> str:\n",
    "    return f\"Hello, {name}\""
   ]
  },
  {
   "cell_type": "markdown",
   "metadata": {},
   "source": [
    "**In the example above:**\n",
    "1. `name` is a parameter of type `str`.\n",
    "2. The function **returns** a value of type `str`."
   ]
  },
  {
   "cell_type": "markdown",
   "metadata": {},
   "source": [
    "## **Collections and Generics**\n",
    "\n",
    "For collection data types like **list**, **dict**, **tuple**, and **set**, we can use the `typing module`."
   ]
  },
  {
   "cell_type": "markdown",
   "metadata": {},
   "source": [
    "**List**"
   ]
  },
  {
   "cell_type": "code",
   "execution_count": null,
   "metadata": {},
   "outputs": [],
   "source": [
    "from typing import List\n",
    "\n",
    "def get_names() -> List[str]:\n",
    "    return [\"Alice\", \"Bob\", \"Charlie\"]"
   ]
  },
  {
   "cell_type": "markdown",
   "metadata": {},
   "source": [
    "**Dict**"
   ]
  },
  {
   "cell_type": "code",
   "execution_count": null,
   "metadata": {},
   "outputs": [],
   "source": [
    "from typing import Dict\n",
    "\n",
    "def get_user_ages() -> Dict[str, int]:\n",
    "    return {\"Alice\": 30, \"Bob\": 25}"
   ]
  },
  {
   "cell_type": "markdown",
   "metadata": {},
   "source": [
    "**Tuple**"
   ]
  },
  {
   "cell_type": "code",
   "execution_count": null,
   "metadata": {},
   "outputs": [],
   "source": [
    "from typing import Tuple\n",
    "\n",
    "def get_user_data() -> Tuple[str, int]:\n",
    "    return (\"Alice\", 30)"
   ]
  },
  {
   "cell_type": "markdown",
   "metadata": {},
   "source": [
    "**Set**"
   ]
  },
  {
   "cell_type": "code",
   "execution_count": null,
   "metadata": {},
   "outputs": [],
   "source": [
    "from typing import List, Set\n",
    "\n",
    "def unique_numbers(numbers: List[int]) -> Set[int]:\n",
    "    return set(numbers)"
   ]
  },
  {
   "cell_type": "markdown",
   "metadata": {},
   "source": [
    "## **Optional and Union**\n",
    "\n",
    "**Optional**\n",
    "\n",
    "**If a variable or parameter `can be None`**, we can use Optional."
   ]
  },
  {
   "cell_type": "code",
   "execution_count": null,
   "metadata": {},
   "outputs": [],
   "source": [
    "from typing import Optional\n",
    "\n",
    "def get_user_name(user_id: int) -> Optional[str]:\n",
    "    if user_id == 1:\n",
    "        return \"Alice\"\n",
    "    else:\n",
    "        return None"
   ]
  },
  {
   "cell_type": "markdown",
   "metadata": {},
   "source": [
    "**Union**\n",
    "\n",
    "**If a variable or parameter can have `more than one type`**, use Union."
   ]
  },
  {
   "cell_type": "code",
   "execution_count": null,
   "metadata": {},
   "outputs": [],
   "source": [
    "from typing import Union\n",
    "\n",
    "def get_value(key: str) -> Union[str, int]:\n",
    "    if key == \"name\":\n",
    "        return \"Alice\"\n",
    "    else:\n",
    "        return 42\n",
    "    \n",
    "def get_data(data_id: int) -> Union[str, None]:\n",
    "    if data_id == 1:\n",
    "        return \"Data not found\"\n",
    "    else:\n",
    "        return None"
   ]
  },
  {
   "cell_type": "markdown",
   "metadata": {},
   "source": [
    "## **More Complex Examples**\n",
    "\n",
    "Functions with Multiple Parameters and Complex Return Types"
   ]
  },
  {
   "cell_type": "code",
   "execution_count": null,
   "metadata": {},
   "outputs": [],
   "source": [
    "from typing import List, Dict, Tuple\n",
    "\n",
    "def process_data(names: List[str], scores: Dict[str, int]) -> Tuple[int, int]:\n",
    "    total_score: int = sum(scores.values())\n",
    "    num_names: int = len(names)\n",
    "    return num_names, total_score\n",
    "    "
   ]
  },
  {
   "cell_type": "markdown",
   "metadata": {},
   "source": [
    "## **Classes and Type Hints**\n",
    "Type Hint can also be used in classes."
   ]
  },
  {
   "cell_type": "code",
   "execution_count": null,
   "metadata": {},
   "outputs": [],
   "source": [
    "from typing import List\n",
    "\n",
    "class User:\n",
    "    def __init__(self, name: str, age: int, friends: List[str]):\n",
    "        self.name = name\n",
    "        self.age = age\n",
    "        self.friends = friends\n",
    "    \n",
    "    def add_friend(self, friend_name: str) -> None:\n",
    "        self.friends.append(friend_name)"
   ]
  },
  {
   "cell_type": "markdown",
   "metadata": {},
   "source": [
    "## **Type Alias**\n",
    "\n",
    "We can create aliases for complex types to make the code more readable."
   ]
  },
  {
   "cell_type": "code",
   "execution_count": null,
   "metadata": {},
   "outputs": [],
   "source": [
    "from typing import List, Tuple\n",
    "\n",
    "Coordinates = Tuple[int , int]\n",
    "Path = List[Coordinates]\n",
    "\n",
    "def create_path() -> Path:\n",
    "    return [(0, 0), (1, 2), (2, 4)]"
   ]
  },
  {
   "cell_type": "markdown",
   "metadata": {},
   "source": [
    "## **Callable**\n",
    "To provide type hints to other functions or callables, we use Callable."
   ]
  },
  {
   "cell_type": "code",
   "execution_count": null,
   "metadata": {},
   "outputs": [],
   "source": [
    "from typing import Callable\n",
    "\n",
    "def apply_function(func: Callable[[int, int], int], x: int, y: int) -> int:\n",
    "    return func(x, y)"
   ]
  },
  {
   "cell_type": "markdown",
   "metadata": {},
   "source": [
    "## **Generic**\n",
    "Python supports generic programming with `TypeVar`. Generic allows us to define functions or classes that can work with different data types."
   ]
  },
  {
   "cell_type": "code",
   "execution_count": null,
   "metadata": {},
   "outputs": [],
   "source": [
    "from typing import TypeVar, Generic, List\n",
    "\n",
    "T = TypeVar(\"T\")\n",
    "\n",
    "class Stack(Generic[T]):\n",
    "    def __init__(self):\n",
    "        self.items = List[T] = []\n",
    "    \n",
    "    def push(self, item: T) -> None:\n",
    "        self.items.append(item)\n",
    "        \n",
    "    def pop(self) -> T:\n",
    "        return self.items.pop()"
   ]
  },
  {
   "cell_type": "markdown",
   "metadata": {},
   "source": [
    "**There are many more things related to type hints. keep learning**"
   ]
  },
  {
   "cell_type": "markdown",
   "metadata": {},
   "source": [
    "## **Conclusion**\n",
    "Type Hint in Python is a very useful tool for improving code quality. Although it is not forced by the Python interpreter, its use can help in the development and maintenance of better code. Type Hint works very well with static analysis tools like mypy, which can check for type errors without running code."
   ]
  }
 ],
 "metadata": {
  "language_info": {
   "name": "python"
  }
 },
 "nbformat": 4,
 "nbformat_minor": 2
}
