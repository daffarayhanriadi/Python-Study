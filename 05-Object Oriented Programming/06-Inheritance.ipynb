{
 "cells": [
  {
   "cell_type": "markdown",
   "metadata": {},
   "source": [
    "# **Inheritance**\n",
    "\n",
    "Inheritance is a way to form new classes using classes that have already been defined. The newly formed classes are called derived classes, the classes that we derive from are called base classes. Important benefits of inheritance are code reuse and reduction of complexity of a program. The derived classes (descendants) override or extend the functionality of base classes (ancestors).\n",
    "\n",
    "Let's see an example by incorporating our previous work on the Dog class:"
   ]
  },
  {
   "cell_type": "code",
   "execution_count": 2,
   "metadata": {},
   "outputs": [],
   "source": [
    "class Animal:\n",
    "    def __init__(self):\n",
    "        print(\"Animal created\")\n",
    "\n",
    "    def whoAmI(self):\n",
    "        print(\"Animal\")\n",
    "\n",
    "    def eat(self):\n",
    "        print(\"Eating\")\n",
    "\n",
    "\n",
    "class Dog(Animal):\n",
    "    def __init__(self):\n",
    "        Animal.__init__(self)\n",
    "        print(\"Dog created\")\n",
    "\n",
    "    def whoAmI(self):\n",
    "        print(\"Dog\")\n",
    "\n",
    "    def bark(self):\n",
    "        print(\"Woof!\")"
   ]
  },
  {
   "cell_type": "code",
   "execution_count": 3,
   "metadata": {},
   "outputs": [
    {
     "name": "stdout",
     "output_type": "stream",
     "text": [
      "Animal created\n",
      "Dog created\n"
     ]
    }
   ],
   "source": [
    "d = Dog()"
   ]
  },
  {
   "cell_type": "code",
   "execution_count": 4,
   "metadata": {},
   "outputs": [
    {
     "name": "stdout",
     "output_type": "stream",
     "text": [
      "Dog\n"
     ]
    }
   ],
   "source": [
    "d.whoAmI()"
   ]
  },
  {
   "cell_type": "code",
   "execution_count": 5,
   "metadata": {},
   "outputs": [
    {
     "name": "stdout",
     "output_type": "stream",
     "text": [
      "Eating\n"
     ]
    }
   ],
   "source": [
    "d.eat()"
   ]
  },
  {
   "cell_type": "code",
   "execution_count": 6,
   "metadata": {},
   "outputs": [
    {
     "name": "stdout",
     "output_type": "stream",
     "text": [
      "Woof!\n"
     ]
    }
   ],
   "source": [
    "d.bark()"
   ]
  },
  {
   "cell_type": "markdown",
   "metadata": {},
   "source": [
    "In this example, we have two classes: Animal and Dog. The Animal is the base class, the Dog is the derived class. \n",
    "\n",
    "The derived class inherits the functionality of the base class. \n",
    "\n",
    "* It is shown by the eat() method. \n",
    "\n",
    "The derived class modifies existing behavior of the base class.\n",
    "\n",
    "* shown by the whoAmI() method. \n",
    "\n",
    "Finally, the derived class extends the functionality of the base class, by defining a new bark() method.\n",
    "\n",
    "Other example:"
   ]
  },
  {
   "cell_type": "code",
   "execution_count": 7,
   "metadata": {},
   "outputs": [
    {
     "name": "stdout",
     "output_type": "stream",
     "text": [
      "lina\n",
      "techies\n",
      "axe\n"
     ]
    }
   ],
   "source": [
    "class Hero:\n",
    "    def __init__(self, name, health):\n",
    "        self.name = name\n",
    "        self.health = health\n",
    "        \n",
    "class HeroIntelligence(Hero):\n",
    "    pass\n",
    "\n",
    "class HeroStrength(Hero):\n",
    "    pass\n",
    "\n",
    "lina = Hero(\"lina\", 100)\n",
    "techies = HeroIntelligence(\"techies\", 100)\n",
    "axe = HeroStrength(\"axe\", 200)\n",
    "\n",
    "print(lina.name)\n",
    "print(techies.name)\n",
    "print(axe.name)"
   ]
  },
  {
   "cell_type": "markdown",
   "metadata": {},
   "source": [
    "## **Multiple Inheritance**"
   ]
  },
  {
   "cell_type": "code",
   "execution_count": 8,
   "metadata": {},
   "outputs": [
    {
     "name": "stdout",
     "output_type": "stream",
     "text": [
      "red\n",
      "range\n"
     ]
    }
   ],
   "source": [
    "class Team:\n",
    "    def set_team(self, team):\n",
    "        self.team = team\n",
    "        \n",
    "    def show_team(self):\n",
    "        print(self.team)\n",
    "\n",
    "\n",
    "class HeroType:\n",
    "    def set_type(self, type): # what if the method name is the same? -> Method Resolution Order\n",
    "        self.type = type\n",
    "    \n",
    "    def show_type(self):\n",
    "        print(self.type)\n",
    "\n",
    "\n",
    "class Hero(Team, HeroType):\n",
    "    def __init__(self, name, health):\n",
    "        self.name = name\n",
    "        self.health = health\n",
    "        \n",
    "snapfire = Hero(\"snapfire\", 100)\n",
    "snapfire.set_team(\"red\")\n",
    "snapfire.set_type(\"range\")\n",
    "\n",
    "snapfire.show_team()\n",
    "snapfire.show_type()"
   ]
  },
  {
   "cell_type": "markdown",
   "metadata": {},
   "source": [
    "## **Method Resolution Order**\n",
    "\n",
    "The Method Resolution Order that is inherited to a class it depends on the order of inheritance itself"
   ]
  },
  {
   "cell_type": "code",
   "execution_count": 9,
   "metadata": {},
   "outputs": [
    {
     "name": "stdout",
     "output_type": "stream",
     "text": [
      "This is show_C\n",
      "Help on C in module __main__ object:\n",
      "\n",
      "class C(B, A)\n",
      " |  Method resolution order:\n",
      " |      C\n",
      " |      B\n",
      " |      A\n",
      " |      builtins.object\n",
      " |  \n",
      " |  Methods defined here:\n",
      " |  \n",
      " |  show(self)\n",
      " |  \n",
      " |  ----------------------------------------------------------------------\n",
      " |  Data descriptors inherited from B:\n",
      " |  \n",
      " |  __dict__\n",
      " |      dictionary for instance variables (if defined)\n",
      " |  \n",
      " |  __weakref__\n",
      " |      list of weak references to the object (if defined)\n",
      "\n"
     ]
    }
   ],
   "source": [
    "class A:\n",
    "    \n",
    "    def show(self):\n",
    "        print(\"This is show_A\")\n",
    "        \n",
    "\n",
    "class B:\n",
    "    \n",
    "    def show(self):\n",
    "        print(\"This is show_B\")\n",
    "        \n",
    "# class C(A, B)\n",
    "class C(B, A):\n",
    "    def show(self):\n",
    "        print(\"This is show_C\")\n",
    "\n",
    "obj = C()\n",
    "obj.show()\n",
    "help(obj)"
   ]
  },
  {
   "cell_type": "markdown",
   "metadata": {},
   "source": [
    "## **Diamond Problem**"
   ]
  },
  {
   "cell_type": "code",
   "execution_count": 10,
   "metadata": {},
   "outputs": [
    {
     "name": "stdout",
     "output_type": "stream",
     "text": [
      "This is show_B\n",
      "Help on D in module __main__ object:\n",
      "\n",
      "class D(B, C)\n",
      " |  Method resolution order:\n",
      " |      D\n",
      " |      B\n",
      " |      C\n",
      " |      A\n",
      " |      builtins.object\n",
      " |  \n",
      " |  Methods inherited from B:\n",
      " |  \n",
      " |  show(self)\n",
      " |  \n",
      " |  ----------------------------------------------------------------------\n",
      " |  Data descriptors inherited from A:\n",
      " |  \n",
      " |  __dict__\n",
      " |      dictionary for instance variables (if defined)\n",
      " |  \n",
      " |  __weakref__\n",
      " |      list of weak references to the object (if defined)\n",
      "\n"
     ]
    }
   ],
   "source": [
    "class A:\n",
    "    def show(self):\n",
    "        print(\"This is show_A\")\n",
    "\n",
    "class B(A):\n",
    "    def show(self):\n",
    "        print(\"This is show_B\")\n",
    "\n",
    "class C(A):\n",
    "    def show(self):\n",
    "        print(\"This is show_C\")\n",
    "        \n",
    "class D(B, C):\n",
    "    pass\n",
    "\n",
    "obj = D()\n",
    "obj.show()\n",
    "help(obj)"
   ]
  }
 ],
 "metadata": {
  "kernelspec": {
   "display_name": ".venv",
   "language": "python",
   "name": "python3"
  },
  "language_info": {
   "codemirror_mode": {
    "name": "ipython",
    "version": 3
   },
   "file_extension": ".py",
   "mimetype": "text/x-python",
   "name": "python",
   "nbconvert_exporter": "python",
   "pygments_lexer": "ipython3",
   "version": "3.9.2"
  }
 },
 "nbformat": 4,
 "nbformat_minor": 2
}
