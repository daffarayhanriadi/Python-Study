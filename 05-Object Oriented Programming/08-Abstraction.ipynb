{
 "cells": [
  {
   "cell_type": "markdown",
   "metadata": {},
   "source": [
    "# **Abstraction**\n",
    "\n",
    "**Abstraction** is one of the key concepts in object-oriented programming (OOP). Abstraction allows us to hide implementation details and show only essential functionality to the user. In Python, abstraction can be achieved using abstract classes and abstract methods. An abstract class is a class that cannot be instantiated and usually serves as a template for other classes.\n",
    "\n",
    "An **abstract** class is a blueprint for a class, every class that inherits the abstract class, must implement the methods in the abstract class, otherwise, it will encounter an error\n",
    "\n",
    "**Steps to Create Abstraction with Python**\n",
    "1. Using the `abc` module: Python provides the abc (Abstract Base Classes) module that supports creating abstract classes and methods.\n",
    "2. Creating an abstract class: Use `ABC` as a superclass to define an abstract class.\n",
    "3. Create abstract methods: Use the `@abstractmethod` decorator to define an abstract method in an abstract class."
   ]
  },
  {
   "cell_type": "markdown",
   "metadata": {},
   "source": [
    "Abstraction Example in Python\n",
    "Let's create a simple example to illustrate the concept of abstraction. Suppose we want to create a system to calculate the area of various geometric shapes (such as square, circle, etc.)."
   ]
  },
  {
   "cell_type": "code",
   "execution_count": 1,
   "metadata": {},
   "outputs": [
    {
     "name": "stdout",
     "output_type": "stream",
     "text": [
      "Area of rectangle: 200\n",
      "Perimeter of rectangle: 60\n",
      "Area of rectangle: 78.5\n",
      "Perimeter of rectangle: 31.400000000000002\n"
     ]
    }
   ],
   "source": [
    "from abc import ABC, abstractmethod\n",
    "\n",
    "class Shape(ABC):\n",
    "    @abstractmethod\n",
    "    def area(self):\n",
    "        pass\n",
    "    \n",
    "    @abstractmethod\n",
    "    def perimeter(self):\n",
    "        pass\n",
    "    \n",
    "class Rectangle(Shape):\n",
    "    def __init__(self, width, height):\n",
    "        self.width = width\n",
    "        self.height = height\n",
    "    \n",
    "    def area(self):\n",
    "        return self.width * self.height\n",
    "    \n",
    "    def perimeter(self):\n",
    "        return 2 * (self.width + self.height)\n",
    "    \n",
    "class Circle(Shape):\n",
    "    def __init__(self, radius):\n",
    "        self.radius = radius\n",
    "        \n",
    "    def area(self):\n",
    "        return 3.14 * self.radius ** 2\n",
    "    \n",
    "    def perimeter(self):\n",
    "        return 2 * 3.14 * self.radius\n",
    "    \n",
    "rect = Rectangle(10, 20)\n",
    "print(f\"Area of rectangle: {rect.area()}\")\n",
    "print(f\"Perimeter of rectangle: {rect.perimeter()}\")\n",
    "\n",
    "circ = Circle(5)\n",
    "print(f\"Area of rectangle: {circ.area()}\")\n",
    "print(f\"Perimeter of rectangle: {circ.perimeter()}\")"
   ]
  },
  {
   "cell_type": "markdown",
   "metadata": {},
   "source": [
    "Other example:"
   ]
  },
  {
   "cell_type": "code",
   "execution_count": 2,
   "metadata": {},
   "outputs": [
    {
     "name": "stdout",
     "output_type": "stream",
     "text": [
      "push button click\n",
      "Help on PushButton in module __main__ object:\n",
      "\n",
      "class PushButton(Button)\n",
      " |  Method resolution order:\n",
      " |      PushButton\n",
      " |      Button\n",
      " |      abc.ABC\n",
      " |      builtins.object\n",
      " |  \n",
      " |  Methods defined here:\n",
      " |  \n",
      " |  click(self)\n",
      " |  \n",
      " |  ----------------------------------------------------------------------\n",
      " |  Data and other attributes defined here:\n",
      " |  \n",
      " |  __abstractmethods__ = frozenset()\n",
      " |  \n",
      " |  ----------------------------------------------------------------------\n",
      " |  Data descriptors inherited from Button:\n",
      " |  \n",
      " |  __dict__\n",
      " |      dictionary for instance variables (if defined)\n",
      " |  \n",
      " |  __weakref__\n",
      " |      list of weak references to the object (if defined)\n",
      "\n"
     ]
    }
   ],
   "source": [
    "# abc = abstract base class\n",
    "from abc import ABC, abstractmethod\n",
    "\n",
    "class Button(ABC): # Class Abstract\n",
    "    \n",
    "    @abstractmethod\n",
    "    def click(self):\n",
    "        pass\n",
    "        # print(\"button click\")\n",
    "        \n",
    "class PushButton(Button):\n",
    "    \n",
    "    def click(self):\n",
    "        print(\"push button click\")\n",
    "        \n",
    "class RadioButton(Button):\n",
    "    \n",
    "    def click(self):\n",
    "        print(\"radio button click\")\n",
    "        \n",
    "tombol1 = PushButton()\n",
    "tombol1.click()\n",
    "help(tombol1)"
   ]
  },
  {
   "cell_type": "markdown",
   "metadata": {},
   "source": [
    "Another Example:"
   ]
  },
  {
   "cell_type": "code",
   "execution_count": 3,
   "metadata": {},
   "outputs": [
    {
     "name": "stdout",
     "output_type": "stream",
     "text": [
      "Go to: www.kelasterbuka.id\n"
     ]
    }
   ],
   "source": [
    "from abc import ABC, abstractmethod\n",
    "\n",
    "class Button(ABC):\n",
    "    \n",
    "    def __init__(self, set_link):\n",
    "        self.link = set_link\n",
    "    \n",
    "    @abstractmethod\n",
    "    def click(self):\n",
    "        pass\n",
    "    \n",
    "    @property\n",
    "    @abstractmethod\n",
    "    def link(self):\n",
    "        pass\n",
    "    \n",
    "class PushButton(Button):\n",
    "    \n",
    "    def click(self): \n",
    "        print(\"Go to: {}\".format(self.link)) # self.link here takes the one in class PushButton not class Button\n",
    "        \n",
    "    # @link.setter\n",
    "    @Button.link.setter\n",
    "    def link(self, input):\n",
    "        self.__link = input\n",
    "    \n",
    "    # does not need \"Button.\" anymore because it has been declared on top of it\n",
    "    @link.getter # because there is already a Button.link above, then this method does not need it again\n",
    "    def link(self):\n",
    "        return self.__link\n",
    "        \n",
    "tombol1 = PushButton(\"www.kelasterbuka.id\")\n",
    "\n",
    "tombol1.click()"
   ]
  },
  {
   "cell_type": "markdown",
   "metadata": {},
   "source": [
    "By using abstraction, we can hide implementation details and only show important functionality. This makes the code more modular, easy to understand, and easy to manage. Abstract classes allow us to define a contract or interface that derived classes must follow, ensuring that all derived classes have the same methods in a consistent way."
   ]
  }
 ],
 "metadata": {
  "kernelspec": {
   "display_name": ".venv",
   "language": "python",
   "name": "python3"
  },
  "language_info": {
   "codemirror_mode": {
    "name": "ipython",
    "version": 3
   },
   "file_extension": ".py",
   "mimetype": "text/x-python",
   "name": "python",
   "nbconvert_exporter": "python",
   "pygments_lexer": "ipython3",
   "version": "3.12.4"
  }
 },
 "nbformat": 4,
 "nbformat_minor": 2
}
