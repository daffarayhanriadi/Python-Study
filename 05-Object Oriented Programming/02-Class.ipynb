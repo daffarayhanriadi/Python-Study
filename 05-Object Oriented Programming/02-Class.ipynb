{
 "cells": [
  {
   "cell_type": "markdown",
   "metadata": {},
   "source": [
    "# **Class**\n",
    "\n",
    "User defined objects are created using the <code>class</code> keyword. class as a template or a blueprint that defines what an object will look like when one is created. We create objects from a class.\n",
    "\n",
    "As an analogy, imagine if we started an on-demand cake-baking business. Being “on-demand,” we only create a cake when an order for one comes in. We specialize in Bundt cakes, and we’ve spent a lot of time developing the cake pan to make sure our cakes are not only tasty but also beautiful and consistent. \n",
    "\n",
    "The pan defines what a Bundt cake will look like when we create one, but it certainly is not a cake. The pan represents our class. When an order comes in, we create a Bundt cake from our pan. The cake is an object made using the cake pan.\n",
    "\n",
    "Using the pan, we can create any number of cakes. Our cakes could have different attributes, like different flavors, different types of frosting, and optional extras like chocolate chips, but all the cakes will come from the same cake pan.\n",
    "\n",
    "<table>\n",
    "<tr>\n",
    "    <th>Class</th>\n",
    "    <th>Object made from the class</th>\n",
    "</tr>\n",
    "\n",
    "<tr>\n",
    "    <td>Cake pan</td>\n",
    "    <td>Cake</td>\n",
    "</tr>\n",
    "<tr>\n",
    "    <td>Blueprint for a house</td>\n",
    "    <td>House</td>\n",
    "</tr>\n",
    "<tr>\n",
    "    <td>Sandwich listed on a menu</td>\n",
    "    <td>Sandwich in your hand</td>\n",
    "</tr>\n",
    "<tr>\n",
    "    <td>Die used to manufacture a 25-cent coin</td>\n",
    "    <td>A single quarter</td>\n",
    "</tr>\n",
    "<tr>\n",
    "    <td>Manuscript of a book written by an author</td>\n",
    "    <td>Physical or electronic copy of the book</td>\n",
    "</tr>\n",
    "</table>\n",
    "\n",
    "Let see how we can use <code>class</code>:"
   ]
  },
  {
   "cell_type": "code",
   "execution_count": 4,
   "metadata": {},
   "outputs": [],
   "source": [
    "# Create a new class type called Sample\n",
    "class LightSwitch:\n",
    "    pass"
   ]
  },
  {
   "cell_type": "markdown",
   "metadata": {},
   "source": [
    "To create a **LightSwitch object** from our **LightSwitch class**, we typically use a line like this:"
   ]
  },
  {
   "cell_type": "code",
   "execution_count": 5,
   "metadata": {},
   "outputs": [],
   "source": [
    "oLightSwitch = LightSwitch()"
   ]
  },
  {
   "cell_type": "markdown",
   "metadata": {},
   "source": [
    "This says: find the **LightSwitch class**, create a **LightSwitch object** from that class, and assign the resulting object to the variable `oSample`."
   ]
  },
  {
   "cell_type": "markdown",
   "metadata": {},
   "source": [
    "Another word that you’ll come across in OOP is `instance`. The words **instance** and **object** are essentially interchangeable; however, to be precise, **we would say that a LightSwitch object is an instance of the LightSwitch class**.\n",
    "\n",
    "`instantiation` -> The process of creating an object from a class.\n",
    "\n",
    "In the previous assignment statement, we went through the **instantiation** process to create a LightSwitch object from the LightSwitch class. We can also use this as a verb; **we instantiate a LightSwitch object from the LightSwitch class**.\n"
   ]
  },
  {
   "cell_type": "code",
   "execution_count": null,
   "metadata": {},
   "outputs": [],
   "source": [
    "print(type(oLightSwitch))"
   ]
  },
  {
   "cell_type": "markdown",
   "metadata": {},
   "source": [
    "You begin a class definition with a `class` statement specifying the name you want to give the class. The convention for class names is to use **PascalCase**, (for example, **LightSwitch**). Following the name you can **optionally add a set of parentheses**, but the statement must end with a colon to indicate that you’re about to begin the body of the class. \n",
    "\n",
    "```py\n",
    "class LightSwitch(): # Optional parentheses\n",
    "```\n",
    "\n",
    "Within the body of the class, you can define any number of functions. All the functions are considered part of the class, and the code that defines them must be indented. Each function represents some behavior that an object created from the class can perform. All functions must have at least one parameter, which by convention is named ***self***. OOP functions are given a special name: ***method***.\n",
    "\n",
    "Note how <code>oLightSwitch</code> is now the reference to our new instance of a LightSwitch class. In other words, we **instantiate** the LightSwitch class.\n",
    "\n",
    "Inside of the class we currently just have `pass`. But we can define class attributes and methods. \n",
    "* An **attribute** is a characteristic of an object. \n",
    "* A **method** is an operation we can perform with the object.\n",
    "\n",
    "For example, we can create a class called Dog. An attribute of a dog may be its breed or its name, while a method of a dog may be defined by a .bark() method which returns a sound.\n",
    "\n",
    "Let's get a better understanding of attributes through an example in the next lecture."
   ]
  }
 ],
 "metadata": {
  "kernelspec": {
   "display_name": ".venv",
   "language": "python",
   "name": "python3"
  },
  "language_info": {
   "codemirror_mode": {
    "name": "ipython",
    "version": 3
   },
   "file_extension": ".py",
   "mimetype": "text/x-python",
   "name": "python",
   "nbconvert_exporter": "python",
   "pygments_lexer": "ipython3",
   "version": "3.9.2"
  }
 },
 "nbformat": 4,
 "nbformat_minor": 2
}
