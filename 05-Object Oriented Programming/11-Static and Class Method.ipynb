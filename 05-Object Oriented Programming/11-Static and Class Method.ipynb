{
 "cells": [
  {
   "cell_type": "markdown",
   "metadata": {},
   "source": [
    "## **Static and Class Method**"
   ]
  },
  {
   "cell_type": "code",
   "execution_count": 1,
   "metadata": {},
   "outputs": [
    {
     "name": "stdout",
     "output_type": "stream",
     "text": [
      "3\n",
      "3\n",
      "3\n",
      "3\n",
      "3\n",
      "3\n"
     ]
    }
   ],
   "source": [
    "class Hero():\n",
    "    \n",
    "    __jumlah = 0\n",
    "    \n",
    "    def __init__(self, name):\n",
    "        self.name = name\n",
    "        Hero.__jumlah += 1\n",
    "        \n",
    "    # Method yang hanya berlaku untuk objek\n",
    "    def getJumlah(self):\n",
    "        return Hero.__jumlah\n",
    "    \n",
    "    # Method yang hanya berlaku untuk class\n",
    "    def getJumlah1():\n",
    "        return Hero.__jumlah\n",
    "    \n",
    "    # method static (decorator) nempel ke objek dan class\n",
    "    @staticmethod\n",
    "    def getJumlah2():\n",
    "        return Hero.__jumlah\n",
    "    \n",
    "    # Method class (decorator) nempel ke objek dan class serta lebih fleksibel daripada static\n",
    "    @classmethod\n",
    "    def getJumlah3(cls):\n",
    "        return cls.__jumlah\n",
    "    \n",
    "sniper = Hero(\"Sniper\")\n",
    "riki = Hero(\"Riki\")\n",
    "drow = Hero(\"Drow\")\n",
    "\n",
    "print(sniper.getJumlah())\n",
    "\n",
    "# print(Hero.getJumlah()) # Error\n",
    "# print(sniper.getJumlah1()) # Error\n",
    "\n",
    "print(Hero.getJumlah1())\n",
    "\n",
    "print(sniper.getJumlah2())\n",
    "print(Hero.getJumlah2())\n",
    "\n",
    "print(sniper.getJumlah3())\n",
    "print(Hero.getJumlah3())"
   ]
  }
 ],
 "metadata": {
  "kernelspec": {
   "display_name": ".venv",
   "language": "python",
   "name": "python3"
  },
  "language_info": {
   "codemirror_mode": {
    "name": "ipython",
    "version": 3
   },
   "file_extension": ".py",
   "mimetype": "text/x-python",
   "name": "python",
   "nbconvert_exporter": "python",
   "pygments_lexer": "ipython3",
   "version": "3.9.2"
  }
 },
 "nbformat": 4,
 "nbformat_minor": 2
}
