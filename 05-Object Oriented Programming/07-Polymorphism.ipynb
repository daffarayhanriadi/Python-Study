{
 "cells": [
  {
   "cell_type": "markdown",
   "metadata": {},
   "source": [
    "# **Polymorphism**\n",
    "\n",
    "**Polymorphism** is the capability of an action or method to do different things based on the object that it is acting upon. This is the third basic principle of object oriented programming. Overloading, overriding and dynamic method binding are three types of polymorphism.\n",
    "\n",
    "1. ***Overloaded methods*** are methods with the same name signature but either a different number of parameters or different types in the parameter list. For example 'spinning' a number may mean increase it, 'spinning' an image may mean rotate it by 90 degrees. By defining a method for handling each type of parameter you control the desired effect.\n",
    "\n",
    "2. ***Overridden methods*** are methods that are redefined within an inherited or subclass. They have the same signature and the subclass definition is used.\n",
    "\n",
    "3. ***Dynamic (or late) method binding*** is the ability of a program to resolve references to subclass methods at runtime. As an example assume that three subclasses (Cow, Dog and Snake) have been created based on the Animal abstract class, each having their own speak() method. Although each method reference is to an Animal (but no animal objects exist), the program is will resolve the correct method reference at runtime."
   ]
  },
  {
   "cell_type": "markdown",
   "metadata": {},
   "source": [
    "## **Overloaded methods**\n",
    "\n",
    "Method overloading is a concept where multiple methods within the same class have the same name but different parameters (either in number or type). Python does not support method overloading directly like some other languages (for example, Java or C++), but we can achieve it in different ways, such as using:\n",
    "1. default parameters, or\n",
    "2. args variables (*args), or\n",
    "3. by checking the type of the arguments within a method\n",
    "\n",
    "Example with default parameters and type checking:"
   ]
  },
  {
   "cell_type": "code",
   "execution_count": 1,
   "metadata": {},
   "outputs": [
    {
     "name": "stdout",
     "output_type": "stream",
     "text": [
      "11\n",
      "Rotating image.png by 90 degrees\n"
     ]
    }
   ],
   "source": [
    "class Spinner:\n",
    "    def spin(self, value=0):\n",
    "        if isinstance(value, int):\n",
    "            return self._spin_number(value)\n",
    "        elif isinstance(value, str):\n",
    "            return self._spin_image(value)\n",
    "        else:\n",
    "            return \"Invalid input\"\n",
    "        \n",
    "    def _spin_number(self, num):\n",
    "        return num + 1\n",
    "    \n",
    "    def _spin_image(self, img):\n",
    "        return f\"Rotating {img} by 90 degrees\"\n",
    "    \n",
    "spinner = Spinner()\n",
    "print(spinner.spin(10))\n",
    "print(spinner.spin(\"image.png\"))"
   ]
  },
  {
   "cell_type": "markdown",
   "metadata": {},
   "source": [
    "Example with *args and type checking:"
   ]
  },
  {
   "cell_type": "code",
   "execution_count": 2,
   "metadata": {},
   "outputs": [
    {
     "name": "stdout",
     "output_type": "stream",
     "text": [
      "11\n",
      "Rotating image.png by 90 degrees\n"
     ]
    }
   ],
   "source": [
    "class Spinner:\n",
    "    def spin(self, *args):\n",
    "        if len(args) == 1 and isinstance(args[0], int):\n",
    "            return self._spin_number(args[0])\n",
    "        elif len(args) == 1 and isinstance(args[0], str):\n",
    "            return self._spin_image(args[0])\n",
    "        else:\n",
    "            return \"Invalid input\"\n",
    "        \n",
    "    def _spin_number(self, num):\n",
    "        return num + 1\n",
    "    \n",
    "    def _spin_image(self, img):\n",
    "        return f\"Rotating {img} by 90 degrees\"\n",
    "    \n",
    "spinner = Spinner()\n",
    "print(spinner.spin(10))\n",
    "print(spinner.spin(\"image.png\"))"
   ]
  },
  {
   "cell_type": "markdown",
   "metadata": {},
   "source": [
    "## **Overridden methods**\n",
    "\n",
    "Method overriding is a concept where methods defined in a parent class are overridden by methods in a child class with the same name and same parameters."
   ]
  },
  {
   "cell_type": "code",
   "execution_count": 3,
   "metadata": {},
   "outputs": [
    {
     "name": "stdout",
     "output_type": "stream",
     "text": [
      "Niko says Woof!\n",
      "Felix says Meow!\n"
     ]
    }
   ],
   "source": [
    "class Dog:\n",
    "    def __init__(self, name):\n",
    "        self.name = name\n",
    "\n",
    "    def speak(self):\n",
    "        return self.name+' says Woof!'\n",
    "    \n",
    "class Cat:\n",
    "    def __init__(self, name):\n",
    "        self.name = name\n",
    "\n",
    "    def speak(self):\n",
    "        return self.name+' says Meow!' \n",
    "    \n",
    "niko = Dog('Niko')\n",
    "felix = Cat('Felix')\n",
    "\n",
    "print(niko.speak())\n",
    "print(felix.speak())"
   ]
  },
  {
   "cell_type": "markdown",
   "metadata": {},
   "source": [
    "Here we have a Dog class and a Cat class, and each has a `.speak()` method. When called, each object's `.speak()` method returns a result unique to the object.\n",
    "\n",
    "There a few different ways to demonstrate polymorphism. First, with a for loop:"
   ]
  },
  {
   "cell_type": "code",
   "execution_count": 4,
   "metadata": {},
   "outputs": [
    {
     "name": "stdout",
     "output_type": "stream",
     "text": [
      "Niko says Woof!\n",
      "Felix says Meow!\n"
     ]
    }
   ],
   "source": [
    "for pet in [niko,felix]:\n",
    "    print(pet.speak())"
   ]
  },
  {
   "cell_type": "markdown",
   "metadata": {},
   "source": [
    "Another is with functions:"
   ]
  },
  {
   "cell_type": "code",
   "execution_count": 5,
   "metadata": {},
   "outputs": [
    {
     "name": "stdout",
     "output_type": "stream",
     "text": [
      "Niko says Woof!\n",
      "Felix says Meow!\n"
     ]
    }
   ],
   "source": [
    "def pet_speak(pet):\n",
    "    print(pet.speak())\n",
    "\n",
    "pet_speak(niko)\n",
    "pet_speak(felix)"
   ]
  },
  {
   "cell_type": "markdown",
   "metadata": {},
   "source": [
    "In both cases we were able to pass in different object types, and we obtained object-specific results from the same mechanism.\n",
    "\n",
    "A more common practice is to use abstract classes and inheritance. An abstract class is one that never expects to be instantiated. For example, we will never have an Animal object, only Dog and Cat objects, although Dogs and Cats are derived from Animals:"
   ]
  },
  {
   "cell_type": "code",
   "execution_count": 6,
   "metadata": {},
   "outputs": [
    {
     "name": "stdout",
     "output_type": "stream",
     "text": [
      "Fido says Woof!\n",
      "Isis says Meow!\n"
     ]
    }
   ],
   "source": [
    "class Animal:\n",
    "    def __init__(self, name):    # Constructor of the class\n",
    "        self.name = name\n",
    "\n",
    "    def speak(self):              # Abstract method, defined by convention only\n",
    "        raise NotImplementedError(\"Subclass must implement abstract method\")\n",
    "\n",
    "\n",
    "class Dog(Animal):\n",
    "    \n",
    "    def speak(self):\n",
    "        return self.name+' says Woof!'\n",
    "    \n",
    "class Cat(Animal):\n",
    "\n",
    "    def speak(self):\n",
    "        return self.name+' says Meow!'\n",
    "    \n",
    "fido = Dog('Fido')\n",
    "isis = Cat('Isis')\n",
    "\n",
    "print(fido.speak())\n",
    "print(isis.speak())"
   ]
  },
  {
   "cell_type": "markdown",
   "metadata": {},
   "source": [
    "Real life examples of polymorphism include:\n",
    "* opening different file types - different tools are needed to display Word, pdf and Excel files\n",
    "* adding different objects - the `+` operator performs arithmetic and concatenation"
   ]
  },
  {
   "cell_type": "code",
   "execution_count": 7,
   "metadata": {},
   "outputs": [
    {
     "name": "stdout",
     "output_type": "stream",
     "text": [
      "showInfo di SubClass HeroIntelligence\n",
      "lina \n",
      "\ttype: intelligence \n",
      "\thealth: 100\n",
      "showInfo di Class Hero\n",
      "axe health : 200\n"
     ]
    }
   ],
   "source": [
    "class Hero:\n",
    "    def __init__(self, name, health):\n",
    "        self.name = name\n",
    "        self.health = health\n",
    "        \n",
    "    def showInfo(self):\n",
    "        print(\"showInfo di Class Hero\")\n",
    "        print(f\"{self.name} health : {self.health}\")\n",
    "    \n",
    "class HeroIntelligence(Hero):\n",
    "    def __init__(self, name):\n",
    "        super().__init__(name, 100)\n",
    "    \n",
    "    # Override showInfo Method\n",
    "    def showInfo(self):\n",
    "        print(\"showInfo di SubClass HeroIntelligence\")\n",
    "        print(f\"{self.name} \\n\\ttype: intelligence \\n\\thealth: {self.health}\")\n",
    "        \n",
    "class HeroStrength(Hero):\n",
    "    def __init__(self, name):\n",
    "        super().__init__(name, 200)\n",
    "        \n",
    "lina = HeroIntelligence(\"lina\")\n",
    "axe = HeroStrength(\"axe\")\n",
    "\n",
    "lina.showInfo()\n",
    "axe.showInfo()"
   ]
  },
  {
   "cell_type": "markdown",
   "metadata": {},
   "source": [
    "## **Dynamic Method Binding (Late Binding)**\n",
    "\n",
    "Dynamic method binding, or late binding, is the ability of a program to resolve references to subclass methods at runtime. Python naturally supports dynamic method binding."
   ]
  },
  {
   "cell_type": "code",
   "execution_count": 8,
   "metadata": {},
   "outputs": [
    {
     "name": "stdout",
     "output_type": "stream",
     "text": [
      "Moo!\n",
      "Woof!\n",
      "Hiss!\n"
     ]
    }
   ],
   "source": [
    "class Animal:\n",
    "    def speak(self):\n",
    "        raise NotImplementedError(\"Subclasses must implement this method\")\n",
    "    \n",
    "class Cow(Animal):\n",
    "    def speak(self):\n",
    "        return \"Moo!\"\n",
    "    \n",
    "class Dog(Animal):\n",
    "    def speak(self):\n",
    "        return \"Woof!\"\n",
    "    \n",
    "class Snake(Animal):\n",
    "    def speak(self):\n",
    "        return \"Hiss!\"\n",
    "    \n",
    "def make_animal_speak(animal: Animal):\n",
    "    print(animal.speak())\n",
    "    \n",
    "# Dynamic method binding on runtime\n",
    "animals = [Cow(), Dog(), Snake()]\n",
    "for animal in animals:\n",
    "    make_animal_speak(animal)"
   ]
  },
  {
   "cell_type": "markdown",
   "metadata": {},
   "source": [
    "In the example above, even though we only have a reference to the Animal object, at runtime Python decides which method to call based on the actual type of the object (Cow, Dog, or Snake).\n",
    "\n",
    "**Polymorphism** allows us to write more flexible and reusable code by allowing the same method to be used on different objects. \n",
    "1. **Overloading** lets us define multiple methods with the same name but different parameters. \n",
    "2. **Overriding** allows us to redefine methods in child classes. \n",
    "3. **Dynamic method binding** allows the program to resolve which method should be called at runtime."
   ]
  }
 ],
 "metadata": {
  "kernelspec": {
   "display_name": ".venv",
   "language": "python",
   "name": "python3"
  },
  "language_info": {
   "codemirror_mode": {
    "name": "ipython",
    "version": 3
   },
   "file_extension": ".py",
   "mimetype": "text/x-python",
   "name": "python",
   "nbconvert_exporter": "python",
   "pygments_lexer": "ipython3",
   "version": "3.12.4"
  }
 },
 "nbformat": 4,
 "nbformat_minor": 2
}
