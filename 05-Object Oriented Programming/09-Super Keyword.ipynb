{
 "cells": [
  {
   "cell_type": "markdown",
   "metadata": {},
   "source": [
    "# **Super Keyword**\n",
    "\n",
    "A programmer should avoid repetition in code generation.\n",
    "\n",
    "The use of **super()** is more flexible when the super class name is changed"
   ]
  },
  {
   "cell_type": "code",
   "execution_count": 2,
   "metadata": {},
   "outputs": [
    {
     "name": "stdout",
     "output_type": "stream",
     "text": [
      "lina dengan health 100\n",
      "axe dengan health 200\n",
      "100\n",
      "200\n"
     ]
    }
   ],
   "source": [
    "class Hero:\n",
    "    def __init__(self, name, health):\n",
    "        self.name = name\n",
    "        self.health = health\n",
    "        \n",
    "    def showInfo(self):\n",
    "        print(f\"{self.name} dengan health {self.health}\")\n",
    "        \n",
    "class HeroIntelligence(Hero):\n",
    "    def __init__(self, name):\n",
    "        super().__init__(name, 100)\n",
    "        super().showInfo()\n",
    "        ## Hero.__init__(self, name, 100)\n",
    "        # self.name = name\n",
    "        # self.health = 100\n",
    "\n",
    "class HeroStrength(Hero):\n",
    "    def __init__(self, name):\n",
    "        super().__init__(name, 200)\n",
    "        super().showInfo()\n",
    "        ## Hero.__init__(self, name, 200)\n",
    "        # self.name = name\n",
    "        # self.health = 200\n",
    "        \n",
    "lina = HeroIntelligence(\"lina\")\n",
    "axe = HeroStrength(\"axe\")\n",
    "\n",
    "print(lina.health)\n",
    "print(axe.health)"
   ]
  }
 ],
 "metadata": {
  "kernelspec": {
   "display_name": ".venv",
   "language": "python",
   "name": "python3"
  },
  "language_info": {
   "codemirror_mode": {
    "name": "ipython",
    "version": 3
   },
   "file_extension": ".py",
   "mimetype": "text/x-python",
   "name": "python",
   "nbconvert_exporter": "python",
   "pygments_lexer": "ipython3",
   "version": "3.12.4"
  }
 },
 "nbformat": 4,
 "nbformat_minor": 2
}
