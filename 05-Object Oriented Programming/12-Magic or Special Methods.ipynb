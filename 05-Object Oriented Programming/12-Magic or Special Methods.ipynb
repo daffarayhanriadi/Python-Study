{
 "cells": [
  {
   "cell_type": "markdown",
   "metadata": {},
   "source": [
    "# **Magic/Special Methods**\n",
    "Finally let's go over special methods. Classes in Python can implement certain operations with special method names. These methods are not actually called directly but by Python specific language syntax. For example let's create a Book class:"
   ]
  },
  {
   "cell_type": "code",
   "execution_count": 2,
   "metadata": {},
   "outputs": [],
   "source": [
    "class Book:\n",
    "    def __init__(self, title, author, pages):\n",
    "        print(\"A book is created\")\n",
    "        self.title = title\n",
    "        self.author = author\n",
    "        self.pages = pages\n",
    "\n",
    "    def __str__(self):\n",
    "        return \"Title: %s, author: %s, pages: %s\" %(self.title, self.author, self.pages)\n",
    "\n",
    "    def __len__(self):\n",
    "        return self.pages\n",
    "\n",
    "    def __del__(self):\n",
    "        print(\"A book is destroyed\")"
   ]
  },
  {
   "cell_type": "code",
   "execution_count": 3,
   "metadata": {},
   "outputs": [
    {
     "name": "stdout",
     "output_type": "stream",
     "text": [
      "A book is created\n",
      "Title: Python Rocks!, author: Jose Portilla, pages: 159\n",
      "159\n",
      "A book is destroyed\n"
     ]
    }
   ],
   "source": [
    "book = Book(\"Python Rocks!\", \"Jose Portilla\", 159)\n",
    "\n",
    "#Special Methods\n",
    "print(book)\n",
    "print(len(book))\n",
    "del book"
   ]
  },
  {
   "cell_type": "code",
   "execution_count": 4,
   "metadata": {},
   "outputs": [
    {
     "name": "stdout",
     "output_type": "stream",
     "text": [
      "Mango: arumanis with quantity: 10\n",
      "Mango: siasem with quantity: 5\n",
      "15\n",
      "This object has a name and amount\n"
     ]
    }
   ],
   "source": [
    "class Mango:\n",
    "    \n",
    "    # Magic/Special Method\n",
    "    def __init__(self, name, amount):\n",
    "        self.name = name\n",
    "        self.amount = amount\n",
    "        \n",
    "    def __repr__(self): # Usually used when debugging\n",
    "        return \"Debug - Mango: {} with quantity: {}\".format(self.name, self.amount)\n",
    "    \n",
    "    def __str__(self): # Usually used when already in production\n",
    "        return \"Mango: {} with quantity: {}\".format(self.name, self.amount)\n",
    "    \n",
    "    def __add__(self, obj): # Useful when you want to perform operation\n",
    "        return self.amount + obj.amount\n",
    "    \n",
    "    @property\n",
    "    def __dict__(self): # Can be override\n",
    "        return \"This object has a name and amount\"\n",
    "    \n",
    "shop1 = Mango(\"arumanis\", 10)\n",
    "shop2 = Mango(\"siasem\", 5)\n",
    "print(shop1)\n",
    "print(shop2)\n",
    "print(shop1 + shop2)\n",
    "print(shop1.__dict__)"
   ]
  },
  {
   "cell_type": "markdown",
   "metadata": {},
   "source": [
    "`The __init__(), __str__(), __len__() and __del__() methods`\n",
    "\n",
    "These special methods are defined by their use of underscores. They allow us to use Python specific functions on objects created through our class."
   ]
  }
 ],
 "metadata": {
  "kernelspec": {
   "display_name": ".venv",
   "language": "python",
   "name": "python3"
  },
  "language_info": {
   "codemirror_mode": {
    "name": "ipython",
    "version": 3
   },
   "file_extension": ".py",
   "mimetype": "text/x-python",
   "name": "python",
   "nbconvert_exporter": "python",
   "pygments_lexer": "ipython3",
   "version": "3.9.2"
  }
 },
 "nbformat": 4,
 "nbformat_minor": 2
}
