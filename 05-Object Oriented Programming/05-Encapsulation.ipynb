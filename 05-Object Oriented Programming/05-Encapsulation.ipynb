{
 "cells": [
  {
   "cell_type": "markdown",
   "metadata": {},
   "source": [
    "# **Encapsulation**\n",
    "\n",
    "**Encapsulation** is a concept in object-oriented programming (OOP) that **organizes access to data by hiding internal implementation details and exposing only what is needed through a public interface**. In Python, encapsulation is achieved using private attributes and methods.\n",
    "\n",
    "\n",
    "\n",
    "**Public, Private, and Protected Attributes :**\n",
    "1. **Public Attributes**: Accessible from anywhere.\n",
    "2. **Protected Attributes**: Marked with **an underscore** (`_`) and should not be accessed directly from outside the class.\n",
    "3. **Private Attributes**: Marked with **two underscores** (`__`) and completely hidden from outside access.\n",
    "\n",
    "A simple example of each attribute:"
   ]
  },
  {
   "cell_type": "code",
   "execution_count": 1,
   "metadata": {},
   "outputs": [
    {
     "name": "stdout",
     "output_type": "stream",
     "text": [
      "I am public\n",
      "I am protected\n",
      "I am private\n"
     ]
    }
   ],
   "source": [
    "class MyClass:\n",
    "    def __init__(self):\n",
    "        self.public = \"I am public\"\n",
    "        self._protected = \"I am protected\"\n",
    "        self.__private = \"I am private\"\n",
    "        \n",
    "    def get_private(self):\n",
    "        return self.__private\n",
    "        \n",
    "# Create an object/instance of the class\n",
    "obj = MyClass()\n",
    "\n",
    "# Access the public attribute\n",
    "print(obj.public)\n",
    "\n",
    "# Access the protected attribute (best avoided)\n",
    "print(obj._protected)\n",
    "\n",
    "# Access the private attribute (can't be accessed directly)\n",
    "# print(obj.__private) # Attribute Error\n",
    "\n",
    "# Access the private attribute through the method\n",
    "print(obj.get_private())"
   ]
  },
  {
   "cell_type": "markdown",
   "metadata": {},
   "source": [
    "## **Get and Set Methods**\n",
    "\n",
    "To access and modify private attributes, we use the get and set methods."
   ]
  },
  {
   "cell_type": "code",
   "execution_count": 2,
   "metadata": {},
   "outputs": [
    {
     "name": "stdout",
     "output_type": "stream",
     "text": [
      "Initial value\n",
      "New value\n"
     ]
    }
   ],
   "source": [
    "class MyClass:\n",
    "    def __init__(self, value):\n",
    "        self.__private = value\n",
    "        \n",
    "    def get_private(self):\n",
    "        return self.__private\n",
    "    \n",
    "    def set_private(self, value):\n",
    "        self.__private = value\n",
    "        \n",
    "# Create an object\n",
    "obj = MyClass(\"Initial value\")\n",
    "\n",
    "# Access the private value using get method\n",
    "print(obj.get_private())\n",
    "\n",
    "# Change the private value using set method\n",
    "obj.set_private(\"New value\")\n",
    "print(obj.get_private())"
   ]
  },
  {
   "cell_type": "markdown",
   "metadata": {},
   "source": [
    "Other example:"
   ]
  },
  {
   "cell_type": "code",
   "execution_count": 8,
   "metadata": {},
   "outputs": [
    {
     "name": "stdout",
     "output_type": "stream",
     "text": [
      "earthshaker\n",
      "50\n",
      "45\n"
     ]
    }
   ],
   "source": [
    "class Hero:\n",
    "    def __init__(self, name, health, attPower):\n",
    "        self.__name = name\n",
    "        self.__health = health\n",
    "        self.__attPower = attPower\n",
    "    \n",
    "    # Getter\n",
    "    def get_name(self):\n",
    "        return self.__name\n",
    "    \n",
    "    def get_health(self):\n",
    "        return self.__health\n",
    "    \n",
    "    # Setter\n",
    "    def diserang(self, serangPower):\n",
    "        self.__health -= serangPower\n",
    "        \n",
    "    def set_attPower(self, nilai_baru):\n",
    "        self.__attPower = nilai_baru\n",
    "        \n",
    "# The start of the game\n",
    "earthshaker = Hero(\"earthshaker\", 50, 5)\n",
    "\n",
    "# Running game\n",
    "print(earthshaker.get_name())\n",
    "print(earthshaker.get_health())\n",
    "earthshaker.diserang(5)\n",
    "print(earthshaker.get_health())"
   ]
  },
  {
   "cell_type": "markdown",
   "metadata": {},
   "source": [
    "## **Property in Python**\n",
    "\n",
    "Python provides a more elegant way to work with private attributes using the `@property` decorator. **This allows us to define methods that act as both getters and setters**."
   ]
  },
  {
   "cell_type": "code",
   "execution_count": 3,
   "metadata": {},
   "outputs": [
    {
     "name": "stdout",
     "output_type": "stream",
     "text": [
      "Initial value\n",
      "New value\n"
     ]
    }
   ],
   "source": [
    "class MyClass:\n",
    "    def __init__(self, value):\n",
    "        self.__private = value\n",
    "    \n",
    "    # Getter\n",
    "    # @property\n",
    "    # def private(self):\n",
    "    #     return self.__private\n",
    "    \n",
    "    # Alternative Getter\n",
    "    @property\n",
    "    def private(self):\n",
    "        pass\n",
    "    \n",
    "    @private.getter\n",
    "    def private(self):\n",
    "        return self.__private\n",
    "    \n",
    "    @private.setter\n",
    "    def private(self, value):\n",
    "        self.__private = value\n",
    "        \n",
    "# Create an object\n",
    "obj = MyClass(\"Initial value\")\n",
    "\n",
    "# Access the private value using property / private.getter\n",
    "print(obj.private)\n",
    "\n",
    "# Change the private value using property / private.setter\n",
    "obj.private = \"New value\"\n",
    "print(obj.private)"
   ]
  },
  {
   "cell_type": "markdown",
   "metadata": {},
   "source": [
    "Other Example:"
   ]
  },
  {
   "cell_type": "code",
   "execution_count": 4,
   "metadata": {},
   "outputs": [
    {
     "name": "stdout",
     "output_type": "stream",
     "text": [
      "name Sniper : \n",
      "\thealth: 100\n",
      "\n",
      "getter dan setter for __armor:\n",
      "10\n",
      "{'_Hero__name': 'Sniper', '_Hero__health': 100, '_Hero__armor': 10}\n",
      "50\n",
      "\n",
      "delete armor\n",
      "armor di delete\n",
      "{'_Hero__name': 'Sniper', '_Hero__health': 100, '_Hero__armor': None}\n",
      "\n",
      "Traditional Getter\n",
      "100\n",
      "\n",
      "Modern Getter\n",
      "100\n"
     ]
    }
   ],
   "source": [
    "class Hero():\n",
    "    def __init__(self, name, health, armor):\n",
    "        self.__name = name\n",
    "        self.__health = health\n",
    "        self.__armor = armor\n",
    "        # self.info = f\"name {self.name} : \\n\\thealth: {self.__health}\" # this only updates 1x at the beginning of use __init__\n",
    "\n",
    "    @property\n",
    "    def info(self):\n",
    "        return f\"name {self.__name} : \\n\\thealth: {self.__health}\"\n",
    "    \n",
    "    @property\n",
    "    def health(self):\n",
    "        pass\n",
    "    \n",
    "    @property # @property is used when you want to define Getter and Setter methods\n",
    "    def armor(self):\n",
    "        pass\n",
    "    \n",
    "    # getter\n",
    "    @armor.getter\n",
    "    def armor(self):\n",
    "        return self.__armor\n",
    "    \n",
    "    # setter\n",
    "    @armor.setter\n",
    "    def armor(self, input):\n",
    "        self.__armor = input\n",
    "    \n",
    "    # deleter\n",
    "    @armor.deleter\n",
    "    def armor(self):\n",
    "        print(\"armor di delete\")\n",
    "        self.__armor = None\n",
    "    \n",
    "    @health.getter\n",
    "    def health(self):\n",
    "        return self.__health\n",
    "    \n",
    "    # Traditional Getter (still looks like a method when called)\n",
    "    def get_health(self):\n",
    "        return self.__health\n",
    "\n",
    "sniper = Hero(\"Sniper\", 100, 10)\n",
    "print(sniper.info)\n",
    "# sniper.name = \"Ucup\"\n",
    "# print(sniper.info)\n",
    "\n",
    "print(\"\\ngetter dan setter for __armor:\")\n",
    "print(sniper.armor) # Displayed using modern GETTER\n",
    "print(sniper.__dict__)\n",
    "sniper.armor = 50 # Changed the value using modern SETTER\n",
    "print(sniper.armor)\n",
    "\n",
    "print(\"\\ndelete armor\")\n",
    "del sniper.armor\n",
    "print(sniper.__dict__)\n",
    "\n",
    "# Getter the traditional way\n",
    "print(\"\\nTraditional Getter\")\n",
    "print(sniper.get_health())\n",
    "\n",
    "# Getter with the latest way\n",
    "print(\"\\nModern Getter\")\n",
    "print(sniper.health)"
   ]
  },
  {
   "cell_type": "markdown",
   "metadata": {},
   "source": [
    "## **Case Example: Bank Account System**\n",
    "Let's look at a more complex example: a bank account system with encapsulation."
   ]
  },
  {
   "cell_type": "code",
   "execution_count": 6,
   "metadata": {},
   "outputs": [
    {
     "name": "stdout",
     "output_type": "stream",
     "text": [
      "Daffa\n",
      "1000\n",
      "Deposit 500. New balance is 1500.\n",
      "Withdrew 200. New balance is 1300.\n"
     ]
    }
   ],
   "source": [
    "class BankAccount:\n",
    "    def __init__(self, owner, balance=0):\n",
    "        self.__owner = owner\n",
    "        self.__balance = balance\n",
    "        \n",
    "    @property\n",
    "    def owner(self):\n",
    "        return self.__owner\n",
    "    \n",
    "    @property\n",
    "    def balance(self):\n",
    "        return self.__balance\n",
    "    \n",
    "    def deposit(self, amount):\n",
    "        if amount > 0:\n",
    "            self.__balance += amount\n",
    "            print(f\"Deposit {amount}. New balance is {self.__balance}.\")\n",
    "        else:\n",
    "            print(\"Invalid deposit amount.\")\n",
    "            \n",
    "    def withdraw(self, amount):\n",
    "        if 0 < amount <= self.__balance:\n",
    "            self.__balance -= amount\n",
    "            print(f\"Withdrew {amount}. New balance is {self.__balance}.\")\n",
    "        else:\n",
    "            print(\"Invalid withdrawal amount or insufficient funds.\")\n",
    "            \n",
    "# Create an object of BankAccount\n",
    "account = BankAccount(\"Daffa\", 1000)\n",
    "\n",
    "# Access the account information using property\n",
    "print(account.owner)\n",
    "print(account.balance)\n",
    "\n",
    "# Make deposits and withdrawals\n",
    "account.deposit(500)\n",
    "account.withdraw(200)"
   ]
  },
  {
   "cell_type": "code",
   "execution_count": 7,
   "metadata": {},
   "outputs": [
    {
     "ename": "AttributeError",
     "evalue": "'BankAccount' object has no attribute '__balance'",
     "output_type": "error",
     "traceback": [
      "\u001b[1;31m---------------------------------------------------------------------------\u001b[0m",
      "\u001b[1;31mAttributeError\u001b[0m                            Traceback (most recent call last)",
      "Cell \u001b[1;32mIn[7], line 2\u001b[0m\n\u001b[0;32m      1\u001b[0m \u001b[38;5;66;03m# Direct access to private attributes will result in an error\u001b[39;00m\n\u001b[1;32m----> 2\u001b[0m \u001b[38;5;28mprint\u001b[39m(\u001b[43maccount\u001b[49m\u001b[38;5;241;43m.\u001b[39;49m\u001b[43m__balance\u001b[49m) \u001b[38;5;66;03m# AttributeError\u001b[39;00m\n",
      "\u001b[1;31mAttributeError\u001b[0m: 'BankAccount' object has no attribute '__balance'"
     ]
    }
   ],
   "source": [
    "# Direct access to private attributes will result in an error\n",
    "print(account.__balance) # AttributeError"
   ]
  },
  {
   "cell_type": "markdown",
   "metadata": {},
   "source": [
    "By using encapsulation, we can control how the __balance attribute is accessed and modified, ensuring that only deposit and withdrawal methods can change the value in a controlled manner.\n",
    "\n",
    "**Benefits of Encapsulation**\n",
    "\n",
    "1. **Access Control:** Encapsulation ensures that sensitive data is not accidentally accessed or altered.\n",
    "2. **Modularity:** Helps in separating and organizing code making it easier to understand and maintain.\n",
    "3. **Abstraction:** Hides implementation details from the user and shows only the necessary interfaces."
   ]
  }
 ],
 "metadata": {
  "kernelspec": {
   "display_name": ".venv",
   "language": "python",
   "name": "python3"
  },
  "language_info": {
   "codemirror_mode": {
    "name": "ipython",
    "version": 3
   },
   "file_extension": ".py",
   "mimetype": "text/x-python",
   "name": "python",
   "nbconvert_exporter": "python",
   "pygments_lexer": "ipython3",
   "version": "3.12.4"
  }
 },
 "nbformat": 4,
 "nbformat_minor": 2
}
