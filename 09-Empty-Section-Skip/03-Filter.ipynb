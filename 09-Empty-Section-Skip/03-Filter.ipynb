{
 "cells": [
  {
   "cell_type": "markdown",
   "metadata": {},
   "source": [
    "# **filter()**\n",
    "\n",
    "**Table of Contents :**\n",
    "1. `How filter() works`\n",
    "2. `Basic Usage of filter()`\n",
    "3. `Using Anonymous Function (lambda) with filter()`\n",
    "4. `Using None with filter()`\n",
    "5. `The difference between filter() and list comprehension`\n",
    "6. `Pros and Cons of filter()`\n",
    "7. `Conclusion`\n",
    "\n",
    "`filter()` is a built-in function in Python that is used to filter elements in an iterable (such as a list, tuple, or string) based on a specific function that returns True or False. This function is very useful when we want to filter the elements in an iterable according to certain criteria.\n",
    "\n",
    "The function `filter()` offers a convenient way to filter out all the elements of an iterable, for which the function returns True. \n",
    "\n",
    "**The basic syntax of the `filter()` function is as follows:**\n",
    "```py\n",
    "filter(function, iterables)\n",
    "```\n",
    "* **function:** A function used to test each element in the iterable. **This function must return a True or False value**.\n",
    "* **iterable:** The object to be iterated and filtered (such as a list, tuple, set, etc).\n",
    "\n",
    "Like `map()`, `filter()` returns an ***iterator*** - that is, filter yields one result at a time as needed. Iterators and generators will be covered in an upcoming lecture. For now, since our examples are so small, we will cast `filter()` as a list to see our results immediately."
   ]
  },
  {
   "cell_type": "markdown",
   "metadata": {},
   "source": [
    "## **How filter() works**\n",
    "The `filter()` function applies a function to each element in the iterable. If the function returns True, the element will be included in the result, otherwise, the element will be discarded."
   ]
  },
  {
   "cell_type": "markdown",
   "metadata": {},
   "source": [
    "## **Basic Usage of filter()**\n",
    "\n",
    "Suppose we want to filter out even numbers from a list:"
   ]
  },
  {
   "cell_type": "code",
   "execution_count": 6,
   "metadata": {
    "collapsed": true
   },
   "outputs": [],
   "source": [
    "#First let's make a function\n",
    "def even_check(num):\n",
    "    if num % 2 == 0:\n",
    "        return True"
   ]
  },
  {
   "cell_type": "markdown",
   "metadata": {},
   "source": [
    "Now let's filter a list of numbers. Note: putting the function into filter without any parentheses might feel strange, but keep in mind that functions are objects as well."
   ]
  },
  {
   "cell_type": "code",
   "execution_count": 7,
   "metadata": {},
   "outputs": [
    {
     "data": {
      "text/plain": [
       "[0, 2, 4, 6, 8, 10, 12, 14, 16, 18]"
      ]
     },
     "execution_count": 7,
     "metadata": {},
     "output_type": "execute_result"
    }
   ],
   "source": [
    "lst = range(20)\n",
    "\n",
    "list(filter(even_check, lst))"
   ]
  },
  {
   "cell_type": "markdown",
   "metadata": {},
   "source": [
    "## **Using Anonymous Function (lambda) with filter()**"
   ]
  },
  {
   "cell_type": "markdown",
   "metadata": {},
   "source": [
    "filter() is more commonly used with lambda functions, because we usually use filter for a quick job where we don't want to write an entire function. Let's repeat the example above using a lambda expression:"
   ]
  },
  {
   "cell_type": "code",
   "execution_count": 8,
   "metadata": {},
   "outputs": [
    {
     "data": {
      "text/plain": [
       "[0, 2, 4, 6, 8, 10, 12, 14, 16, 18]"
      ]
     },
     "execution_count": 8,
     "metadata": {},
     "output_type": "execute_result"
    }
   ],
   "source": [
    "list(filter(lambda x: x % 2 == 0,lst))"
   ]
  },
  {
   "cell_type": "markdown",
   "metadata": {},
   "source": [
    "## **Using None with filter()**\n",
    "\n",
    "If None is used as the first argument of `filter()`, then this function will filter all elements that are considered False in a boolean context (such as 0, False, None, [], '', etc)."
   ]
  },
  {
   "cell_type": "code",
   "execution_count": 9,
   "metadata": {},
   "outputs": [
    {
     "name": "stdout",
     "output_type": "stream",
     "text": [
      "[1, True, [1, 2, 3], 'Python']\n"
     ]
    }
   ],
   "source": [
    "mixed_list = [0, 1, False, True, [], [1,2,3], \"\", \"Python\", None]\n",
    "print(list(filter(None, mixed_list)))"
   ]
  },
  {
   "cell_type": "markdown",
   "metadata": {},
   "source": [
    "**Explanation:**\n",
    "\n",
    "* All elements that are boolean considered False (such as 0, False, None, etc.) will be removed from the result."
   ]
  },
  {
   "cell_type": "markdown",
   "metadata": {},
   "source": [
    "## **The difference between filter() and list comprehension**\n",
    "While `filter()` is very useful, Python also has a similar feature called list comprehension which is often easier to read:"
   ]
  },
  {
   "cell_type": "code",
   "execution_count": 10,
   "metadata": {},
   "outputs": [
    {
     "name": "stdout",
     "output_type": "stream",
     "text": [
      "[0, 2, 4, 6, 8, 10, 12, 14, 16, 18]\n"
     ]
    }
   ],
   "source": [
    "# even numbers\n",
    "print([x for x in lst if x % 2 == 0])"
   ]
  },
  {
   "cell_type": "markdown",
   "metadata": {},
   "source": [
    "The result of list comprehension above is the same as the previous use of filter(), but list comprehension is often easier to understand and use in Python code."
   ]
  },
  {
   "cell_type": "markdown",
   "metadata": {},
   "source": [
    "## **Pros and Cons of filter()**\n",
    "**Pros:**\n",
    "* `filter()` can be used with various types of iterables (list, tuple, set).\n",
    "* Can be used with more complex functions.\n",
    "* The use of `filter()` can be more efficient and \"lazy\", meaning elements will only be generated when needed.\n",
    "\n",
    "**Disadvantages:**\n",
    "* `filter()` generates a filter object, so it needs to be converted to a list or other iterable type for general use.\n",
    "* **For simple filters, list comprehension is more readable.**"
   ]
  },
  {
   "cell_type": "markdown",
   "metadata": {},
   "source": [
    "## **Conclusion**\n",
    "\n",
    "The `filter()` function is a powerful tool for filtering elements of an iterable based on certain criteria. It is especially useful in situations where you want to extract elements from an iterable that meet certain conditions. However, depending on the need, list comprehension can also be a simpler and more readable alternative."
   ]
  },
  {
   "cell_type": "markdown",
   "metadata": {},
   "source": [
    "Great! You should now have a solid understanding of `filter()` and how to apply it to your code!"
   ]
  }
 ],
 "metadata": {
  "kernelspec": {
   "display_name": "Python 3",
   "language": "python",
   "name": "python3"
  },
  "language_info": {
   "codemirror_mode": {
    "name": "ipython",
    "version": 3
   },
   "file_extension": ".py",
   "mimetype": "text/x-python",
   "name": "python",
   "nbconvert_exporter": "python",
   "pygments_lexer": "ipython3",
   "version": "3.12.4"
  }
 },
 "nbformat": 4,
 "nbformat_minor": 1
}
