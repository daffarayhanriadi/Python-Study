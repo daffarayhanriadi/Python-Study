{
 "cells": [
  {
   "cell_type": "markdown",
   "metadata": {},
   "source": [
    "# **enumerate()**\n",
    "\n",
    "**Table of Contents :**\n",
    "1. `How enumerate() works`\n",
    "2. `Usage Basic Example`\n",
    "3. `Changing the Index Start Value`\n",
    "4. `Using enumerate() to Create a List or Dictionary`\n",
    "5. `enumerate() vs range()`\n",
    "6. `When to Use enumerate()`\n",
    "7. `Conclusion`\n",
    "\n",
    "The `enumerate()` function in Python is one of the most useful built-in functions, especially when you need to **access elements in an iterable and also need the index of those elements at the same time**. This function will return an enumerate object, which returns an **(`index`, `value`)** pair for each element in the iterable. \n",
    "\n",
    "**The basic syntax of the `enumerate()` function is as follows:**\n",
    "```py\n",
    "enumerate(iterable, start=0)\n",
    "```\n",
    "* **iterable**: This is an object that can be iterated over (such as a list, tuple, string, etc.).\n",
    "* **start (*optional*)**: This is the start value of the index to use. The default is 0.\n",
    "\n",
    "The function itself is equivalent to:\n",
    "```py\n",
    "def enumerate(sequence, start=0):\n",
    "    n = start\n",
    "    for elem in sequence:\n",
    "        yield n, elem\n",
    "        n += 1\n",
    "```"
   ]
  },
  {
   "cell_type": "markdown",
   "metadata": {},
   "source": [
    "## **How enumerate() works**\n",
    "When you apply `enumerate()` to an iterable, it will return an iterable enumerate object. When you iterate over this object, you will get a **tuple** consisting of two elements: the element **index** and the **element** itself."
   ]
  },
  {
   "cell_type": "markdown",
   "metadata": {},
   "source": [
    "## **Usage Basic Example**"
   ]
  },
  {
   "cell_type": "code",
   "execution_count": 1,
   "metadata": {},
   "outputs": [
    {
     "name": "stdout",
     "output_type": "stream",
     "text": [
      "0\n",
      "a\n",
      "1\n",
      "b\n",
      "2\n",
      "c\n"
     ]
    }
   ],
   "source": [
    "lst = ['a','b','c']\n",
    "\n",
    "for number, item in enumerate(lst):\n",
    "    print(number)\n",
    "    print(item)"
   ]
  },
  {
   "cell_type": "code",
   "execution_count": 1,
   "metadata": {},
   "outputs": [
    {
     "name": "stdout",
     "output_type": "stream",
     "text": [
      "0 apple\n",
      "1 banana\n",
      "2 cherry\n"
     ]
    }
   ],
   "source": [
    "fruits = ['apple', 'banana', 'cherry']\n",
    "for index, fruit in enumerate(fruits):\n",
    "    print(index, fruit)"
   ]
  },
  {
   "cell_type": "markdown",
   "metadata": {},
   "source": [
    "Here, `enumerate()` iterates through the fruits list and returns a tuple (index, value) for each element.\n",
    "\n",
    "`enumerate()` becomes particularly useful when you have a case where you need to have some sort of tracker. For example:"
   ]
  },
  {
   "cell_type": "code",
   "execution_count": 2,
   "metadata": {},
   "outputs": [
    {
     "name": "stdout",
     "output_type": "stream",
     "text": [
      "a\n",
      "b\n"
     ]
    }
   ],
   "source": [
    "for count,item in enumerate(lst):\n",
    "    if count >= 2:\n",
    "        break\n",
    "    else:\n",
    "        print(item)"
   ]
  },
  {
   "cell_type": "markdown",
   "metadata": {},
   "source": [
    "## **Changing the Index Start Value**\n",
    "\n",
    "We can also change the initial value of the `enumerate()` index by using the \"**start**\" parameter to override the default value of zero."
   ]
  },
  {
   "cell_type": "code",
   "execution_count": 2,
   "metadata": {},
   "outputs": [
    {
     "name": "stdout",
     "output_type": "stream",
     "text": [
      "1 apple\n",
      "2 banana\n",
      "3 cherry\n"
     ]
    }
   ],
   "source": [
    "for index, fruit in enumerate(fruits, start=1):\n",
    "    print(index, fruit)"
   ]
  },
  {
   "cell_type": "markdown",
   "metadata": {},
   "source": [
    "In this example, the index starts from 1 instead of 0."
   ]
  },
  {
   "cell_type": "markdown",
   "metadata": {},
   "source": [
    "## **Using enumerate() to Create a List or Dictionary**\n",
    "\n",
    "The result of `enumerate()` can be used to create other data structures, such as a list or dictionary.\n",
    "\n",
    "**List**"
   ]
  },
  {
   "cell_type": "code",
   "execution_count": 4,
   "metadata": {},
   "outputs": [
    {
     "data": {
      "text/plain": [
       "[(3, 'apple'), (4, 'banana'), (5, 'cherry')]"
      ]
     },
     "execution_count": 4,
     "metadata": {},
     "output_type": "execute_result"
    }
   ],
   "source": [
    "list(enumerate(fruits,start=3))"
   ]
  },
  {
   "cell_type": "markdown",
   "metadata": {},
   "source": [
    "**Dictionary**"
   ]
  },
  {
   "cell_type": "code",
   "execution_count": 5,
   "metadata": {},
   "outputs": [
    {
     "data": {
      "text/plain": [
       "{1: 'apple', 2: 'banana', 3: 'cherry'}"
      ]
     },
     "execution_count": 5,
     "metadata": {},
     "output_type": "execute_result"
    }
   ],
   "source": [
    "dict(enumerate(fruits,start=1))"
   ]
  },
  {
   "cell_type": "markdown",
   "metadata": {},
   "source": [
    "## **enumerate() vs range()**\n",
    "`enumerate()` differs from `range()` in that `enumerate()` gives direct access to the elements in the iterable along with their indices, while `range()` only returns a string of numbers that can be used as indices.\n",
    "\n",
    "**Example comparison:**"
   ]
  },
  {
   "cell_type": "code",
   "execution_count": 9,
   "metadata": {},
   "outputs": [
    {
     "name": "stdout",
     "output_type": "stream",
     "text": [
      "With enumerate()\n",
      "0 apple\n",
      "1 banana\n",
      "2 cherry\n",
      "\n",
      "With range()\n",
      "0 apple\n",
      "1 banana\n",
      "2 cherry\n"
     ]
    }
   ],
   "source": [
    "# With enumerate()\n",
    "print(\"With enumerate()\")\n",
    "for i, fruit in enumerate(fruits):\n",
    "    print(i, fruit)\n",
    "    \n",
    "# With range()\n",
    "print(\"\\nWith range()\")\n",
    "for i in range(len(fruits)):\n",
    "    print(i, fruits[i])"
   ]
  },
  {
   "cell_type": "markdown",
   "metadata": {},
   "source": [
    "Both approaches produce the same output, but `enumerate()` is cleaner and more Pythonic as it is more explicit and readable."
   ]
  },
  {
   "cell_type": "markdown",
   "metadata": {},
   "source": [
    "## **When to Use enumerate()**\n",
    "1. **Simultaneous Access of Index and Element**: Use `enumerate()` when you need to access the index of an element in an iterable as well as the value of that element.\n",
    "2. **Looping Through a List and Modifying Elements**: If you need to modify elements based on their position in the list.\n",
    "3. **Creating Data Structures with Indexes as Keys**: When you want to turn an iterable into a dictionary where the index is the key."
   ]
  },
  {
   "cell_type": "markdown",
   "metadata": {},
   "source": [
    "## **Conclusion**\n",
    "The `enumerate()` function is very useful when you need an element index when iterating over an iterable. With the ability to specify the starting point of the index, `enumerate()` provides additional flexibility and is one of the Python features that clarifies and beautifies your code."
   ]
  },
  {
   "cell_type": "markdown",
   "metadata": {},
   "source": [
    "Great! You should now have a good understanding of enumerate and its potential use cases."
   ]
  }
 ],
 "metadata": {
  "kernelspec": {
   "display_name": "Python 3",
   "language": "python",
   "name": "python3"
  },
  "language_info": {
   "codemirror_mode": {
    "name": "ipython",
    "version": 3
   },
   "file_extension": ".py",
   "mimetype": "text/x-python",
   "name": "python",
   "nbconvert_exporter": "python",
   "pygments_lexer": "ipython3",
   "version": "3.12.4"
  }
 },
 "nbformat": 4,
 "nbformat_minor": 1
}
