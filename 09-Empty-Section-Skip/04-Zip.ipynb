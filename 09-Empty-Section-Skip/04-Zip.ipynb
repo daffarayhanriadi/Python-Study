{
 "cells": [
  {
   "cell_type": "markdown",
   "metadata": {},
   "source": [
    "# **zip**\n",
    "\n",
    "**Table of Contents :**\n",
    "1. `How zip() works`\n",
    "2. `Using zip() with Multiple Iterables`\n",
    "3. `Different Iterable Lengths`\n",
    "4. `Using zip() with Dictionaries`\n",
    "5. `Using zip() with Other Data Structures`\n",
    "6. `Unzipping the Result of zip()`\n",
    "7. `Looping through Iterables with zip()`\n",
    "8. `Application in Data Processing`\n",
    "9. `Conclusion`\n",
    "\n",
    "The `zip()` function in Python is one of the most useful built-in functions for combining elements from multiple iterables (such as a list, tuple, or range) into one new iterable. Each element of the resulting iterable is a tuple, which consists of elements at the same position from all the iterables passed into `zip()`.\n",
    "\n",
    "`zip()` makes an iterator that aggregates elements from each of the iterables.\n",
    "\n",
    "`zip()` returns an iterator of tuples, where the i-th tuple contains the i-th element from each of the argument sequences or iterables. The iterator stops when the shortest input iterable is exhausted. With a single iterable argument, it returns an iterator of 1-tuples. With no arguments, it returns an empty iterator.\n",
    "\n",
    "**The basic syntax of the `zip()` function is as follows:**\n",
    "```py\n",
    "zip(*iterables)\n",
    "```\n",
    "\n",
    "Here, ***iterables** means we can pass one or more iterables into the `zip()` function.\n",
    "\n",
    "`zip()` is equivalent to:\n",
    "```py\n",
    "def zip(*iterables):\n",
    "    # zip('ABCD', 'xy') --> Ax By\n",
    "    sentinel = object()\n",
    "    iterators = [iter(it) for it in iterables]\n",
    "    while iterators:\n",
    "        result = []\n",
    "        for it in iterators:\n",
    "            elem = next(it, sentinel)\n",
    "            if elem is sentinel:\n",
    "                return\n",
    "            result.append(elem)\n",
    "        yield tuple(result)\n",
    "```\n",
    "\n",
    "**zip()** should only be used with unequal length inputs when you don't care about the trailing elements of the longer iterable.\n",
    "\n",
    "Let's see it in action in some examples:"
   ]
  },
  {
   "cell_type": "markdown",
   "metadata": {},
   "source": [
    "## **How zip() works**\n",
    "\n",
    "The `zip()` function combines the elements of iterables based on their index. That is, the first element of all iterables will be merged, the second element of all iterables will be merged, and so on. The result is a new iterable containing the tuples."
   ]
  },
  {
   "cell_type": "markdown",
   "metadata": {},
   "source": [
    "**Simple Example**"
   ]
  },
  {
   "cell_type": "code",
   "execution_count": 10,
   "metadata": {},
   "outputs": [
    {
     "name": "stdout",
     "output_type": "stream",
     "text": [
      "[(1, 'a'), (2, 'b'), (3, 'c')]\n"
     ]
    }
   ],
   "source": [
    "x = [1,2,3]\n",
    "y = ['a', 'b', 'c']\n",
    "\n",
    "# Zip the lists together\n",
    "print(list(zip(x, y)))"
   ]
  },
  {
   "cell_type": "markdown",
   "metadata": {},
   "source": [
    "## **Using zip() with Multiple Iterables**\n",
    "`zip()` can be used with more than two iterables.\n",
    "\n",
    "**Example with Three Lists**"
   ]
  },
  {
   "cell_type": "code",
   "execution_count": 15,
   "metadata": {},
   "outputs": [
    {
     "name": "stdout",
     "output_type": "stream",
     "text": [
      "[(1, 'a', True), (2, 'b', False), (3, 'c', True)]\n"
     ]
    }
   ],
   "source": [
    "z = [True, False, True]\n",
    "\n",
    "print(list(zip(x, y, z)))"
   ]
  },
  {
   "cell_type": "markdown",
   "metadata": {},
   "source": [
    "## **Different Iterable Lengths**\n",
    "If the merged iterables have different lengths, `zip()` will stop when the shortest iterable has run out."
   ]
  },
  {
   "cell_type": "code",
   "execution_count": 11,
   "metadata": {},
   "outputs": [
    {
     "name": "stdout",
     "output_type": "stream",
     "text": [
      "[(1, 'a'), (2, 'b'), (3, 'c')]\n"
     ]
    }
   ],
   "source": [
    "x = [1,2,3]\n",
    "y = ['a', 'b', 'c', 'd', 'e']\n",
    "\n",
    "# Zip the lists together\n",
    "print(list(zip(x,y)))"
   ]
  },
  {
   "cell_type": "markdown",
   "metadata": {},
   "source": [
    "Note how the zip is defined by the shortest iterable length. Its generally advised not to zip unequal length iterables unless your very sure you only need partial tuple pairings."
   ]
  },
  {
   "cell_type": "markdown",
   "metadata": {},
   "source": [
    "## **Using zip() with Dictionaries**\n",
    "What happens if we try to zip together dictionaries?"
   ]
  },
  {
   "cell_type": "code",
   "execution_count": 12,
   "metadata": {},
   "outputs": [
    {
     "name": "stdout",
     "output_type": "stream",
     "text": [
      "[('a', 'c'), ('b', 'd')]\n"
     ]
    }
   ],
   "source": [
    "d1 = {'a':1,'b':2}\n",
    "d2 = {'c':4,'d':5}\n",
    "\n",
    "print(list(zip(d1, d2)))"
   ]
  },
  {
   "cell_type": "markdown",
   "metadata": {},
   "source": [
    "This makes sense because simply iterating through the dictionaries will result in just the keys. We would have to call methods to mix keys and values:"
   ]
  },
  {
   "cell_type": "code",
   "execution_count": 13,
   "metadata": {},
   "outputs": [
    {
     "name": "stdout",
     "output_type": "stream",
     "text": [
      "[('a', 4), ('b', 5)]\n"
     ]
    }
   ],
   "source": [
    "print(list(zip(d1,d2.values())))"
   ]
  },
  {
   "cell_type": "markdown",
   "metadata": {},
   "source": [
    "Great! Finally lets use `zip()` to switch the keys and values of the two dictionaries:"
   ]
  },
  {
   "cell_type": "code",
   "execution_count": 8,
   "metadata": {
    "collapsed": true
   },
   "outputs": [],
   "source": [
    "def switcharoo(d1,d2):\n",
    "    dout = {}\n",
    "    \n",
    "    for d1key, d2val in zip(d1, d2.values()):\n",
    "        dout[d1key] = d2val\n",
    "\n",
    "    return dout"
   ]
  },
  {
   "cell_type": "code",
   "execution_count": 14,
   "metadata": {},
   "outputs": [
    {
     "name": "stdout",
     "output_type": "stream",
     "text": [
      "{'a': 4, 'b': 5}\n"
     ]
    }
   ],
   "source": [
    "print(switcharoo(d1,d2))"
   ]
  },
  {
   "cell_type": "markdown",
   "metadata": {},
   "source": [
    "## **Using zip() with Other Data Structures**\n",
    "`zip()` is not limited to lists. You can use tuples, sets, or even a combination of iterables.\n",
    "\n",
    "**Example with List and Tuple**"
   ]
  },
  {
   "cell_type": "code",
   "execution_count": 16,
   "metadata": {},
   "outputs": [
    {
     "name": "stdout",
     "output_type": "stream",
     "text": [
      "[(1, 'x'), (2, 'y'), (3, 'z')]\n"
     ]
    }
   ],
   "source": [
    "list1 = [1,2,3]\n",
    "tuple1 = ('x', 'y', 'z')\n",
    "print(list(zip(list1, tuple1)))"
   ]
  },
  {
   "cell_type": "markdown",
   "metadata": {},
   "source": [
    "## **Unzipping the Result of zip()**\n",
    "You can unzip the result of `zip()` back into multiple iterables by using `zip(*zipped)`.\n",
    "\n",
    "**Unzipping Example**"
   ]
  },
  {
   "cell_type": "code",
   "execution_count": 39,
   "metadata": {},
   "outputs": [
    {
     "name": "stdout",
     "output_type": "stream",
     "text": [
      "[1, 2, 3]\n",
      "['a', 'b', 'c']\n"
     ]
    }
   ],
   "source": [
    "list1 = [1,2,3]\n",
    "list2 = ['a', 'b', 'c']\n",
    "\n",
    "zipped = zip(list1, list2)\n",
    "unzipped = zip(*zipped)\n",
    "\n",
    "list1_unzipped, list2_unzipped = unzipped\n",
    "\n",
    "print(list(list1_unzipped))\n",
    "print(list(list2_unzipped))"
   ]
  },
  {
   "cell_type": "markdown",
   "metadata": {},
   "source": [
    "## **Looping through Iterables with zip()**\n",
    "`zip()` is often used for looping through multiple iterables simultaneously.\n",
    "\n",
    "**Looping Example**"
   ]
  },
  {
   "cell_type": "code",
   "execution_count": 41,
   "metadata": {},
   "outputs": [
    {
     "name": "stdout",
     "output_type": "stream",
     "text": [
      "Alice scored 85\n",
      "Bob scored 90\n",
      "Charlie scored 95\n"
     ]
    }
   ],
   "source": [
    "names = [\"Alice\", \"Bob\", \"Charlie\"]\n",
    "scores = [85, 90, 95]\n",
    "\n",
    "for name, score in zip(names, scores):\n",
    "    print(f\"{name} scored {score}\")"
   ]
  },
  {
   "cell_type": "markdown",
   "metadata": {},
   "source": [
    "## **Application in Data Processing**\n",
    "The `zip()` function is often used in data processing, for example, to combine two lists that contain related data.\n",
    "\n",
    "**Data Processing Example**\n",
    "\n",
    "Suppose you have two lists: one contains the names of students and the other contains their grades."
   ]
  },
  {
   "cell_type": "code",
   "execution_count": 40,
   "metadata": {},
   "outputs": [
    {
     "name": "stdout",
     "output_type": "stream",
     "text": [
      "{'Alice': 85, 'Bob': 90, 'Charlie': 95}\n"
     ]
    }
   ],
   "source": [
    "names = [\"Alice\", \"Bob\", \"Charlie\"]\n",
    "scores = [85, 90, 95]\n",
    "\n",
    "print(dict(zip(names, scores)))"
   ]
  },
  {
   "cell_type": "markdown",
   "metadata": {},
   "source": [
    "In this example, `zip()` is used to create a dictionary that combines student names with their grades."
   ]
  },
  {
   "cell_type": "markdown",
   "metadata": {},
   "source": [
    "## **Conclusion**\n",
    "The `zip()` function is a very powerful tool in Python for combining multiple iterables into one. It is very useful in a variety of situations, including data processing, loop-based programming, and more. Understanding how `zip()` works and its applications will help you become more efficient in writing Python code."
   ]
  },
  {
   "cell_type": "markdown",
   "metadata": {},
   "source": [
    "Great! You can use zip to save a lot of typing in many situations! You should now have a good understanding of `zip()` and some possible use cases."
   ]
  }
 ],
 "metadata": {
  "kernelspec": {
   "display_name": "Python 3",
   "language": "python",
   "name": "python3"
  },
  "language_info": {
   "codemirror_mode": {
    "name": "ipython",
    "version": 3
   },
   "file_extension": ".py",
   "mimetype": "text/x-python",
   "name": "python",
   "nbconvert_exporter": "python",
   "pygments_lexer": "ipython3",
   "version": "3.12.4"
  }
 },
 "nbformat": 4,
 "nbformat_minor": 1
}
