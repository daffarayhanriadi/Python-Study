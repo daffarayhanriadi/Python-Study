{
 "cells": [
  {
   "cell_type": "markdown",
   "metadata": {},
   "source": [
    "# **map()**\n",
    "\n",
    "**Table of Contents :**\n",
    "1. `Basic Usage of map()`\n",
    "2. `Using map() with Multiple Iterables`\n",
    "3. `Using map() for Data Type Conversion`\n",
    "4. `Using map() with Built-in Functions`\n",
    "5. `How map() differs from List Comprehension`\n",
    "6. `Advantages of Using map()`\n",
    "7. `Performance Consideration`\n",
    "8. `Conclusion`\n",
    "\n",
    "`map()` is a built-in Python function that takes in two or more arguments: a function and one or more iterables.\n",
    "\n",
    "**The basic syntax of the `map()` function is as follows:**\n",
    "```py\n",
    "map(function, iterable, ...)\n",
    "```\n",
    "* **function**: The function that will be applied to each element of the iterable. This can be a pre-defined function, an anonymous function (lambda), or another built-in function.\n",
    "* **iterable:** An iterable object such as a list, tuple, set, or even an iterator object. map() can also accept multiple iterables (more than one), and in this case, the function must accept the same number of arguments as the given number of iterables.\n",
    "\n",
    "`map()` returns an ***iterator*** - that is, `map()` returns a special object that yields one result at a time as needed. We will learn more about iterators and generators in a future lecture. For now, since our examples are so small, we will cast `map()` as a list to see the results immediately.\n",
    "\n",
    "## **Basic Usage of map()**\n",
    "When we went over list comprehensions we created a small expression to convert Celsius to Fahrenheit. Let's do the same here but use map:"
   ]
  },
  {
   "cell_type": "code",
   "execution_count": 1,
   "metadata": {
    "collapsed": true
   },
   "outputs": [],
   "source": [
    "def fahrenheit(celsius):\n",
    "    return (9/5)*celsius + 32\n",
    "    \n",
    "celcius_temps = [0, 22.5, 40, 100]"
   ]
  },
  {
   "cell_type": "markdown",
   "metadata": {},
   "source": [
    "Now let's see map() in action:"
   ]
  },
  {
   "cell_type": "code",
   "execution_count": 2,
   "metadata": {},
   "outputs": [
    {
     "data": {
      "text/plain": [
       "[32.0, 72.5, 104.0, 212.0]"
      ]
     },
     "execution_count": 2,
     "metadata": {},
     "output_type": "execute_result"
    }
   ],
   "source": [
    "F_temps = map(fahrenheit, celcius_temps)\n",
    "\n",
    "#Show\n",
    "list(F_temps)"
   ]
  },
  {
   "cell_type": "markdown",
   "metadata": {},
   "source": [
    "In the example above, `map()` applies the fahrenheit function to every item in temps. However, we don't have to define our functions beforehand; we can use a lambda expression instead:"
   ]
  },
  {
   "cell_type": "code",
   "execution_count": 3,
   "metadata": {},
   "outputs": [
    {
     "data": {
      "text/plain": [
       "[32.0, 72.5, 104.0, 212.0]"
      ]
     },
     "execution_count": 3,
     "metadata": {},
     "output_type": "execute_result"
    }
   ],
   "source": [
    "list(map(lambda celsius: (9/5)*celsius + 32, celcius_temps))"
   ]
  },
  {
   "cell_type": "markdown",
   "metadata": {},
   "source": [
    "Great! We got the same result! Using map with lambda expressions is much more common since the entire purpose of `map()` is to save effort on having to create manual for loops."
   ]
  },
  {
   "cell_type": "markdown",
   "metadata": {},
   "source": [
    "**Another example:**"
   ]
  },
  {
   "cell_type": "code",
   "execution_count": 2,
   "metadata": {},
   "outputs": [
    {
     "name": "stdout",
     "output_type": "stream",
     "text": [
      "[2, 4, 6, 8, 10]\n"
     ]
    }
   ],
   "source": [
    "def multiply_by_two(num):\n",
    "    return num * 2\n",
    "\n",
    "numbers = [1,2,3,4,5]\n",
    "result = map(multiply_by_two, numbers)\n",
    "print(list(result))"
   ]
  },
  {
   "cell_type": "markdown",
   "metadata": {},
   "source": [
    "Using lambda"
   ]
  },
  {
   "cell_type": "code",
   "execution_count": 3,
   "metadata": {},
   "outputs": [
    {
     "name": "stdout",
     "output_type": "stream",
     "text": [
      "[2, 4, 6, 8, 10]\n"
     ]
    }
   ],
   "source": [
    "print(list(map(lambda num: num*2, numbers)))"
   ]
  },
  {
   "cell_type": "markdown",
   "metadata": {},
   "source": [
    "## **Using map() with Multiple Iterables**\n",
    "`map()` can accept more than one iterable. The iterables should be the same length - in the event that they are not, `map()` will stop as soon as the shortest iterable is exhausted.\n",
    "\n",
    "\n",
    "For instance, if our function is trying to add two values **x** and **y**, we can pass a list of **x** values and another list of **y** values to `map()`. The function (or lambda) will be fed the 0th index from each list, and then the 1st index, and so on until the n-th index is reached.\n",
    "\n",
    "Let's see this in action with two and then three lists:"
   ]
  },
  {
   "cell_type": "code",
   "execution_count": 7,
   "metadata": {},
   "outputs": [
    {
     "data": {
      "text/plain": [
       "[6, 8, 10, 12]"
      ]
     },
     "execution_count": 7,
     "metadata": {},
     "output_type": "execute_result"
    }
   ],
   "source": [
    "numbers1 = [1,2,3,4]\n",
    "numbers2 = [5,6,7,8]\n",
    "numbers3 = [9,10,11,12]\n",
    "\n",
    "list(map(lambda x, y: x + y, numbers1, numbers2))"
   ]
  },
  {
   "cell_type": "code",
   "execution_count": 8,
   "metadata": {},
   "outputs": [
    {
     "data": {
      "text/plain": [
       "[15, 18, 21, 24]"
      ]
     },
     "execution_count": 8,
     "metadata": {},
     "output_type": "execute_result"
    }
   ],
   "source": [
    "# Now all three lists\n",
    "list(map(lambda x, y, z: x + y + z, numbers1, numbers2, numbers3))"
   ]
  },
  {
   "cell_type": "markdown",
   "metadata": {},
   "source": [
    "We can see in the example above that the parameter **x** gets its values from the list **a**, while **y** gets its values from **b** and **z** from list **c**. Go ahead and play with your own example to make sure you fully understand mapping to more than one iterable.\n",
    "\n",
    "Great job! You should now have a basic understanding of the `map()` function."
   ]
  },
  {
   "cell_type": "markdown",
   "metadata": {},
   "source": [
    "## **Using map() for Data Type Conversion**\n",
    "\n",
    "We can also use `map()` for data type conversion across elements in an iterable.\n",
    "\n",
    "For example, converting a string list of numbers to an integer list:"
   ]
  },
  {
   "cell_type": "code",
   "execution_count": 4,
   "metadata": {},
   "outputs": [
    {
     "name": "stdout",
     "output_type": "stream",
     "text": [
      "[1, 2, 3, 4, 5]\n"
     ]
    }
   ],
   "source": [
    "str_numbers = [\"1\", \"2\", \"3\", \"4\", \"5\"]\n",
    "print(list(map(int, str_numbers)))"
   ]
  },
  {
   "cell_type": "markdown",
   "metadata": {},
   "source": [
    "## **Using map() with Built-in Functions**\n",
    "\n",
    "Some built-in functions are also often used with `map()`, such as **str.upper**, **str.lower**, etc.\n",
    "\n",
    "Example - Convert all strings in a list to uppercase:"
   ]
  },
  {
   "cell_type": "code",
   "execution_count": 5,
   "metadata": {},
   "outputs": [
    {
     "name": "stdout",
     "output_type": "stream",
     "text": [
      "['APPLE', 'BANANA', 'CHERRY']\n"
     ]
    }
   ],
   "source": [
    "words = [\"apple\", \"banana\", \"cherry\"]\n",
    "print(list(map(str.upper, words)))"
   ]
  },
  {
   "cell_type": "markdown",
   "metadata": {},
   "source": [
    "## **How map() differs from List Comprehension**\n",
    "\n",
    "`map()` is often compared to list comprehension because both can be used to generate a new list by applying a function to each element. However, there are key differences:\n",
    "\n",
    "* `map()` returns a map object that must be converted to a list or tuple if you want to manipulate the result directly.\n",
    "* `List comprehension` returns a list directly and is more readable for some users.\n",
    "Example:\n",
    "\n",
    "With `map()`:"
   ]
  },
  {
   "cell_type": "code",
   "execution_count": 6,
   "metadata": {},
   "outputs": [
    {
     "name": "stdout",
     "output_type": "stream",
     "text": [
      "[2, 4, 6, 8, 10]\n"
     ]
    }
   ],
   "source": [
    "print(list(map(lambda x: x * 2, numbers)))"
   ]
  },
  {
   "cell_type": "markdown",
   "metadata": {},
   "source": [
    "With `List comprehension`"
   ]
  },
  {
   "cell_type": "code",
   "execution_count": 7,
   "metadata": {},
   "outputs": [
    {
     "name": "stdout",
     "output_type": "stream",
     "text": [
      "[2, 4, 6, 8, 10]\n"
     ]
    }
   ],
   "source": [
    "print([x * 2 for x in numbers])"
   ]
  },
  {
   "cell_type": "markdown",
   "metadata": {},
   "source": [
    "## **Advantages of Using map()**\n",
    "\n",
    "* **Efficiency:** `map()` is more efficient than regular loops in Python because it works with iterators.\n",
    "* **More Concise Writing:** Using `map()` with lambda can make the code more concise and easier to read, especially for simple operations."
   ]
  },
  {
   "cell_type": "markdown",
   "metadata": {},
   "source": [
    "## **Performance Consideration**\n",
    "\n",
    "`map()` is a very efficient tool for applications where you don't need to process all the results at once, as it returns a lazy computed iterator. However, if you need all the results at once, list comprehension may be preferable as it is more readable and often faster for simple applications."
   ]
  },
  {
   "cell_type": "markdown",
   "metadata": {},
   "source": [
    "## **Conclusion**\n",
    "\n",
    "The `map()` function is very useful for applying a function to each item of an iterable without the need to write an explicit loop. By understanding how to use it, you can write Python code that is more efficient and easier to understand."
   ]
  }
 ],
 "metadata": {
  "kernelspec": {
   "display_name": "Python 3",
   "language": "python",
   "name": "python3"
  },
  "language_info": {
   "codemirror_mode": {
    "name": "ipython",
    "version": 3
   },
   "file_extension": ".py",
   "mimetype": "text/x-python",
   "name": "python",
   "nbconvert_exporter": "python",
   "pygments_lexer": "ipython3",
   "version": "3.12.4"
  }
 },
 "nbformat": 4,
 "nbformat_minor": 1
}
