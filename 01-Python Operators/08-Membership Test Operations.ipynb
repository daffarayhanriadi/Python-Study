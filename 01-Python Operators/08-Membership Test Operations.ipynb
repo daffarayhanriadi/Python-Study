{
 "cells": [
  {
   "cell_type": "markdown",
   "metadata": {},
   "source": [
    "# **Membership Test Operations**\n",
    "\n",
    "**Table of Contents :**\n",
    "1. `in`\n",
    "2. `not in`"
   ]
  }
 ],
 "metadata": {
  "language_info": {
   "name": "python"
  }
 },
 "nbformat": 4,
 "nbformat_minor": 2
}
