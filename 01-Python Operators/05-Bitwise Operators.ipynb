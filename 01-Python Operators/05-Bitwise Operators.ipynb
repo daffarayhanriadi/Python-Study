{
 "cells": [
  {
   "cell_type": "markdown",
   "metadata": {},
   "source": [
    "## **Bitwise Operators**\n",
    "\n",
    "    The bitwise operator in Python is used to perform operations on the bits of an integer number.\n",
    "\n",
    "The bitwise operator is a powerful and flexible tool in programming, allowing direct manipulation of the bits of data. It is very useful in a variety of applications ranging from systems programming and hardware development to optimized algorithms and data processing.\n",
    "\n",
    "---"
   ]
  },
  {
   "cell_type": "markdown",
   "metadata": {},
   "source": [
    "**AND (`&`)**\n",
    "\n",
    "    Compares each bit of two numbers. If both bits are 1, then the result is 1, otherwise it is 0.\n",
    "\n"
   ]
  },
  {
   "cell_type": "code",
   "execution_count": 10,
   "metadata": {},
   "outputs": [
    {
     "name": "stdout",
     "output_type": "stream",
     "text": [
      "value = 5 , binary = 00000101\n",
      "value = 3 , binary = 00000011\n",
      "-----------------------------(&)\n",
      "value = 1 , binary = 00000001\n"
     ]
    }
   ],
   "source": [
    "a = 5\n",
    "b = 3\n",
    "result = a & b\n",
    "\n",
    "print(\"value =\", a, \", binary =\", format(a, \"08b\"))\n",
    "print(\"value =\", b, \", binary =\", format(b, \"08b\"))\n",
    "print(\"-----------------------------(&)\")\n",
    "print(\"value =\", result, \", binary =\", format(result, \"08b\"))"
   ]
  },
  {
   "cell_type": "markdown",
   "metadata": {},
   "source": [
    "**OR (`|`)**\n",
    "\n",
    "    Compares each bit of two numbers. If one bit is 1, then the result is 1."
   ]
  },
  {
   "cell_type": "code",
   "execution_count": 12,
   "metadata": {},
   "outputs": [
    {
     "name": "stdout",
     "output_type": "stream",
     "text": [
      "value = 5 , binary = 00000101\n",
      "value = 3 , binary = 00000011\n",
      "-----------------------------(|)\n",
      "value = 7 , binary = 00000111\n"
     ]
    }
   ],
   "source": [
    "result = a | b  # Hasil: 7 (0b0111)\n",
    "\n",
    "print(\"value =\", a, \", binary =\", format(a, \"08b\"))\n",
    "print(\"value =\", b, \", binary =\", format(b, \"08b\"))\n",
    "print(\"-----------------------------(|)\")\n",
    "print(\"value =\", result, \", binary =\", format(result, \"08b\"))"
   ]
  },
  {
   "cell_type": "markdown",
   "metadata": {},
   "source": [
    "**XOR (`^`)**\n",
    "\n",
    "    Compares each bit of two numbers. If one bit is 1 and the other 0, then the result is 1."
   ]
  },
  {
   "cell_type": "code",
   "execution_count": 13,
   "metadata": {},
   "outputs": [
    {
     "name": "stdout",
     "output_type": "stream",
     "text": [
      "value = 5 , binary = 00000101\n",
      "value = 3 , binary = 00000011\n",
      "-----------------------------(^)\n",
      "value = 6 , binary = 00000110\n"
     ]
    }
   ],
   "source": [
    "result = a ^ b\n",
    "\n",
    "print(\"value =\", a, \", binary =\", format(a, \"08b\"))\n",
    "print(\"value =\", b, \", binary =\", format(b, \"08b\"))\n",
    "print(\"-----------------------------(^)\")\n",
    "print(\"value =\", result, \", binary =\", format(result, \"08b\"))"
   ]
  },
  {
   "cell_type": "markdown",
   "metadata": {},
   "source": [
    "**NOT (`~`)**\n",
    "\n",
    "    Inverts all bits of a number (changing each bit). Uses 2's complement representation for negative numbers."
   ]
  },
  {
   "cell_type": "code",
   "execution_count": 21,
   "metadata": {},
   "outputs": [
    {
     "name": "stdout",
     "output_type": "stream",
     "text": [
      "value = 5 , binary =  00000101\n",
      "------------------------------(~)\n",
      "value = -6 , binary = -0000110\n"
     ]
    }
   ],
   "source": [
    "result = ~a\n",
    "\n",
    "print(\"value =\", a, \", binary = \", format(a, \"08b\"))\n",
    "print(\"------------------------------(~)\")\n",
    "print(\"value =\", result, \", binary =\", format(result, \"08b\"))"
   ]
  },
  {
   "cell_type": "markdown",
   "metadata": {},
   "source": [
    "**Left Shift (`<<`)**\n",
    "\n",
    "    Shifts the bit to the LEFT by n positions and fills in the empty place with 0. Each shift to the left is equivalent to multiplying the number by 2."
   ]
  },
  {
   "cell_type": "code",
   "execution_count": 25,
   "metadata": {},
   "outputs": [
    {
     "name": "stdout",
     "output_type": "stream",
     "text": [
      "value = 5 , binary =  00000101\n",
      "------------------------------(<< 1)\n",
      "value = 10 , binary = 00001010\n"
     ]
    }
   ],
   "source": [
    "result = a << 1\n",
    "\n",
    "print(\"value =\", a, \", binary = \", format(a, \"08b\"))\n",
    "print(\"------------------------------(<< 1)\")\n",
    "print(\"value =\", result, \", binary =\", format(result, \"08b\"))"
   ]
  },
  {
   "cell_type": "markdown",
   "metadata": {},
   "source": [
    "**Right Shift (`>>`)**\n",
    "\n",
    "    Shifts the bit to the RIGHT by n positions and fills with 0 in the empty place for positive numbers (fills with 1 for negative numbers). Each shift to the right is equivalent to dividing the number by 2."
   ]
  },
  {
   "cell_type": "code",
   "execution_count": 20,
   "metadata": {},
   "outputs": [
    {
     "name": "stdout",
     "output_type": "stream",
     "text": [
      "value = 5 , binary = 00000101\n",
      "-----------------------------(>> 1)\n",
      "value = 2 , binary = 00000010\n"
     ]
    }
   ],
   "source": [
    "result = a >> 1\n",
    "\n",
    "print(\"value =\", a, \", binary =\", format(a, \"08b\"))\n",
    "print(\"-----------------------------(>> 1)\")\n",
    "print(\"value =\", result, \", binary =\", format(result, \"08b\"))"
   ]
  },
  {
   "cell_type": "markdown",
   "metadata": {},
   "source": [
    "**Flip (Not)**"
   ]
  },
  {
   "cell_type": "code",
   "execution_count": 31,
   "metadata": {},
   "outputs": [
    {
     "name": "stdout",
     "output_type": "stream",
     "text": [
      "value = 9 , binary =  00001001\n",
      "------------------------------(^)\n",
      "value = 1014 , binary =  1111110110\n"
     ]
    }
   ],
   "source": [
    "c = 0b0000001001\n",
    "d = 0b1111111111\n",
    "result = c ^ d\n",
    "\n",
    "print(\"value =\", c, \", binary = \", format(c, \"08b\"))\n",
    "# print(\"value =\", a, \", binary = \", format(a, \"08b\"))\n",
    "print(\"------------------------------(^)\")\n",
    "print(\"value =\", result, \", binary = \", format(result, \"08b\"))"
   ]
  },
  {
   "cell_type": "markdown",
   "metadata": {},
   "source": [
    "**Practical Case Study**\n",
    "\n",
    "Suppose we want to check whether a number is odd or even using bitwise `AND`:"
   ]
  },
  {
   "cell_type": "code",
   "execution_count": 24,
   "metadata": {},
   "outputs": [
    {
     "name": "stdout",
     "output_type": "stream",
     "text": [
      "True\n",
      "False\n"
     ]
    }
   ],
   "source": [
    "def is_even(n):\n",
    "    return (n & 1) == 0\n",
    "\n",
    "print(is_even(4))  # Output: True\n",
    "print(is_even(7))  # Output: False\n"
   ]
  },
  {
   "cell_type": "markdown",
   "metadata": {},
   "source": [
    "Bitwise operators are very useful in many applications, such as systems programming, cryptography, data compression, and graphics manipulation. By understanding how they work, you can write more efficient and faster code in some specific cases."
   ]
  }
 ],
 "metadata": {
  "kernelspec": {
   "display_name": ".venv",
   "language": "python",
   "name": "python3"
  },
  "language_info": {
   "codemirror_mode": {
    "name": "ipython",
    "version": 3
   },
   "file_extension": ".py",
   "mimetype": "text/x-python",
   "name": "python",
   "nbconvert_exporter": "python",
   "pygments_lexer": "ipython3",
   "version": "3.9.2"
  }
 },
 "nbformat": 4,
 "nbformat_minor": 2
}
