{
 "cells": [
  {
   "cell_type": "markdown",
   "metadata": {},
   "source": [
    "## **Identity Operation**\n",
    "\n",
    "    The identity operation is used to check if two objects are the same object in memory."
   ]
  },
  {
   "cell_type": "markdown",
   "metadata": {},
   "source": [
    "**Identity (`is` and `is not`):**\n",
    "\n",
    "* Used to check if two variables refer to the same object in memory.\n",
    "* `is` returns `True` if both variables point to the same object, otherwise `False`.\n",
    "* `is not` returns `True` if the two variables point to different objects, otherwise `False`.\n",
    "\n",
    "---"
   ]
  },
  {
   "cell_type": "markdown",
   "metadata": {},
   "source": [
    "**`is` Operator**\n",
    "\n",
    "**Checks whether two variables refer to the same object.**"
   ]
  },
  {
   "cell_type": "code",
   "execution_count": 22,
   "metadata": {},
   "outputs": [
    {
     "name": "stdout",
     "output_type": "stream",
     "text": [
      "value = [1, 2, 3] , id = 0x1b3aa973100\n",
      "value = [1, 2, 3] , id = 0x1b3aa975cc0\n",
      "\n",
      "a is b = True\n",
      "a is c = False\n"
     ]
    }
   ],
   "source": [
    "a = [1, 2, 3]\n",
    "b = a\n",
    "c = [1, 2, 3]\n",
    "\n",
    "print(\"value =\", a, \", id =\", hex(id(a)))\n",
    "print(\"value =\", c, \", id =\", hex(id(c)))\n",
    "\n",
    "print(\"\\na is b =\", a is b)  # Output: True (a dan b merujuk ke objek yang sama)\n",
    "print(\"a is c =\", a is c)  # Output: False (a dan c merujuk ke objek yang berbeda meskipun nilainya sama)"
   ]
  },
  {
   "cell_type": "markdown",
   "metadata": {},
   "source": [
    "**`is not` Operator**\n",
    "    \n",
    "**Checks whether two variables do not refer to the same object.**"
   ]
  },
  {
   "cell_type": "code",
   "execution_count": 21,
   "metadata": {},
   "outputs": [
    {
     "name": "stdout",
     "output_type": "stream",
     "text": [
      "value = [1, 2, 3] , id = 0x1b3aa9b0c80\n",
      "value = [1, 2, 3] , id = 0x1b3aa9bd3c0\n",
      "\n",
      "a is no b = False\n",
      "a is no c = True\n"
     ]
    }
   ],
   "source": [
    "a = [1, 2, 3]\n",
    "b = a\n",
    "c = [1, 2, 3]\n",
    "\n",
    "print(\"value =\", a, \", id =\", hex(id(a)))\n",
    "print(\"value =\", c, \", id =\", hex(id(c)))\n",
    "\n",
    "print(\"\\na is no b =\", a is not b)  # Output: False (a dan b merujuk ke objek yang sama)\n",
    "print(\"a is no c =\", a is not c)  # Output: True (a dan c merujuk ke objek yang berbeda)"
   ]
  },
  {
   "cell_type": "markdown",
   "metadata": {},
   "source": [
    "**Examples of Use in Context**\n",
    "\n",
    "Identity to Check Objects:"
   ]
  },
  {
   "cell_type": "code",
   "execution_count": 3,
   "metadata": {},
   "outputs": [
    {
     "name": "stdout",
     "output_type": "stream",
     "text": [
      "a and b refer to the same object.\n",
      "a and c refer to different objects.\n"
     ]
    }
   ],
   "source": [
    "a = [1, 2, 3]\n",
    "b = a\n",
    "c = [1, 2, 3]\n",
    "\n",
    "if a is b:\n",
    "    print(\"a and b refer to the same object.\")\n",
    "else:\n",
    "    print(\"a and b refer to different objects.\")\n",
    "\n",
    "if a is not c:\n",
    "    print(\"a and c refer to different objects.\")\n",
    "else:\n",
    "    print(\"a and c refer to the same object.\")"
   ]
  }
 ],
 "metadata": {
  "kernelspec": {
   "display_name": ".venv",
   "language": "python",
   "name": "python3"
  },
  "language_info": {
   "codemirror_mode": {
    "name": "ipython",
    "version": 3
   },
   "file_extension": ".py",
   "mimetype": "text/x-python",
   "name": "python",
   "nbconvert_exporter": "python",
   "pygments_lexer": "ipython3",
   "version": "3.9.2"
  }
 },
 "nbformat": 4,
 "nbformat_minor": 2
}
